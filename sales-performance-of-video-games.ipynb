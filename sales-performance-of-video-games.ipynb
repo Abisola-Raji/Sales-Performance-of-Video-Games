{
 "cells": [
  {
   "cell_type": "markdown",
   "metadata": {},
   "source": [
    "# COMPONENT TWO: Sales Performance of Video Games"
   ]
  },
  {
   "cell_type": "code",
   "execution_count": 1,
   "metadata": {
    "_cell_guid": "b1076dfc-b9ad-4769-8c92-a6c4dae69d19",
    "_uuid": "8f2839f25d086af736a60e9eeb907d3b93b6e0e5",
    "execution": {
     "iopub.execute_input": "2023-09-11T14:52:57.700041Z",
     "iopub.status.busy": "2023-09-11T14:52:57.699623Z",
     "iopub.status.idle": "2023-09-11T14:52:58.190992Z",
     "shell.execute_reply": "2023-09-11T14:52:58.190125Z",
     "shell.execute_reply.started": "2023-09-11T14:52:57.700008Z"
    }
   },
   "outputs": [
    {
     "name": "stdout",
     "output_type": "stream",
     "text": [
      "/kaggle/input/video-games-sales-dataset-2022-updated-extra-feat/Video_Games.csv\n"
     ]
    }
   ],
   "source": [
    "# This Python 3 environment comes with many helpful analytics libraries installed\n",
    "# It is defined by the kaggle/python Docker image: https://github.com/kaggle/docker-python\n",
    "# For example, here's several helpful packages to load\n",
    "\n",
    "import numpy as np # linear algebra\n",
    "import pandas as pd # data processing, CSV file I/O (e.g. pd.read_csv)\n",
    "\n",
    "# Input data files are available in the read-only \"../input/\" directory\n",
    "# For example, running this (by clicking run or pressing Shift+Enter) will list all files under the input directory\n",
    "\n",
    "import os\n",
    "for dirname, _, filenames in os.walk('/kaggle/input'):\n",
    "    for filename in filenames:\n",
    "        print(os.path.join(dirname, filename))\n",
    "\n",
    "# You can write up to 20GB to the current directory (/kaggle/working/) that gets preserved as output when you create a version using \"Save & Run All\" \n",
    "# You can also write temporary files to /kaggle/temp/, but they won't be saved outside of the current session"
   ]
  },
  {
   "cell_type": "markdown",
   "metadata": {},
   "source": [
    "#### Dataset Importation"
   ]
  },
  {
   "cell_type": "code",
   "execution_count": 2,
   "metadata": {
    "execution": {
     "iopub.execute_input": "2023-09-11T14:52:58.851480Z",
     "iopub.status.busy": "2023-09-11T14:52:58.850693Z",
     "iopub.status.idle": "2023-09-11T14:52:58.951195Z",
     "shell.execute_reply": "2023-09-11T14:52:58.950221Z",
     "shell.execute_reply.started": "2023-09-11T14:52:58.851441Z"
    }
   },
   "outputs": [],
   "source": [
    "\n",
    "#Data importation\n",
    "sales = pd.read_csv(\"/kaggle/input/video-games-sales-dataset-2022-updated-extra-feat/Video_Games.csv\")"
   ]
  },
  {
   "cell_type": "code",
   "execution_count": 3,
   "metadata": {
    "execution": {
     "iopub.execute_input": "2023-09-11T14:52:59.651970Z",
     "iopub.status.busy": "2023-09-11T14:52:59.651624Z",
     "iopub.status.idle": "2023-09-11T14:52:59.685798Z",
     "shell.execute_reply": "2023-09-11T14:52:59.684746Z",
     "shell.execute_reply.started": "2023-09-11T14:52:59.651942Z"
    }
   },
   "outputs": [
    {
     "data": {
      "text/html": [
       "<div>\n",
       "<style scoped>\n",
       "    .dataframe tbody tr th:only-of-type {\n",
       "        vertical-align: middle;\n",
       "    }\n",
       "\n",
       "    .dataframe tbody tr th {\n",
       "        vertical-align: top;\n",
       "    }\n",
       "\n",
       "    .dataframe thead th {\n",
       "        text-align: right;\n",
       "    }\n",
       "</style>\n",
       "<table border=\"1\" class=\"dataframe\">\n",
       "  <thead>\n",
       "    <tr style=\"text-align: right;\">\n",
       "      <th></th>\n",
       "      <th>Name</th>\n",
       "      <th>Platform</th>\n",
       "      <th>Year_of_Release</th>\n",
       "      <th>Genre</th>\n",
       "      <th>Publisher</th>\n",
       "      <th>NA_Sales</th>\n",
       "      <th>EU_Sales</th>\n",
       "      <th>JP_Sales</th>\n",
       "      <th>Other_Sales</th>\n",
       "      <th>Global_Sales</th>\n",
       "      <th>Critic_Score</th>\n",
       "      <th>Critic_Count</th>\n",
       "      <th>User_Score</th>\n",
       "      <th>User_Count</th>\n",
       "      <th>Developer</th>\n",
       "      <th>Rating</th>\n",
       "    </tr>\n",
       "  </thead>\n",
       "  <tbody>\n",
       "    <tr>\n",
       "      <th>0</th>\n",
       "      <td>Wii Sports</td>\n",
       "      <td>Wii</td>\n",
       "      <td>2006.0</td>\n",
       "      <td>Sports</td>\n",
       "      <td>Nintendo</td>\n",
       "      <td>41.36</td>\n",
       "      <td>28.96</td>\n",
       "      <td>3.77</td>\n",
       "      <td>8.45</td>\n",
       "      <td>82.53</td>\n",
       "      <td>76.0</td>\n",
       "      <td>51.0</td>\n",
       "      <td>8</td>\n",
       "      <td>322.0</td>\n",
       "      <td>Nintendo</td>\n",
       "      <td>E</td>\n",
       "    </tr>\n",
       "    <tr>\n",
       "      <th>1</th>\n",
       "      <td>Super Mario Bros.</td>\n",
       "      <td>NES</td>\n",
       "      <td>1985.0</td>\n",
       "      <td>Platform</td>\n",
       "      <td>Nintendo</td>\n",
       "      <td>29.08</td>\n",
       "      <td>3.58</td>\n",
       "      <td>6.81</td>\n",
       "      <td>0.77</td>\n",
       "      <td>40.24</td>\n",
       "      <td>NaN</td>\n",
       "      <td>NaN</td>\n",
       "      <td>NaN</td>\n",
       "      <td>NaN</td>\n",
       "      <td>NaN</td>\n",
       "      <td>NaN</td>\n",
       "    </tr>\n",
       "    <tr>\n",
       "      <th>2</th>\n",
       "      <td>Mario Kart Wii</td>\n",
       "      <td>Wii</td>\n",
       "      <td>2008.0</td>\n",
       "      <td>Racing</td>\n",
       "      <td>Nintendo</td>\n",
       "      <td>15.68</td>\n",
       "      <td>12.76</td>\n",
       "      <td>3.79</td>\n",
       "      <td>3.29</td>\n",
       "      <td>35.52</td>\n",
       "      <td>82.0</td>\n",
       "      <td>73.0</td>\n",
       "      <td>8.3</td>\n",
       "      <td>709.0</td>\n",
       "      <td>Nintendo</td>\n",
       "      <td>E</td>\n",
       "    </tr>\n",
       "    <tr>\n",
       "      <th>3</th>\n",
       "      <td>Wii Sports Resort</td>\n",
       "      <td>Wii</td>\n",
       "      <td>2009.0</td>\n",
       "      <td>Sports</td>\n",
       "      <td>Nintendo</td>\n",
       "      <td>15.61</td>\n",
       "      <td>10.93</td>\n",
       "      <td>3.28</td>\n",
       "      <td>2.95</td>\n",
       "      <td>32.77</td>\n",
       "      <td>80.0</td>\n",
       "      <td>73.0</td>\n",
       "      <td>8</td>\n",
       "      <td>192.0</td>\n",
       "      <td>Nintendo</td>\n",
       "      <td>E</td>\n",
       "    </tr>\n",
       "    <tr>\n",
       "      <th>4</th>\n",
       "      <td>Pokemon Red/Pokemon Blue</td>\n",
       "      <td>GB</td>\n",
       "      <td>1996.0</td>\n",
       "      <td>Role-Playing</td>\n",
       "      <td>Nintendo</td>\n",
       "      <td>11.27</td>\n",
       "      <td>8.89</td>\n",
       "      <td>10.22</td>\n",
       "      <td>1.00</td>\n",
       "      <td>31.37</td>\n",
       "      <td>NaN</td>\n",
       "      <td>NaN</td>\n",
       "      <td>NaN</td>\n",
       "      <td>NaN</td>\n",
       "      <td>NaN</td>\n",
       "      <td>NaN</td>\n",
       "    </tr>\n",
       "  </tbody>\n",
       "</table>\n",
       "</div>"
      ],
      "text/plain": [
       "                       Name Platform  Year_of_Release         Genre Publisher  \\\n",
       "0                Wii Sports      Wii           2006.0        Sports  Nintendo   \n",
       "1         Super Mario Bros.      NES           1985.0      Platform  Nintendo   \n",
       "2            Mario Kart Wii      Wii           2008.0        Racing  Nintendo   \n",
       "3         Wii Sports Resort      Wii           2009.0        Sports  Nintendo   \n",
       "4  Pokemon Red/Pokemon Blue       GB           1996.0  Role-Playing  Nintendo   \n",
       "\n",
       "   NA_Sales  EU_Sales  JP_Sales  Other_Sales  Global_Sales  Critic_Score  \\\n",
       "0     41.36     28.96      3.77         8.45         82.53          76.0   \n",
       "1     29.08      3.58      6.81         0.77         40.24           NaN   \n",
       "2     15.68     12.76      3.79         3.29         35.52          82.0   \n",
       "3     15.61     10.93      3.28         2.95         32.77          80.0   \n",
       "4     11.27      8.89     10.22         1.00         31.37           NaN   \n",
       "\n",
       "   Critic_Count User_Score  User_Count Developer Rating  \n",
       "0          51.0          8       322.0  Nintendo      E  \n",
       "1           NaN        NaN         NaN       NaN    NaN  \n",
       "2          73.0        8.3       709.0  Nintendo      E  \n",
       "3          73.0          8       192.0  Nintendo      E  \n",
       "4           NaN        NaN         NaN       NaN    NaN  "
      ]
     },
     "execution_count": 3,
     "metadata": {},
     "output_type": "execute_result"
    }
   ],
   "source": [
    "sales.head(5)"
   ]
  },
  {
   "cell_type": "code",
   "execution_count": 4,
   "metadata": {
    "execution": {
     "iopub.execute_input": "2023-09-11T14:53:00.099877Z",
     "iopub.status.busy": "2023-09-11T14:53:00.099539Z",
     "iopub.status.idle": "2023-09-11T14:53:00.106596Z",
     "shell.execute_reply": "2023-09-11T14:53:00.105454Z",
     "shell.execute_reply.started": "2023-09-11T14:53:00.099851Z"
    }
   },
   "outputs": [
    {
     "data": {
      "text/plain": [
       "(16719, 16)"
      ]
     },
     "execution_count": 4,
     "metadata": {},
     "output_type": "execute_result"
    }
   ],
   "source": [
    "sales.shape"
   ]
  },
  {
   "cell_type": "code",
   "execution_count": 5,
   "metadata": {
    "execution": {
     "iopub.execute_input": "2023-09-11T14:53:02.316927Z",
     "iopub.status.busy": "2023-09-11T14:53:02.316085Z",
     "iopub.status.idle": "2023-09-11T14:53:02.342300Z",
     "shell.execute_reply": "2023-09-11T14:53:02.341149Z",
     "shell.execute_reply.started": "2023-09-11T14:53:02.316885Z"
    }
   },
   "outputs": [
    {
     "data": {
      "text/plain": [
       "Name                  2\n",
       "Platform              0\n",
       "Year_of_Release     269\n",
       "Genre                 2\n",
       "Publisher            54\n",
       "NA_Sales              0\n",
       "EU_Sales              0\n",
       "JP_Sales              0\n",
       "Other_Sales           0\n",
       "Global_Sales          0\n",
       "Critic_Score       8582\n",
       "Critic_Count       8582\n",
       "User_Score         6704\n",
       "User_Count         9129\n",
       "Developer          6623\n",
       "Rating             6769\n",
       "dtype: int64"
      ]
     },
     "execution_count": 5,
     "metadata": {},
     "output_type": "execute_result"
    }
   ],
   "source": [
    "#Checking for missing data\n",
    "\n",
    "sales.isna().sum()"
   ]
  },
  {
   "cell_type": "code",
   "execution_count": 6,
   "metadata": {
    "execution": {
     "iopub.execute_input": "2023-09-11T14:53:02.862319Z",
     "iopub.status.busy": "2023-09-11T14:53:02.861646Z",
     "iopub.status.idle": "2023-09-11T14:53:02.890703Z",
     "shell.execute_reply": "2023-09-11T14:53:02.889648Z",
     "shell.execute_reply.started": "2023-09-11T14:53:02.862287Z"
    }
   },
   "outputs": [
    {
     "data": {
      "text/plain": [
       "Name               11562\n",
       "Platform              31\n",
       "Year_of_Release       39\n",
       "Genre                 12\n",
       "Publisher            581\n",
       "NA_Sales             402\n",
       "EU_Sales             307\n",
       "JP_Sales             244\n",
       "Other_Sales          155\n",
       "Global_Sales         629\n",
       "Critic_Score          82\n",
       "Critic_Count         106\n",
       "User_Score            96\n",
       "User_Count           888\n",
       "Developer           1696\n",
       "Rating                 8\n",
       "dtype: int64"
      ]
     },
     "execution_count": 6,
     "metadata": {},
     "output_type": "execute_result"
    }
   ],
   "source": [
    "# Checking the unique count \n",
    "\n",
    "sales.nunique()"
   ]
  },
  {
   "cell_type": "code",
   "execution_count": 7,
   "metadata": {
    "execution": {
     "iopub.execute_input": "2023-09-11T14:53:03.292413Z",
     "iopub.status.busy": "2023-09-11T14:53:03.292034Z",
     "iopub.status.idle": "2023-09-11T14:53:03.327089Z",
     "shell.execute_reply": "2023-09-11T14:53:03.326142Z",
     "shell.execute_reply.started": "2023-09-11T14:53:03.292384Z"
    }
   },
   "outputs": [
    {
     "name": "stdout",
     "output_type": "stream",
     "text": [
      "\n",
      "Duplicated rows:\n",
      "0\n"
     ]
    }
   ],
   "source": [
    "#checking duplicate\n",
    "duplicates = sales.duplicated()\n",
    "\n",
    "print(\"\\nDuplicated rows:\")\n",
    "print(duplicates.sum())\n"
   ]
  },
  {
   "cell_type": "markdown",
   "metadata": {},
   "source": [
    "No dublicate in the dataset"
   ]
  },
  {
   "cell_type": "markdown",
   "metadata": {},
   "source": [
    "## Exploratory Data Analysis"
   ]
  },
  {
   "cell_type": "code",
   "execution_count": 8,
   "metadata": {
    "execution": {
     "iopub.execute_input": "2023-09-11T14:53:05.866346Z",
     "iopub.status.busy": "2023-09-11T14:53:05.865781Z",
     "iopub.status.idle": "2023-09-11T14:53:06.996882Z",
     "shell.execute_reply": "2023-09-11T14:53:06.995936Z",
     "shell.execute_reply.started": "2023-09-11T14:53:05.866315Z"
    }
   },
   "outputs": [
    {
     "name": "stderr",
     "output_type": "stream",
     "text": [
      "/opt/conda/lib/python3.10/site-packages/scipy/__init__.py:146: UserWarning: A NumPy version >=1.16.5 and <1.23.0 is required for this version of SciPy (detected version 1.23.5\n",
      "  warnings.warn(f\"A NumPy version >={np_minversion} and <{np_maxversion}\"\n"
     ]
    }
   ],
   "source": [
    "import matplotlib.pyplot as plt\n",
    "import seaborn as sns"
   ]
  },
  {
   "cell_type": "code",
   "execution_count": 9,
   "metadata": {
    "execution": {
     "iopub.execute_input": "2023-09-11T14:53:06.999139Z",
     "iopub.status.busy": "2023-09-11T14:53:06.998789Z",
     "iopub.status.idle": "2023-09-11T14:53:07.007517Z",
     "shell.execute_reply": "2023-09-11T14:53:07.006524Z",
     "shell.execute_reply.started": "2023-09-11T14:53:06.999106Z"
    }
   },
   "outputs": [],
   "source": [
    "sale = sales.copy() # Creating a copy of the data"
   ]
  },
  {
   "cell_type": "code",
   "execution_count": 10,
   "metadata": {
    "execution": {
     "iopub.execute_input": "2023-09-11T14:53:07.009453Z",
     "iopub.status.busy": "2023-09-11T14:53:07.008931Z",
     "iopub.status.idle": "2023-09-11T14:53:07.016881Z",
     "shell.execute_reply": "2023-09-11T14:53:07.016010Z",
     "shell.execute_reply.started": "2023-09-11T14:53:07.009420Z"
    }
   },
   "outputs": [
    {
     "data": {
      "text/plain": [
       "Index(['Name', 'Platform', 'Year_of_Release', 'Genre', 'Publisher', 'NA_Sales',\n",
       "       'EU_Sales', 'JP_Sales', 'Other_Sales', 'Global_Sales', 'Critic_Score',\n",
       "       'Critic_Count', 'User_Score', 'User_Count', 'Developer', 'Rating'],\n",
       "      dtype='object')"
      ]
     },
     "execution_count": 10,
     "metadata": {},
     "output_type": "execute_result"
    }
   ],
   "source": [
    "sale.columns"
   ]
  },
  {
   "cell_type": "code",
   "execution_count": 11,
   "metadata": {
    "execution": {
     "iopub.execute_input": "2023-09-11T14:53:07.021504Z",
     "iopub.status.busy": "2023-09-11T14:53:07.018818Z",
     "iopub.status.idle": "2023-09-11T14:53:07.513264Z",
     "shell.execute_reply": "2023-09-11T14:53:07.512308Z",
     "shell.execute_reply.started": "2023-09-11T14:53:07.021473Z"
    }
   },
   "outputs": [
    {
     "data": {
      "text/plain": [
       "Text(0, 0.5, 'Count')"
      ]
     },
     "execution_count": 11,
     "metadata": {},
     "output_type": "execute_result"
    },
    {
     "data": {
      "image/png": "[encoded data removed]",
      "text/plain": [
       "<Figure size 640x480 with 1 Axes>"
      ]
     },
     "metadata": {},
     "output_type": "display_data"
    }
   ],
   "source": [
    "sale.Platform.value_counts().plot(kind=\"bar\")\n",
    "plt.title(\"Platform on which the game was released\")\n",
    "plt.ylabel(\"Count\")"
   ]
  },
  {
   "cell_type": "markdown",
   "metadata": {},
   "source": [
    "PS2 released the highest numbers of games"
   ]
  },
  {
   "cell_type": "code",
   "execution_count": 12,
   "metadata": {
    "execution": {
     "iopub.execute_input": "2023-09-11T14:53:07.589703Z",
     "iopub.status.busy": "2023-09-11T14:53:07.589365Z",
     "iopub.status.idle": "2023-09-11T14:53:07.889209Z",
     "shell.execute_reply": "2023-09-11T14:53:07.888297Z",
     "shell.execute_reply.started": "2023-09-11T14:53:07.589675Z"
    }
   },
   "outputs": [
    {
     "data": {
      "image/png": "[encoded data removed]",
      "text/plain": [
       "<Figure size 640x480 with 1 Axes>"
      ]
     },
     "metadata": {},
     "output_type": "display_data"
    }
   ],
   "source": [
    "sale['Year_of_Release'].fillna(float('nan')).astype('Int64').value_counts().sort_index().plot(kind=\"line\", marker=\"o\", linestyle=\"-\")\n",
    "plt.title(\"Year of Release\")\n",
    "plt.ylabel(\"Count\")\n",
    "plt.show()"
   ]
  },
  {
   "cell_type": "markdown",
   "metadata": {},
   "source": [
    "The highest number of games were realsed in 2008 and 2009."
   ]
  },
  {
   "cell_type": "code",
   "execution_count": 13,
   "metadata": {
    "execution": {
     "iopub.execute_input": "2023-09-11T14:53:09.913508Z",
     "iopub.status.busy": "2023-09-11T14:53:09.912808Z",
     "iopub.status.idle": "2023-09-11T14:53:10.223909Z",
     "shell.execute_reply": "2023-09-11T14:53:10.223000Z",
     "shell.execute_reply.started": "2023-09-11T14:53:09.913476Z"
    }
   },
   "outputs": [
    {
     "data": {
      "image/png": "[encoded data removed]",
      "text/plain": [
       "<Figure size 640x480 with 1 Axes>"
      ]
     },
     "metadata": {},
     "output_type": "display_data"
    }
   ],
   "source": [
    "sale[\"Genre\"].value_counts().plot(kind=\"bar\")\n",
    "plt.title(\"Game Genre\")\n",
    "plt.ylabel(\"Count\")\n",
    "plt.show()"
   ]
  },
  {
   "cell_type": "markdown",
   "metadata": {},
   "source": [
    "Action games were the highest game genre released over the years."
   ]
  },
  {
   "cell_type": "code",
   "execution_count": 14,
   "metadata": {
    "execution": {
     "iopub.execute_input": "2023-09-11T14:53:10.635246Z",
     "iopub.status.busy": "2023-09-11T14:53:10.634746Z",
     "iopub.status.idle": "2023-09-11T14:53:10.935943Z",
     "shell.execute_reply": "2023-09-11T14:53:10.935022Z",
     "shell.execute_reply.started": "2023-09-11T14:53:10.635203Z"
    }
   },
   "outputs": [
    {
     "data": {
      "image/png": "[encoded data removed]",
      "text/plain": [
       "<Figure size 640x480 with 1 Axes>"
      ]
     },
     "metadata": {},
     "output_type": "display_data"
    }
   ],
   "source": [
    "sale[\"Rating\"].value_counts().plot(kind=\"bar\")\n",
    "plt.title(\"Game Rating\")\n",
    "plt.ylabel(\"Count\")\n",
    "plt.show()"
   ]
  },
  {
   "cell_type": "code",
   "execution_count": 15,
   "metadata": {
    "execution": {
     "iopub.execute_input": "2023-09-11T14:53:10.944840Z",
     "iopub.status.busy": "2023-09-11T14:53:10.944272Z",
     "iopub.status.idle": "2023-09-11T14:53:10.955147Z",
     "shell.execute_reply": "2023-09-11T14:53:10.954095Z",
     "shell.execute_reply.started": "2023-09-11T14:53:10.944802Z"
    }
   },
   "outputs": [
    {
     "data": {
      "text/plain": [
       "Rating\n",
       "E       3991\n",
       "T       2961\n",
       "M       1563\n",
       "E10+    1420\n",
       "EC         8\n",
       "K-A        3\n",
       "RP         3\n",
       "AO         1\n",
       "Name: count, dtype: int64"
      ]
     },
     "execution_count": 15,
     "metadata": {},
     "output_type": "execute_result"
    }
   ],
   "source": [
    "sale[\"Rating\"].value_counts()"
   ]
  },
  {
   "cell_type": "markdown",
   "metadata": {},
   "source": [
    "we will drop the EC, K-A, RP, AO"
   ]
  },
  {
   "cell_type": "code",
   "execution_count": 16,
   "metadata": {
    "execution": {
     "iopub.execute_input": "2023-09-11T14:53:11.532376Z",
     "iopub.status.busy": "2023-09-11T14:53:11.531978Z",
     "iopub.status.idle": "2023-09-11T14:53:11.942496Z",
     "shell.execute_reply": "2023-09-11T14:53:11.941525Z",
     "shell.execute_reply.started": "2023-09-11T14:53:11.532347Z"
    }
   },
   "outputs": [
    {
     "data": {
      "image/png": "[encoded data removed]",
      "text/plain": [
       "<Figure size 640x480 with 1 Axes>"
      ]
     },
     "metadata": {},
     "output_type": "display_data"
    }
   ],
   "source": [
    "plt.scatter(sale.Global_Sales,[i for i in range(len(sale.Global_Sales))])\n",
    "plt.title(\"Global sales scatter plot\")\n",
    "plt.show()"
   ]
  },
  {
   "cell_type": "markdown",
   "metadata": {},
   "source": [
    "It can be seen there is outliers in the dataset which will be replaced or dropped."
   ]
  },
  {
   "cell_type": "code",
   "execution_count": 17,
   "metadata": {
    "execution": {
     "iopub.execute_input": "2023-09-11T14:53:13.666622Z",
     "iopub.status.busy": "2023-09-11T14:53:13.666263Z",
     "iopub.status.idle": "2023-09-11T14:53:14.022922Z",
     "shell.execute_reply": "2023-09-11T14:53:14.022019Z",
     "shell.execute_reply.started": "2023-09-11T14:53:13.666593Z"
    }
   },
   "outputs": [
    {
     "data": {
      "image/png": "[encoded data removed]",
      "text/plain": [
       "<Figure size 640x480 with 1 Axes>"
      ]
     },
     "metadata": {},
     "output_type": "display_data"
    }
   ],
   "source": [
    "plt.scatter([i for i in range(len(sale.Global_Sales))],np.log(sale.Global_Sales))\n",
    "plt.show()"
   ]
  },
  {
   "cell_type": "markdown",
   "metadata": {},
   "source": [
    "### Data Cleaning"
   ]
  },
  {
   "cell_type": "markdown",
   "metadata": {},
   "source": [
    "Some of the data cleaning that was done:\n",
    "\n",
    "1. I dropped all the years below 2000.\n",
    "2. Also, I dropped the 4 rating with low occurance.\n",
    "3. All, the platform with less than 500 count."
   ]
  },
  {
   "cell_type": "code",
   "execution_count": 18,
   "metadata": {
    "execution": {
     "iopub.execute_input": "2023-09-11T14:53:14.452716Z",
     "iopub.status.busy": "2023-09-11T14:53:14.452368Z",
     "iopub.status.idle": "2023-09-11T14:53:14.462458Z",
     "shell.execute_reply": "2023-09-11T14:53:14.461455Z",
     "shell.execute_reply.started": "2023-09-11T14:53:14.452689Z"
    }
   },
   "outputs": [
    {
     "data": {
      "text/plain": [
       "array(['Wii', 'NES', 'GB', 'DS', 'X360', 'PS3', 'PS2', 'SNES', 'GBA',\n",
       "       'PS4', '3DS', 'N64', 'PS', 'XB', 'PC', '2600', 'PSP', 'XOne',\n",
       "       'WiiU', 'GC', 'GEN', 'DC', 'PSV', 'SAT', 'SCD', 'WS', 'NG', 'TG16',\n",
       "       '3DO', 'GG', 'PCFX'], dtype=object)"
      ]
     },
     "execution_count": 18,
     "metadata": {},
     "output_type": "execute_result"
    }
   ],
   "source": [
    "sale.Platform.unique()"
   ]
  },
  {
   "cell_type": "code",
   "execution_count": 19,
   "metadata": {
    "execution": {
     "iopub.execute_input": "2023-09-11T14:53:14.735361Z",
     "iopub.status.busy": "2023-09-11T14:53:14.733968Z",
     "iopub.status.idle": "2023-09-11T14:53:14.744886Z",
     "shell.execute_reply": "2023-09-11T14:53:14.743868Z",
     "shell.execute_reply.started": "2023-09-11T14:53:14.735318Z"
    }
   },
   "outputs": [],
   "source": [
    "plat_drop = ['Wii','DS', 'X360', 'PS3', 'PS2', 'GBA', 'PS', 'XB', 'PC', 'PSP']\n",
    "sale = sale[sale['Platform'].isin(plat_drop)]"
   ]
  },
  {
   "cell_type": "code",
   "execution_count": 20,
   "metadata": {
    "execution": {
     "iopub.execute_input": "2023-09-11T14:53:15.030110Z",
     "iopub.status.busy": "2023-09-11T14:53:15.029721Z",
     "iopub.status.idle": "2023-09-11T14:53:15.039606Z",
     "shell.execute_reply": "2023-09-11T14:53:15.038628Z",
     "shell.execute_reply.started": "2023-09-11T14:53:15.030059Z"
    }
   },
   "outputs": [],
   "source": [
    "rat = ['EC', 'K-A', 'RP', 'AO']\n",
    "sale = sale[~sale['Rating'].isin(rat)]"
   ]
  },
  {
   "cell_type": "code",
   "execution_count": 21,
   "metadata": {
    "execution": {
     "iopub.execute_input": "2023-09-11T14:53:15.373119Z",
     "iopub.status.busy": "2023-09-11T14:53:15.372319Z",
     "iopub.status.idle": "2023-09-11T14:53:15.382357Z",
     "shell.execute_reply": "2023-09-11T14:53:15.381433Z",
     "shell.execute_reply.started": "2023-09-11T14:53:15.373051Z"
    }
   },
   "outputs": [],
   "source": [
    "sale = sale[sale['Year_of_Release']> 2000]"
   ]
  },
  {
   "cell_type": "code",
   "execution_count": 22,
   "metadata": {
    "execution": {
     "iopub.execute_input": "2023-09-11T14:53:20.931993Z",
     "iopub.status.busy": "2023-09-11T14:53:20.931627Z",
     "iopub.status.idle": "2023-09-11T14:53:20.948264Z",
     "shell.execute_reply": "2023-09-11T14:53:20.947336Z",
     "shell.execute_reply.started": "2023-09-11T14:53:20.931964Z"
    }
   },
   "outputs": [
    {
     "data": {
      "text/plain": [
       "Name                  0\n",
       "Platform              0\n",
       "Year_of_Release       0\n",
       "Genre                 0\n",
       "Publisher            30\n",
       "NA_Sales              0\n",
       "EU_Sales              0\n",
       "JP_Sales              0\n",
       "Other_Sales           0\n",
       "Global_Sales          0\n",
       "Critic_Score       5305\n",
       "Critic_Count       5305\n",
       "User_Score         3626\n",
       "User_Count         5762\n",
       "Developer          3591\n",
       "Rating             3683\n",
       "dtype: int64"
      ]
     },
     "execution_count": 22,
     "metadata": {},
     "output_type": "execute_result"
    }
   ],
   "source": [
    "sale.isna().sum()"
   ]
  },
  {
   "cell_type": "code",
   "execution_count": 23,
   "metadata": {
    "execution": {
     "iopub.execute_input": "2023-09-11T14:53:21.571691Z",
     "iopub.status.busy": "2023-09-11T14:53:21.571303Z",
     "iopub.status.idle": "2023-09-11T14:53:21.599501Z",
     "shell.execute_reply": "2023-09-11T14:53:21.598581Z",
     "shell.execute_reply.started": "2023-09-11T14:53:21.571664Z"
    }
   },
   "outputs": [
    {
     "name": "stdout",
     "output_type": "stream",
     "text": [
      "(8219, 16)\n"
     ]
    },
    {
     "data": {
      "text/html": [
       "<div>\n",
       "<style scoped>\n",
       "    .dataframe tbody tr th:only-of-type {\n",
       "        vertical-align: middle;\n",
       "    }\n",
       "\n",
       "    .dataframe tbody tr th {\n",
       "        vertical-align: top;\n",
       "    }\n",
       "\n",
       "    .dataframe thead th {\n",
       "        text-align: right;\n",
       "    }\n",
       "</style>\n",
       "<table border=\"1\" class=\"dataframe\">\n",
       "  <thead>\n",
       "    <tr style=\"text-align: right;\">\n",
       "      <th></th>\n",
       "      <th>Missing Ratio</th>\n",
       "    </tr>\n",
       "  </thead>\n",
       "  <tbody>\n",
       "    <tr>\n",
       "      <th>User_Count</th>\n",
       "      <td>26.548242</td>\n",
       "    </tr>\n",
       "    <tr>\n",
       "      <th>Critic_Score</th>\n",
       "      <td>20.927120</td>\n",
       "    </tr>\n",
       "    <tr>\n",
       "      <th>Critic_Count</th>\n",
       "      <td>20.927120</td>\n",
       "    </tr>\n",
       "    <tr>\n",
       "      <th>Rating</th>\n",
       "      <td>1.119358</td>\n",
       "    </tr>\n",
       "    <tr>\n",
       "      <th>User_Score</th>\n",
       "      <td>0.815184</td>\n",
       "    </tr>\n",
       "    <tr>\n",
       "      <th>Publisher</th>\n",
       "      <td>0.036501</td>\n",
       "    </tr>\n",
       "  </tbody>\n",
       "</table>\n",
       "</div>"
      ],
      "text/plain": [
       "              Missing Ratio\n",
       "User_Count        26.548242\n",
       "Critic_Score      20.927120\n",
       "Critic_Count      20.927120\n",
       "Rating             1.119358\n",
       "User_Score         0.815184\n",
       "Publisher          0.036501"
      ]
     },
     "execution_count": 23,
     "metadata": {},
     "output_type": "execute_result"
    }
   ],
   "source": [
    "sale_drop = sale.dropna(subset=['Developer'])\n",
    "\n",
    "#Let's see the shape of the data again\n",
    "print(sale_drop.shape)\n",
    "\n",
    "#Lets see the missing ratios again\n",
    "data_na = (sale_drop.isnull().sum() / len(sale_drop)) * 100\n",
    "data_na = data_na.drop(data_na[data_na == 0].index).sort_values(ascending=False)[:30]\n",
    "missing_data = pd.DataFrame({'Missing Ratio' :data_na})\n",
    "missing_data.head(16)"
   ]
  },
  {
   "cell_type": "code",
   "execution_count": 24,
   "metadata": {
    "execution": {
     "iopub.execute_input": "2023-09-11T14:53:21.904081Z",
     "iopub.status.busy": "2023-09-11T14:53:21.903396Z",
     "iopub.status.idle": "2023-09-11T14:53:21.920606Z",
     "shell.execute_reply": "2023-09-11T14:53:21.919556Z",
     "shell.execute_reply.started": "2023-09-11T14:53:21.904033Z"
    }
   },
   "outputs": [
    {
     "data": {
      "text/plain": [
       "Name                  0\n",
       "Platform              0\n",
       "Year_of_Release       0\n",
       "Genre                 0\n",
       "Publisher             3\n",
       "NA_Sales              0\n",
       "EU_Sales              0\n",
       "JP_Sales              0\n",
       "Other_Sales           0\n",
       "Global_Sales          0\n",
       "Critic_Score       1720\n",
       "Critic_Count       1720\n",
       "User_Score           67\n",
       "User_Count         2182\n",
       "Developer             0\n",
       "Rating               92\n",
       "dtype: int64"
      ]
     },
     "execution_count": 24,
     "metadata": {},
     "output_type": "execute_result"
    }
   ],
   "source": [
    "sale_drop.isna().sum()"
   ]
  },
  {
   "cell_type": "code",
   "execution_count": 25,
   "metadata": {
    "execution": {
     "iopub.execute_input": "2023-09-11T14:53:22.583101Z",
     "iopub.status.busy": "2023-09-11T14:53:22.582729Z",
     "iopub.status.idle": "2023-09-11T14:53:22.613975Z",
     "shell.execute_reply": "2023-09-11T14:53:22.613003Z",
     "shell.execute_reply.started": "2023-09-11T14:53:22.583054Z"
    }
   },
   "outputs": [
    {
     "name": "stderr",
     "output_type": "stream",
     "text": [
      "/tmp/ipykernel_28/985983473.py:3: SettingWithCopyWarning: \n",
      "A value is trying to be set on a copy of a slice from a DataFrame.\n",
      "Try using .loc[row_indexer,col_indexer] = value instead\n",
      "\n",
      "See the caveats in the documentation: https://pandas.pydata.org/pandas-docs/stable/user_guide/indexing.html#returning-a-view-versus-a-copy\n",
      "  sale_drop['Publisher'] = sale_drop['Publisher'].fillna(sale_drop['Publisher'].mode()[0])\n",
      "/tmp/ipykernel_28/985983473.py:5: SettingWithCopyWarning: \n",
      "A value is trying to be set on a copy of a slice from a DataFrame.\n",
      "Try using .loc[row_indexer,col_indexer] = value instead\n",
      "\n",
      "See the caveats in the documentation: https://pandas.pydata.org/pandas-docs/stable/user_guide/indexing.html#returning-a-view-versus-a-copy\n",
      "  sale_drop['Rating'] = sale_drop['Rating'].fillna(sale_drop['Rating'].mode()[0])\n",
      "/tmp/ipykernel_28/985983473.py:8: SettingWithCopyWarning: \n",
      "A value is trying to be set on a copy of a slice from a DataFrame.\n",
      "Try using .loc[row_indexer,col_indexer] = value instead\n",
      "\n",
      "See the caveats in the documentation: https://pandas.pydata.org/pandas-docs/stable/user_guide/indexing.html#returning-a-view-versus-a-copy\n",
      "  sale_drop['User_Score'] = sale_drop['User_Score'].replace('tbd', None)\n",
      "/tmp/ipykernel_28/985983473.py:11: SettingWithCopyWarning: \n",
      "A value is trying to be set on a copy of a slice from a DataFrame.\n",
      "Try using .loc[row_indexer,col_indexer] = value instead\n",
      "\n",
      "See the caveats in the documentation: https://pandas.pydata.org/pandas-docs/stable/user_guide/indexing.html#returning-a-view-versus-a-copy\n",
      "  sale_drop['User_Score'] = sale_drop['User_Score'].fillna(sale_drop['User_Score'].median())\n",
      "/tmp/ipykernel_28/985983473.py:13: SettingWithCopyWarning: \n",
      "A value is trying to be set on a copy of a slice from a DataFrame.\n",
      "Try using .loc[row_indexer,col_indexer] = value instead\n",
      "\n",
      "See the caveats in the documentation: https://pandas.pydata.org/pandas-docs/stable/user_guide/indexing.html#returning-a-view-versus-a-copy\n",
      "  sale_drop['User_Count'] = sale_drop['User_Count'].fillna(sale_drop['User_Count'].median())\n",
      "/tmp/ipykernel_28/985983473.py:15: SettingWithCopyWarning: \n",
      "A value is trying to be set on a copy of a slice from a DataFrame.\n",
      "Try using .loc[row_indexer,col_indexer] = value instead\n",
      "\n",
      "See the caveats in the documentation: https://pandas.pydata.org/pandas-docs/stable/user_guide/indexing.html#returning-a-view-versus-a-copy\n",
      "  sale_drop['Critic_Score'] = sale_drop['Critic_Score'].fillna(sale_drop['Critic_Score'].median())\n",
      "/tmp/ipykernel_28/985983473.py:16: SettingWithCopyWarning: \n",
      "A value is trying to be set on a copy of a slice from a DataFrame.\n",
      "Try using .loc[row_indexer,col_indexer] = value instead\n",
      "\n",
      "See the caveats in the documentation: https://pandas.pydata.org/pandas-docs/stable/user_guide/indexing.html#returning-a-view-versus-a-copy\n",
      "  sale_drop['Critic_Count'] = sale_drop['Critic_Count'].fillna(sale_drop['Critic_Count'].median())\n"
     ]
    }
   ],
   "source": [
    "#Dealing with missing value\n",
    "\n",
    "sale_drop['Publisher'] = sale_drop['Publisher'].fillna(sale_drop['Publisher'].mode()[0])\n",
    "\n",
    "sale_drop['Rating'] = sale_drop['Rating'].fillna(sale_drop['Rating'].mode()[0])\n",
    "\n",
    "\n",
    "sale_drop['User_Score'] = sale_drop['User_Score'].replace('tbd', None)\n",
    "\n",
    "#Now we can handle the N/A's appropriately\n",
    "sale_drop['User_Score'] = sale_drop['User_Score'].fillna(sale_drop['User_Score'].median())\n",
    "\n",
    "sale_drop['User_Count'] = sale_drop['User_Count'].fillna(sale_drop['User_Count'].median())\n",
    "\n",
    "sale_drop['Critic_Score'] = sale_drop['Critic_Score'].fillna(sale_drop['Critic_Score'].median())\n",
    "sale_drop['Critic_Count'] = sale_drop['Critic_Count'].fillna(sale_drop['Critic_Count'].median())"
   ]
  },
  {
   "cell_type": "code",
   "execution_count": 26,
   "metadata": {
    "execution": {
     "iopub.execute_input": "2023-09-11T14:53:23.458883Z",
     "iopub.status.busy": "2023-09-11T14:53:23.457876Z",
     "iopub.status.idle": "2023-09-11T14:53:23.618584Z",
     "shell.execute_reply": "2023-09-11T14:53:23.617419Z",
     "shell.execute_reply.started": "2023-09-11T14:53:23.458839Z"
    }
   },
   "outputs": [
    {
     "name": "stderr",
     "output_type": "stream",
     "text": [
      "/tmp/ipykernel_28/1258218908.py:6: SettingWithCopyWarning: \n",
      "A value is trying to be set on a copy of a slice from a DataFrame.\n",
      "Try using .loc[row_indexer,col_indexer] = value instead\n",
      "\n",
      "See the caveats in the documentation: https://pandas.pydata.org/pandas-docs/stable/user_guide/indexing.html#returning-a-view-versus-a-copy\n",
      "  sale_drop['Platform'] = label_encoder.fit_transform(sale_drop['Platform'])\n",
      "/tmp/ipykernel_28/1258218908.py:7: SettingWithCopyWarning: \n",
      "A value is trying to be set on a copy of a slice from a DataFrame.\n",
      "Try using .loc[row_indexer,col_indexer] = value instead\n",
      "\n",
      "See the caveats in the documentation: https://pandas.pydata.org/pandas-docs/stable/user_guide/indexing.html#returning-a-view-versus-a-copy\n",
      "  sale_drop['Year_of_Release'] = label_encoder.fit_transform(sale_drop['Year_of_Release'])\n",
      "/tmp/ipykernel_28/1258218908.py:8: SettingWithCopyWarning: \n",
      "A value is trying to be set on a copy of a slice from a DataFrame.\n",
      "Try using .loc[row_indexer,col_indexer] = value instead\n",
      "\n",
      "See the caveats in the documentation: https://pandas.pydata.org/pandas-docs/stable/user_guide/indexing.html#returning-a-view-versus-a-copy\n",
      "  sale_drop['Genre'] = label_encoder.fit_transform(sale_drop['Genre'])\n",
      "/tmp/ipykernel_28/1258218908.py:9: SettingWithCopyWarning: \n",
      "A value is trying to be set on a copy of a slice from a DataFrame.\n",
      "Try using .loc[row_indexer,col_indexer] = value instead\n",
      "\n",
      "See the caveats in the documentation: https://pandas.pydata.org/pandas-docs/stable/user_guide/indexing.html#returning-a-view-versus-a-copy\n",
      "  sale_drop['Publisher'] = label_encoder.fit_transform(sale_drop['Publisher'])\n",
      "/tmp/ipykernel_28/1258218908.py:10: SettingWithCopyWarning: \n",
      "A value is trying to be set on a copy of a slice from a DataFrame.\n",
      "Try using .loc[row_indexer,col_indexer] = value instead\n",
      "\n",
      "See the caveats in the documentation: https://pandas.pydata.org/pandas-docs/stable/user_guide/indexing.html#returning-a-view-versus-a-copy\n",
      "  sale_drop['Developer'] = label_encoder.fit_transform(sale_drop['Developer'])\n",
      "/tmp/ipykernel_28/1258218908.py:11: SettingWithCopyWarning: \n",
      "A value is trying to be set on a copy of a slice from a DataFrame.\n",
      "Try using .loc[row_indexer,col_indexer] = value instead\n",
      "\n",
      "See the caveats in the documentation: https://pandas.pydata.org/pandas-docs/stable/user_guide/indexing.html#returning-a-view-versus-a-copy\n",
      "  sale_drop['Rating'] = label_encoder.fit_transform(sale_drop['Rating'])\n"
     ]
    }
   ],
   "source": [
    "from sklearn.preprocessing import LabelEncoder\n",
    "# Initialize LabelEncoder\n",
    "label_encoder = LabelEncoder()\n",
    "\n",
    "# Fit and transform the categorical column\n",
    "sale_drop['Platform'] = label_encoder.fit_transform(sale_drop['Platform'])\n",
    "sale_drop['Year_of_Release'] = label_encoder.fit_transform(sale_drop['Year_of_Release'])\n",
    "sale_drop['Genre'] = label_encoder.fit_transform(sale_drop['Genre'])\n",
    "sale_drop['Publisher'] = label_encoder.fit_transform(sale_drop['Publisher'])\n",
    "sale_drop['Developer'] = label_encoder.fit_transform(sale_drop['Developer'])\n",
    "sale_drop['Rating'] = label_encoder.fit_transform(sale_drop['Rating'])"
   ]
  },
  {
   "cell_type": "code",
   "execution_count": 27,
   "metadata": {
    "execution": {
     "iopub.execute_input": "2023-09-11T14:53:23.793226Z",
     "iopub.status.busy": "2023-09-11T14:53:23.792842Z",
     "iopub.status.idle": "2023-09-11T14:53:23.804468Z",
     "shell.execute_reply": "2023-09-11T14:53:23.803459Z",
     "shell.execute_reply.started": "2023-09-11T14:53:23.793196Z"
    }
   },
   "outputs": [
    {
     "name": "stderr",
     "output_type": "stream",
     "text": [
      "/tmp/ipykernel_28/3166858457.py:1: SettingWithCopyWarning: \n",
      "A value is trying to be set on a copy of a slice from a DataFrame\n",
      "\n",
      "See the caveats in the documentation: https://pandas.pydata.org/pandas-docs/stable/user_guide/indexing.html#returning-a-view-versus-a-copy\n",
      "  sale_drop.drop(columns = [\"Name\"], inplace = True)\n"
     ]
    }
   ],
   "source": [
    "sale_drop.drop(columns = [\"Name\"], inplace = True)"
   ]
  },
  {
   "cell_type": "code",
   "execution_count": 28,
   "metadata": {
    "execution": {
     "iopub.execute_input": "2023-09-11T14:53:24.132370Z",
     "iopub.status.busy": "2023-09-11T14:53:24.130854Z",
     "iopub.status.idle": "2023-09-11T14:53:24.137372Z",
     "shell.execute_reply": "2023-09-11T14:53:24.136440Z",
     "shell.execute_reply.started": "2023-09-11T14:53:24.132325Z"
    }
   },
   "outputs": [],
   "source": [
    "sale_drop.reset_index(drop = True, inplace = True)"
   ]
  },
  {
   "cell_type": "code",
   "execution_count": 29,
   "metadata": {
    "execution": {
     "iopub.execute_input": "2023-09-11T14:53:24.731241Z",
     "iopub.status.busy": "2023-09-11T14:53:24.730861Z",
     "iopub.status.idle": "2023-09-11T14:53:24.750769Z",
     "shell.execute_reply": "2023-09-11T14:53:24.749630Z",
     "shell.execute_reply.started": "2023-09-11T14:53:24.731210Z"
    }
   },
   "outputs": [
    {
     "data": {
      "text/html": [
       "<div>\n",
       "<style scoped>\n",
       "    .dataframe tbody tr th:only-of-type {\n",
       "        vertical-align: middle;\n",
       "    }\n",
       "\n",
       "    .dataframe tbody tr th {\n",
       "        vertical-align: top;\n",
       "    }\n",
       "\n",
       "    .dataframe thead th {\n",
       "        text-align: right;\n",
       "    }\n",
       "</style>\n",
       "<table border=\"1\" class=\"dataframe\">\n",
       "  <thead>\n",
       "    <tr style=\"text-align: right;\">\n",
       "      <th></th>\n",
       "      <th>Platform</th>\n",
       "      <th>Year_of_Release</th>\n",
       "      <th>Genre</th>\n",
       "      <th>Publisher</th>\n",
       "      <th>NA_Sales</th>\n",
       "      <th>EU_Sales</th>\n",
       "      <th>JP_Sales</th>\n",
       "      <th>Other_Sales</th>\n",
       "      <th>Global_Sales</th>\n",
       "      <th>Critic_Score</th>\n",
       "      <th>Critic_Count</th>\n",
       "      <th>User_Score</th>\n",
       "      <th>User_Count</th>\n",
       "      <th>Developer</th>\n",
       "      <th>Rating</th>\n",
       "    </tr>\n",
       "  </thead>\n",
       "  <tbody>\n",
       "    <tr>\n",
       "      <th>0</th>\n",
       "      <td>7</td>\n",
       "      <td>5</td>\n",
       "      <td>10</td>\n",
       "      <td>182</td>\n",
       "      <td>41.36</td>\n",
       "      <td>28.96</td>\n",
       "      <td>3.77</td>\n",
       "      <td>8.45</td>\n",
       "      <td>82.53</td>\n",
       "      <td>76.0</td>\n",
       "      <td>51.0</td>\n",
       "      <td>8</td>\n",
       "      <td>322.0</td>\n",
       "      <td>946</td>\n",
       "      <td>0</td>\n",
       "    </tr>\n",
       "    <tr>\n",
       "      <th>1</th>\n",
       "      <td>7</td>\n",
       "      <td>7</td>\n",
       "      <td>6</td>\n",
       "      <td>182</td>\n",
       "      <td>15.68</td>\n",
       "      <td>12.76</td>\n",
       "      <td>3.79</td>\n",
       "      <td>3.29</td>\n",
       "      <td>35.52</td>\n",
       "      <td>82.0</td>\n",
       "      <td>73.0</td>\n",
       "      <td>8.3</td>\n",
       "      <td>709.0</td>\n",
       "      <td>946</td>\n",
       "      <td>0</td>\n",
       "    </tr>\n",
       "    <tr>\n",
       "      <th>2</th>\n",
       "      <td>7</td>\n",
       "      <td>8</td>\n",
       "      <td>10</td>\n",
       "      <td>182</td>\n",
       "      <td>15.61</td>\n",
       "      <td>10.93</td>\n",
       "      <td>3.28</td>\n",
       "      <td>2.95</td>\n",
       "      <td>32.77</td>\n",
       "      <td>80.0</td>\n",
       "      <td>73.0</td>\n",
       "      <td>8</td>\n",
       "      <td>192.0</td>\n",
       "      <td>946</td>\n",
       "      <td>0</td>\n",
       "    </tr>\n",
       "    <tr>\n",
       "      <th>3</th>\n",
       "      <td>0</td>\n",
       "      <td>5</td>\n",
       "      <td>4</td>\n",
       "      <td>182</td>\n",
       "      <td>11.28</td>\n",
       "      <td>9.14</td>\n",
       "      <td>6.50</td>\n",
       "      <td>2.88</td>\n",
       "      <td>29.80</td>\n",
       "      <td>89.0</td>\n",
       "      <td>65.0</td>\n",
       "      <td>8.5</td>\n",
       "      <td>431.0</td>\n",
       "      <td>946</td>\n",
       "      <td>0</td>\n",
       "    </tr>\n",
       "    <tr>\n",
       "      <th>4</th>\n",
       "      <td>7</td>\n",
       "      <td>5</td>\n",
       "      <td>3</td>\n",
       "      <td>182</td>\n",
       "      <td>13.96</td>\n",
       "      <td>9.18</td>\n",
       "      <td>2.93</td>\n",
       "      <td>2.84</td>\n",
       "      <td>28.92</td>\n",
       "      <td>58.0</td>\n",
       "      <td>41.0</td>\n",
       "      <td>6.6</td>\n",
       "      <td>129.0</td>\n",
       "      <td>946</td>\n",
       "      <td>0</td>\n",
       "    </tr>\n",
       "  </tbody>\n",
       "</table>\n",
       "</div>"
      ],
      "text/plain": [
       "   Platform  Year_of_Release  Genre  Publisher  NA_Sales  EU_Sales  JP_Sales  \\\n",
       "0         7                5     10        182     41.36     28.96      3.77   \n",
       "1         7                7      6        182     15.68     12.76      3.79   \n",
       "2         7                8     10        182     15.61     10.93      3.28   \n",
       "3         0                5      4        182     11.28      9.14      6.50   \n",
       "4         7                5      3        182     13.96      9.18      2.93   \n",
       "\n",
       "   Other_Sales  Global_Sales  Critic_Score  Critic_Count User_Score  \\\n",
       "0         8.45         82.53          76.0          51.0          8   \n",
       "1         3.29         35.52          82.0          73.0        8.3   \n",
       "2         2.95         32.77          80.0          73.0          8   \n",
       "3         2.88         29.80          89.0          65.0        8.5   \n",
       "4         2.84         28.92          58.0          41.0        6.6   \n",
       "\n",
       "   User_Count  Developer  Rating  \n",
       "0       322.0        946       0  \n",
       "1       709.0        946       0  \n",
       "2       192.0        946       0  \n",
       "3       431.0        946       0  \n",
       "4       129.0        946       0  "
      ]
     },
     "execution_count": 29,
     "metadata": {},
     "output_type": "execute_result"
    }
   ],
   "source": [
    "sale_drop.head()"
   ]
  },
  {
   "cell_type": "code",
   "execution_count": 30,
   "metadata": {
    "execution": {
     "iopub.execute_input": "2023-09-11T14:53:24.986408Z",
     "iopub.status.busy": "2023-09-11T14:53:24.985721Z",
     "iopub.status.idle": "2023-09-11T14:53:25.948743Z",
     "shell.execute_reply": "2023-09-11T14:53:25.947746Z",
     "shell.execute_reply.started": "2023-09-11T14:53:24.986375Z"
    }
   },
   "outputs": [
    {
     "data": {
      "image/png": "[encoded data removed]",
      "text/plain": [
       "<Figure size 2000x1200 with 2 Axes>"
      ]
     },
     "metadata": {},
     "output_type": "display_data"
    }
   ],
   "source": [
    "plt.subplots(figsize= (20,12))\n",
    "dataplot = sns.heatmap(sale_drop.corr(), cmap=\"YlGnBu\", annot=True)\n",
    "  \n",
    "# displaying heatmap\n",
    "plt.show()"
   ]
  },
  {
   "cell_type": "markdown",
   "metadata": {},
   "source": [
    "High correlation among the sales variables"
   ]
  },
  {
   "cell_type": "code",
   "execution_count": 31,
   "metadata": {
    "execution": {
     "iopub.execute_input": "2023-09-11T14:53:25.950581Z",
     "iopub.status.busy": "2023-09-11T14:53:25.950195Z",
     "iopub.status.idle": "2023-09-11T14:53:26.038146Z",
     "shell.execute_reply": "2023-09-11T14:53:26.037134Z",
     "shell.execute_reply.started": "2023-09-11T14:53:25.950547Z"
    }
   },
   "outputs": [],
   "source": [
    "from sklearn.model_selection import train_test_split\n",
    "from sklearn.preprocessing import MinMaxScaler\n",
    "from sklearn.metrics import r2_score, mean_squared_error"
   ]
  },
  {
   "cell_type": "code",
   "execution_count": 32,
   "metadata": {
    "execution": {
     "iopub.execute_input": "2023-09-11T14:54:07.859655Z",
     "iopub.status.busy": "2023-09-11T14:54:07.859304Z",
     "iopub.status.idle": "2023-09-11T14:54:07.867393Z",
     "shell.execute_reply": "2023-09-11T14:54:07.866145Z",
     "shell.execute_reply.started": "2023-09-11T14:54:07.859628Z"
    }
   },
   "outputs": [
    {
     "data": {
      "text/plain": [
       "Index(['Platform', 'Year_of_Release', 'Genre', 'Publisher', 'NA_Sales',\n",
       "       'EU_Sales', 'JP_Sales', 'Other_Sales', 'Global_Sales', 'Critic_Score',\n",
       "       'Critic_Count', 'User_Score', 'User_Count', 'Developer', 'Rating'],\n",
       "      dtype='object')"
      ]
     },
     "execution_count": 32,
     "metadata": {},
     "output_type": "execute_result"
    }
   ],
   "source": [
    "sale_drop.columns"
   ]
  },
  {
   "cell_type": "code",
   "execution_count": 33,
   "metadata": {
    "execution": {
     "iopub.execute_input": "2023-09-11T14:54:08.258946Z",
     "iopub.status.busy": "2023-09-11T14:54:08.258583Z",
     "iopub.status.idle": "2023-09-11T14:54:08.267901Z",
     "shell.execute_reply": "2023-09-11T14:54:08.266923Z",
     "shell.execute_reply.started": "2023-09-11T14:54:08.258919Z"
    }
   },
   "outputs": [],
   "source": [
    "sale_dro = sale_drop[['Platform', 'Year_of_Release', 'Genre', 'Publisher', 'Global_Sales', 'Critic_Score','Critic_Count', 'User_Score', 'User_Count', 'Developer', 'Rating']]\n",
    "sale_drop1 = sale_drop[[\n",
    "       'Critic_Count', 'User_Count', \"Global_Sales\"]] #'Developer', 'Year_of_Release','Platform','Critic_Score',"
   ]
  },
  {
   "cell_type": "code",
   "execution_count": 34,
   "metadata": {
    "execution": {
     "iopub.execute_input": "2023-09-11T14:54:09.299516Z",
     "iopub.status.busy": "2023-09-11T14:54:09.298838Z",
     "iopub.status.idle": "2023-09-11T14:54:09.306230Z",
     "shell.execute_reply": "2023-09-11T14:54:09.304622Z",
     "shell.execute_reply.started": "2023-09-11T14:54:09.299476Z"
    }
   },
   "outputs": [],
   "source": [
    "target = sale_drop1[\"Global_Sales\"]\n",
    "features = sale_drop1.drop(columns = [\"Global_Sales\"])"
   ]
  },
  {
   "cell_type": "code",
   "execution_count": 35,
   "metadata": {
    "execution": {
     "iopub.execute_input": "2023-09-11T14:54:09.538618Z",
     "iopub.status.busy": "2023-09-11T14:54:09.537914Z",
     "iopub.status.idle": "2023-09-11T14:54:09.545398Z",
     "shell.execute_reply": "2023-09-11T14:54:09.544149Z",
     "shell.execute_reply.started": "2023-09-11T14:54:09.538583Z"
    }
   },
   "outputs": [],
   "source": [
    "target = sale_dro[\"Global_Sales\"]\n",
    "features = sale_dro.drop(columns = [\"Global_Sales\"])"
   ]
  },
  {
   "cell_type": "code",
   "execution_count": 36,
   "metadata": {
    "execution": {
     "iopub.execute_input": "2023-09-11T14:54:10.346486Z",
     "iopub.status.busy": "2023-09-11T14:54:10.346109Z",
     "iopub.status.idle": "2023-09-11T14:54:10.367762Z",
     "shell.execute_reply": "2023-09-11T14:54:10.366811Z",
     "shell.execute_reply.started": "2023-09-11T14:54:10.346457Z"
    }
   },
   "outputs": [],
   "source": [
    "X_train, X_test, y_train, y_test = train_test_split(features, target,test_size= 0.2, random_state = 42, shuffle = True)"
   ]
  },
  {
   "cell_type": "code",
   "execution_count": 37,
   "metadata": {
    "execution": {
     "iopub.execute_input": "2023-09-11T14:54:26.733712Z",
     "iopub.status.busy": "2023-09-11T14:54:26.733341Z",
     "iopub.status.idle": "2023-09-11T14:54:26.768392Z",
     "shell.execute_reply": "2023-09-11T14:54:26.767463Z",
     "shell.execute_reply.started": "2023-09-11T14:54:26.733683Z"
    }
   },
   "outputs": [],
   "source": [
    "from sklearn.preprocessing import StandardScaler\n",
    "\n",
    "# Create an instance of StandardScaler\n",
    "scaler = StandardScaler()\n",
    "\n",
    "# Fit the scaler to your training data and transform it\n",
    "X_train_scaled = scaler.fit_transform(X_train)\n",
    "\n",
    "# Transform your test data using the same scaler\n",
    "X_test_scaled = scaler.transform(X_test)\n"
   ]
  },
  {
   "cell_type": "markdown",
   "metadata": {},
   "source": [
    "### Modelling"
   ]
  },
  {
   "cell_type": "markdown",
   "metadata": {},
   "source": [
    "# Question 1"
   ]
  },
  {
   "cell_type": "code",
   "execution_count": 41,
   "metadata": {
    "execution": {
     "iopub.execute_input": "2023-09-10T23:21:22.927443Z",
     "iopub.status.busy": "2023-09-10T23:21:22.927033Z",
     "iopub.status.idle": "2023-09-10T23:21:22.968534Z",
     "shell.execute_reply": "2023-09-10T23:21:22.967203Z",
     "shell.execute_reply.started": "2023-09-10T23:21:22.927410Z"
    }
   },
   "outputs": [
    {
     "name": "stdout",
     "output_type": "stream",
     "text": [
      "Linear Regression model 1\n",
      "R-squared (R²) Score: 0.27733025483527385\n",
      "Mean Squared Error (MSE): 1.037927042580144\n"
     ]
    }
   ],
   "source": [
    "from sklearn.linear_model import LinearRegression\n",
    "# Linear Regression model traning\n",
    "model = LinearRegression()\n",
    "\n",
    "model.fit(X_train_scaled , y_train)\n",
    "\n",
    "\n",
    "#predictions on the test data\n",
    "predictions = model.predict(X_test_scaled)\n",
    "\n",
    "# Calculate R-squared (R²) score\n",
    "r2 = r2_score(y_test, predictions)\n",
    "\n",
    "# Calculate Mean Squared Error (MSE)\n",
    "mse = mean_squared_error(y_test, predictions)\n",
    "\n",
    "print(\"Linear Regression model 1\")\n",
    "print(\"R-squared (R²) Score:\", r2)\n",
    "print(\"Mean Squared Error (MSE):\", np.sqrt(mse))"
   ]
  },
  {
   "cell_type": "code",
   "execution_count": 47,
   "metadata": {
    "execution": {
     "iopub.execute_input": "2023-09-10T23:23:24.207408Z",
     "iopub.status.busy": "2023-09-10T23:23:24.207006Z",
     "iopub.status.idle": "2023-09-10T23:23:28.789211Z",
     "shell.execute_reply": "2023-09-10T23:23:28.788022Z",
     "shell.execute_reply.started": "2023-09-10T23:23:24.207376Z"
    }
   },
   "outputs": [
    {
     "name": "stdout",
     "output_type": "stream",
     "text": [
      "Random Forest Regressor 1\n",
      "R-squared (R²) Score: 0.4787325060643517\n",
      "Mean Squared Error (RMSE): 0.8815099372198427\n"
     ]
    }
   ],
   "source": [
    "#Random forest\n",
    "from sklearn.ensemble import RandomForestRegressor\n",
    "\n",
    "\n",
    "#Random Forest Regressor\n",
    "model = RandomForestRegressor(n_estimators=150)\n",
    "model.fit(X_train_scaled, y_train)\n",
    "\n",
    "#predictions on the test data\n",
    "predictions = model.predict(X_test_scaled)\n",
    "\n",
    "#R-squared (R²) score\n",
    "r2 = r2_score(y_test, predictions)\n",
    "\n",
    "#Mean Squared Error (MSE)\n",
    "mse = mean_squared_error(y_test, predictions)\n",
    "\n",
    "print(\"Random Forest Regressor 1\")\n",
    "print(\"R-squared (R²) Score:\", r2)\n",
    "print(\"Mean Squared Error (RMSE):\", np.sqrt(mse))"
   ]
  },
  {
   "cell_type": "code",
   "execution_count": 48,
   "metadata": {
    "execution": {
     "iopub.execute_input": "2023-09-10T23:26:02.413320Z",
     "iopub.status.busy": "2023-09-10T23:26:02.412926Z",
     "iopub.status.idle": "2023-09-10T23:26:02.445960Z",
     "shell.execute_reply": "2023-09-10T23:26:02.444721Z",
     "shell.execute_reply.started": "2023-09-10T23:26:02.413280Z"
    }
   },
   "outputs": [
    {
     "data": {
      "text/plain": [
       "array([0.08012135, 0.07041703, 0.051853  , 0.04317681, 0.17684193,\n",
       "       0.134754  , 0.04511714, 0.25729347, 0.06588675, 0.07453852])"
      ]
     },
     "execution_count": 48,
     "metadata": {},
     "output_type": "execute_result"
    }
   ],
   "source": [
    "model.feature_importances_"
   ]
  },
  {
   "cell_type": "code",
   "execution_count": 49,
   "metadata": {
    "execution": {
     "iopub.execute_input": "2023-09-10T23:26:05.594037Z",
     "iopub.status.busy": "2023-09-10T23:26:05.593385Z",
     "iopub.status.idle": "2023-09-10T23:26:05.928831Z",
     "shell.execute_reply": "2023-09-10T23:26:05.927225Z",
     "shell.execute_reply.started": "2023-09-10T23:26:05.593964Z"
    }
   },
   "outputs": [
    {
     "data": {
      "image/png": "[encoded data removed]",
      "text/plain": [
       "<Figure size 2000x1000 with 1 Axes>"
      ]
     },
     "metadata": {},
     "output_type": "display_data"
    }
   ],
   "source": [
    "# Plot feature importance\n",
    "feature_importance = model.feature_importances_\n",
    "# make importances relative to max importance\n",
    "# feature_importance = 100.0 * (feature_importance / feature_importance.max())\n",
    "sorted_idx = np.argsort(feature_importance)\n",
    "pos = np.arange(sorted_idx.shape[0]) + .5\n",
    "plt.figure(figsize=(20,10))\n",
    "plt.subplot(1, 2, 2)\n",
    "plt.barh(pos, feature_importance[sorted_idx], align='center')\n",
    "plt.yticks(pos, X_train.columns.values[sorted_idx]) #Not 100 % sure the feature names match the importances correctly...\n",
    "plt.xlabel('Relative Importance')\n",
    "plt.title('Variable Importance')\n",
    "plt.show()"
   ]
  },
  {
   "cell_type": "markdown",
   "metadata": {},
   "source": [
    "# Question 2"
   ]
  },
  {
   "cell_type": "code",
   "execution_count": 50,
   "metadata": {
    "execution": {
     "iopub.execute_input": "2023-09-10T23:43:30.557341Z",
     "iopub.status.busy": "2023-09-10T23:43:30.556945Z",
     "iopub.status.idle": "2023-09-10T23:43:30.584557Z",
     "shell.execute_reply": "2023-09-10T23:43:30.583659Z",
     "shell.execute_reply.started": "2023-09-10T23:43:30.557308Z"
    }
   },
   "outputs": [
    {
     "data": {
      "text/html": [
       "<div>\n",
       "<style scoped>\n",
       "    .dataframe tbody tr th:only-of-type {\n",
       "        vertical-align: middle;\n",
       "    }\n",
       "\n",
       "    .dataframe tbody tr th {\n",
       "        vertical-align: top;\n",
       "    }\n",
       "\n",
       "    .dataframe thead th {\n",
       "        text-align: right;\n",
       "    }\n",
       "</style>\n",
       "<table border=\"1\" class=\"dataframe\">\n",
       "  <thead>\n",
       "    <tr style=\"text-align: right;\">\n",
       "      <th></th>\n",
       "      <th>Platform</th>\n",
       "      <th>Year_of_Release</th>\n",
       "      <th>Genre</th>\n",
       "      <th>Publisher</th>\n",
       "      <th>NA_Sales</th>\n",
       "      <th>EU_Sales</th>\n",
       "      <th>JP_Sales</th>\n",
       "      <th>Other_Sales</th>\n",
       "      <th>Global_Sales</th>\n",
       "      <th>Critic_Score</th>\n",
       "      <th>Critic_Count</th>\n",
       "      <th>User_Score</th>\n",
       "      <th>User_Count</th>\n",
       "      <th>Developer</th>\n",
       "      <th>Rating</th>\n",
       "    </tr>\n",
       "  </thead>\n",
       "  <tbody>\n",
       "    <tr>\n",
       "      <th>0</th>\n",
       "      <td>7</td>\n",
       "      <td>5</td>\n",
       "      <td>10</td>\n",
       "      <td>182</td>\n",
       "      <td>41.36</td>\n",
       "      <td>28.96</td>\n",
       "      <td>3.77</td>\n",
       "      <td>8.45</td>\n",
       "      <td>82.53</td>\n",
       "      <td>76.0</td>\n",
       "      <td>51.0</td>\n",
       "      <td>8</td>\n",
       "      <td>322.0</td>\n",
       "      <td>946</td>\n",
       "      <td>0</td>\n",
       "    </tr>\n",
       "    <tr>\n",
       "      <th>1</th>\n",
       "      <td>7</td>\n",
       "      <td>7</td>\n",
       "      <td>6</td>\n",
       "      <td>182</td>\n",
       "      <td>15.68</td>\n",
       "      <td>12.76</td>\n",
       "      <td>3.79</td>\n",
       "      <td>3.29</td>\n",
       "      <td>35.52</td>\n",
       "      <td>82.0</td>\n",
       "      <td>73.0</td>\n",
       "      <td>8.3</td>\n",
       "      <td>709.0</td>\n",
       "      <td>946</td>\n",
       "      <td>0</td>\n",
       "    </tr>\n",
       "    <tr>\n",
       "      <th>2</th>\n",
       "      <td>7</td>\n",
       "      <td>8</td>\n",
       "      <td>10</td>\n",
       "      <td>182</td>\n",
       "      <td>15.61</td>\n",
       "      <td>10.93</td>\n",
       "      <td>3.28</td>\n",
       "      <td>2.95</td>\n",
       "      <td>32.77</td>\n",
       "      <td>80.0</td>\n",
       "      <td>73.0</td>\n",
       "      <td>8</td>\n",
       "      <td>192.0</td>\n",
       "      <td>946</td>\n",
       "      <td>0</td>\n",
       "    </tr>\n",
       "    <tr>\n",
       "      <th>3</th>\n",
       "      <td>0</td>\n",
       "      <td>5</td>\n",
       "      <td>4</td>\n",
       "      <td>182</td>\n",
       "      <td>11.28</td>\n",
       "      <td>9.14</td>\n",
       "      <td>6.50</td>\n",
       "      <td>2.88</td>\n",
       "      <td>29.80</td>\n",
       "      <td>89.0</td>\n",
       "      <td>65.0</td>\n",
       "      <td>8.5</td>\n",
       "      <td>431.0</td>\n",
       "      <td>946</td>\n",
       "      <td>0</td>\n",
       "    </tr>\n",
       "    <tr>\n",
       "      <th>4</th>\n",
       "      <td>7</td>\n",
       "      <td>5</td>\n",
       "      <td>3</td>\n",
       "      <td>182</td>\n",
       "      <td>13.96</td>\n",
       "      <td>9.18</td>\n",
       "      <td>2.93</td>\n",
       "      <td>2.84</td>\n",
       "      <td>28.92</td>\n",
       "      <td>58.0</td>\n",
       "      <td>41.0</td>\n",
       "      <td>6.6</td>\n",
       "      <td>129.0</td>\n",
       "      <td>946</td>\n",
       "      <td>0</td>\n",
       "    </tr>\n",
       "  </tbody>\n",
       "</table>\n",
       "</div>"
      ],
      "text/plain": [
       "   Platform  Year_of_Release  Genre  Publisher  NA_Sales  EU_Sales  JP_Sales  \\\n",
       "0         7                5     10        182     41.36     28.96      3.77   \n",
       "1         7                7      6        182     15.68     12.76      3.79   \n",
       "2         7                8     10        182     15.61     10.93      3.28   \n",
       "3         0                5      4        182     11.28      9.14      6.50   \n",
       "4         7                5      3        182     13.96      9.18      2.93   \n",
       "\n",
       "   Other_Sales  Global_Sales  Critic_Score  Critic_Count User_Score  \\\n",
       "0         8.45         82.53          76.0          51.0          8   \n",
       "1         3.29         35.52          82.0          73.0        8.3   \n",
       "2         2.95         32.77          80.0          73.0          8   \n",
       "3         2.88         29.80          89.0          65.0        8.5   \n",
       "4         2.84         28.92          58.0          41.0        6.6   \n",
       "\n",
       "   User_Count  Developer  Rating  \n",
       "0       322.0        946       0  \n",
       "1       709.0        946       0  \n",
       "2       192.0        946       0  \n",
       "3       431.0        946       0  \n",
       "4       129.0        946       0  "
      ]
     },
     "execution_count": 50,
     "metadata": {},
     "output_type": "execute_result"
    }
   ],
   "source": [
    "sale_drop.head()"
   ]
  },
  {
   "cell_type": "code",
   "execution_count": 51,
   "metadata": {
    "execution": {
     "iopub.execute_input": "2023-09-10T23:43:30.722623Z",
     "iopub.status.busy": "2023-09-10T23:43:30.722344Z",
     "iopub.status.idle": "2023-09-10T23:43:30.727546Z",
     "shell.execute_reply": "2023-09-10T23:43:30.726542Z",
     "shell.execute_reply.started": "2023-09-10T23:43:30.722599Z"
    }
   },
   "outputs": [],
   "source": [
    "col = ['Name', 'Platform', 'Year_of_Release', 'Genre', 'Publisher', 'NA_Sales',\n",
    "       'EU_Sales', 'JP_Sales', 'Other_Sales', 'Global_Sales', 'Critic_Score',\n",
    "       'Critic_Count', 'User_Score', 'User_Count', 'Developer', 'Rating']\n",
    "\n",
    "\n",
    "col1 = ['Critic_Score','Critic_Count', 'User_Score', 'User_Count']"
   ]
  },
  {
   "cell_type": "code",
   "execution_count": 52,
   "metadata": {
    "execution": {
     "iopub.execute_input": "2023-09-10T23:43:31.874240Z",
     "iopub.status.busy": "2023-09-10T23:43:31.873338Z",
     "iopub.status.idle": "2023-09-10T23:43:31.888624Z",
     "shell.execute_reply": "2023-09-10T23:43:31.887392Z",
     "shell.execute_reply.started": "2023-09-10T23:43:31.874197Z"
    }
   },
   "outputs": [
    {
     "data": {
      "text/html": [
       "<div>\n",
       "<style scoped>\n",
       "    .dataframe tbody tr th:only-of-type {\n",
       "        vertical-align: middle;\n",
       "    }\n",
       "\n",
       "    .dataframe tbody tr th {\n",
       "        vertical-align: top;\n",
       "    }\n",
       "\n",
       "    .dataframe thead th {\n",
       "        text-align: right;\n",
       "    }\n",
       "</style>\n",
       "<table border=\"1\" class=\"dataframe\">\n",
       "  <thead>\n",
       "    <tr style=\"text-align: right;\">\n",
       "      <th></th>\n",
       "      <th>Critic_Score</th>\n",
       "      <th>Critic_Count</th>\n",
       "      <th>User_Score</th>\n",
       "      <th>User_Count</th>\n",
       "    </tr>\n",
       "  </thead>\n",
       "  <tbody>\n",
       "    <tr>\n",
       "      <th>0</th>\n",
       "      <td>76.0</td>\n",
       "      <td>51.0</td>\n",
       "      <td>8</td>\n",
       "      <td>322.0</td>\n",
       "    </tr>\n",
       "    <tr>\n",
       "      <th>1</th>\n",
       "      <td>82.0</td>\n",
       "      <td>73.0</td>\n",
       "      <td>8.3</td>\n",
       "      <td>709.0</td>\n",
       "    </tr>\n",
       "    <tr>\n",
       "      <th>2</th>\n",
       "      <td>80.0</td>\n",
       "      <td>73.0</td>\n",
       "      <td>8</td>\n",
       "      <td>192.0</td>\n",
       "    </tr>\n",
       "    <tr>\n",
       "      <th>3</th>\n",
       "      <td>89.0</td>\n",
       "      <td>65.0</td>\n",
       "      <td>8.5</td>\n",
       "      <td>431.0</td>\n",
       "    </tr>\n",
       "    <tr>\n",
       "      <th>4</th>\n",
       "      <td>58.0</td>\n",
       "      <td>41.0</td>\n",
       "      <td>6.6</td>\n",
       "      <td>129.0</td>\n",
       "    </tr>\n",
       "  </tbody>\n",
       "</table>\n",
       "</div>"
      ],
      "text/plain": [
       "   Critic_Score  Critic_Count User_Score  User_Count\n",
       "0          76.0          51.0          8       322.0\n",
       "1          82.0          73.0        8.3       709.0\n",
       "2          80.0          73.0          8       192.0\n",
       "3          89.0          65.0        8.5       431.0\n",
       "4          58.0          41.0        6.6       129.0"
      ]
     },
     "execution_count": 52,
     "metadata": {},
     "output_type": "execute_result"
    }
   ],
   "source": [
    "data2 = sale_drop[col1]\n",
    "data2.head()"
   ]
  },
  {
   "cell_type": "markdown",
   "metadata": {},
   "source": [
    "#### North America sales"
   ]
  },
  {
   "cell_type": "code",
   "execution_count": 53,
   "metadata": {
    "execution": {
     "iopub.execute_input": "2023-09-10T23:43:36.647144Z",
     "iopub.status.busy": "2023-09-10T23:43:36.645927Z",
     "iopub.status.idle": "2023-09-10T23:43:36.652380Z",
     "shell.execute_reply": "2023-09-10T23:43:36.651301Z",
     "shell.execute_reply.started": "2023-09-10T23:43:36.647089Z"
    }
   },
   "outputs": [],
   "source": [
    "NA = sale_drop['NA_Sales']"
   ]
  },
  {
   "cell_type": "code",
   "execution_count": 54,
   "metadata": {
    "execution": {
     "iopub.execute_input": "2023-09-10T23:43:37.092431Z",
     "iopub.status.busy": "2023-09-10T23:43:37.091193Z",
     "iopub.status.idle": "2023-09-10T23:43:37.117017Z",
     "shell.execute_reply": "2023-09-10T23:43:37.116034Z",
     "shell.execute_reply.started": "2023-09-10T23:43:37.092386Z"
    }
   },
   "outputs": [],
   "source": [
    "X_train, X_test, y_train, y_test = train_test_split(data2,NA,test_size= 0.2, random_state = 42, shuffle = True)\n",
    "# Create an instance of MinMaxScaler\n",
    "scaler = MinMaxScaler()\n",
    "\n",
    "# Fit the scaler to your training data and transform it\n",
    "X_train_scaled = scaler.fit_transform(X_train)\n",
    "\n",
    "# Transform your test data using the same scaler\n",
    "X_test_scaled = scaler.transform(X_test)"
   ]
  },
  {
   "cell_type": "code",
   "execution_count": 61,
   "metadata": {
    "execution": {
     "iopub.execute_input": "2023-09-10T23:52:17.530824Z",
     "iopub.status.busy": "2023-09-10T23:52:17.530443Z",
     "iopub.status.idle": "2023-09-10T23:52:19.581806Z",
     "shell.execute_reply": "2023-09-10T23:52:19.580685Z",
     "shell.execute_reply.started": "2023-09-10T23:52:17.530794Z"
    }
   },
   "outputs": [
    {
     "name": "stdout",
     "output_type": "stream",
     "text": [
      "R-squared (R²) Score: 0.2704102835949612\n",
      "Mean Squared Error (MSE): 0.2661986885849382\n"
     ]
    }
   ],
   "source": [
    "# Linear Regression model traning\n",
    "model = RandomForestRegressor(n_estimators=150)\n",
    "\n",
    "model.fit(X_train_scaled , y_train)\n",
    "\n",
    "\n",
    "#predictions on the test data\n",
    "predictions = model.predict(X_test_scaled)\n",
    "\n",
    "# Calculate R-squared (R²) score\n",
    "r2 = r2_score(y_test, predictions)\n",
    "\n",
    "# Calculate Mean Squared Error (MSE)\n",
    "mse = mean_squared_error(y_test, predictions)\n",
    "\n",
    "\n",
    "print(\"R-squared (R²) Score:\", r2)\n",
    "print(\"Mean Squared Error (MSE):\", mse)"
   ]
  },
  {
   "cell_type": "code",
   "execution_count": 61,
   "metadata": {
    "execution": {
     "iopub.execute_input": "2023-09-09T13:59:54.600178Z",
     "iopub.status.busy": "2023-09-09T13:59:54.599793Z",
     "iopub.status.idle": "2023-09-09T13:59:54.963004Z",
     "shell.execute_reply": "2023-09-09T13:59:54.962077Z",
     "shell.execute_reply.started": "2023-09-09T13:59:54.600149Z"
    }
   },
   "outputs": [
    {
     "data": {
      "image/png": "[encoded data removed]",
      "text/plain": [
       "<Figure size 640x480 with 1 Axes>"
      ]
     },
     "metadata": {},
     "output_type": "display_data"
    }
   ],
   "source": [
    "# Create the bar plot\n",
    "plt.bar(col1, list(model.feature_importances_))\n",
    "plt.title(\"Feature Contribution (North America sales)\")\n",
    "\n",
    "# Add values to the bars\n",
    "for i, coef in enumerate(model.feature_importances_):\n",
    "    plt.text(i, coef, f'{coef:.4f}', ha='center', va='bottom')\n",
    "plt.savefig('North America sales.png')\n",
    "plt.show()\n"
   ]
  },
  {
   "cell_type": "code",
   "execution_count": null,
   "metadata": {},
   "outputs": [],
   "source": []
  },
  {
   "cell_type": "markdown",
   "metadata": {},
   "source": [
    "##### Europe"
   ]
  },
  {
   "cell_type": "code",
   "execution_count": 62,
   "metadata": {
    "execution": {
     "iopub.execute_input": "2023-09-09T13:59:54.964464Z",
     "iopub.status.busy": "2023-09-09T13:59:54.964206Z",
     "iopub.status.idle": "2023-09-09T13:59:54.972388Z",
     "shell.execute_reply": "2023-09-09T13:59:54.971135Z",
     "shell.execute_reply.started": "2023-09-09T13:59:54.964438Z"
    }
   },
   "outputs": [],
   "source": [
    "EU = sale_drop['EU_Sales']\n"
   ]
  },
  {
   "cell_type": "code",
   "execution_count": 63,
   "metadata": {
    "execution": {
     "iopub.execute_input": "2023-09-09T14:03:04.473320Z",
     "iopub.status.busy": "2023-09-09T14:03:04.472966Z",
     "iopub.status.idle": "2023-09-09T14:03:04.491895Z",
     "shell.execute_reply": "2023-09-09T14:03:04.490365Z",
     "shell.execute_reply.started": "2023-09-09T14:03:04.473293Z"
    }
   },
   "outputs": [],
   "source": [
    "X_train, X_test, y_train, y_test = train_test_split(data2,EU,test_size= 0.2, random_state = 42, shuffle = True)\n",
    "# Create an instance of MinMaxScaler\n",
    "scaler = MinMaxScaler()\n",
    "\n",
    "# Fit the scaler to your training data and transform it\n",
    "X_train_scaled = scaler.fit_transform(X_train)\n",
    "\n",
    "# Transform your test data using the same scaler\n",
    "X_test_scaled = scaler.transform(X_test)"
   ]
  },
  {
   "cell_type": "code",
   "execution_count": 64,
   "metadata": {
    "execution": {
     "iopub.execute_input": "2023-09-09T14:03:07.615938Z",
     "iopub.status.busy": "2023-09-09T14:03:07.615574Z",
     "iopub.status.idle": "2023-09-09T14:03:09.566448Z",
     "shell.execute_reply": "2023-09-09T14:03:09.565183Z",
     "shell.execute_reply.started": "2023-09-09T14:03:07.615909Z"
    }
   },
   "outputs": [
    {
     "name": "stdout",
     "output_type": "stream",
     "text": [
      "R-squared (R²) Score: 0.19199681110162115\n",
      "Mean Squared Error (MSE): 0.16623062969204372\n"
     ]
    }
   ],
   "source": [
    "# Linear Regression model traning\n",
    "model1 = RandomForestRegressor(n_estimators=150)\n",
    "\n",
    "model1.fit(X_train_scaled , y_train)\n",
    "\n",
    "\n",
    "#predictions on the test data\n",
    "predictions = model1.predict(X_test_scaled)\n",
    "\n",
    "# Calculate R-squared (R²) score\n",
    "r2 = r2_score(y_test, predictions)\n",
    "\n",
    "# Calculate Mean Squared Error (MSE)\n",
    "mse = mean_squared_error(y_test, predictions)\n",
    "\n",
    "\n",
    "print(\"R-squared (R²) Score:\", r2)\n",
    "print(\"Mean Squared Error (MSE):\", mse)"
   ]
  },
  {
   "cell_type": "code",
   "execution_count": 65,
   "metadata": {
    "execution": {
     "iopub.execute_input": "2023-09-09T14:03:38.693919Z",
     "iopub.status.busy": "2023-09-09T14:03:38.693528Z",
     "iopub.status.idle": "2023-09-09T14:03:39.022672Z",
     "shell.execute_reply": "2023-09-09T14:03:39.021913Z",
     "shell.execute_reply.started": "2023-09-09T14:03:38.693859Z"
    }
   },
   "outputs": [
    {
     "data": {
      "image/png": "[encoded data removed]",
      "text/plain": [
       "<Figure size 640x480 with 1 Axes>"
      ]
     },
     "metadata": {},
     "output_type": "display_data"
    }
   ],
   "source": [
    "# Create the bar plot\n",
    "plt.bar(col1, list(model1.feature_importances_))\n",
    "plt.title(\"Feature Contribution (Europe)\")\n",
    "\n",
    "# Add values to the bars\n",
    "for i, coef in enumerate(model1.feature_importances_):\n",
    "    plt.text(i, coef, f'{coef:.4f}', ha='center', va='bottom')\n",
    "plt.savefig('EU sales.png')\n",
    "plt.show()\n"
   ]
  },
  {
   "cell_type": "code",
   "execution_count": null,
   "metadata": {},
   "outputs": [],
   "source": []
  },
  {
   "cell_type": "markdown",
   "metadata": {},
   "source": [
    "#### Japan"
   ]
  },
  {
   "cell_type": "code",
   "execution_count": 66,
   "metadata": {
    "execution": {
     "iopub.execute_input": "2023-09-09T14:03:40.043163Z",
     "iopub.status.busy": "2023-09-09T14:03:40.042558Z",
     "iopub.status.idle": "2023-09-09T14:03:40.046741Z",
     "shell.execute_reply": "2023-09-09T14:03:40.046078Z",
     "shell.execute_reply.started": "2023-09-09T14:03:40.043131Z"
    }
   },
   "outputs": [],
   "source": [
    "japan = sale_drop['JP_Sales']"
   ]
  },
  {
   "cell_type": "code",
   "execution_count": 67,
   "metadata": {
    "execution": {
     "iopub.execute_input": "2023-09-09T14:03:40.383741Z",
     "iopub.status.busy": "2023-09-09T14:03:40.383192Z",
     "iopub.status.idle": "2023-09-09T14:03:40.399442Z",
     "shell.execute_reply": "2023-09-09T14:03:40.398645Z",
     "shell.execute_reply.started": "2023-09-09T14:03:40.383711Z"
    }
   },
   "outputs": [],
   "source": [
    "X_train, X_test, y_train, y_test = train_test_split(data2,japan,test_size= 0.2, random_state = 42, shuffle = True)\n",
    "# # Create an instance of MinMaxScaler\n",
    "scaler = MinMaxScaler()\n",
    "\n",
    "# # Fit the scaler to your training data and transform it\n",
    "X_train_scaled = scaler.fit_transform(X_train)\n",
    "\n",
    "# # Transform your test data using the same scaler\n",
    "X_test_scaled = scaler.transform(X_test)"
   ]
  },
  {
   "cell_type": "code",
   "execution_count": 68,
   "metadata": {
    "execution": {
     "iopub.execute_input": "2023-09-09T14:03:40.661369Z",
     "iopub.status.busy": "2023-09-09T14:03:40.660826Z",
     "iopub.status.idle": "2023-09-09T14:03:42.330787Z",
     "shell.execute_reply": "2023-09-09T14:03:42.330064Z",
     "shell.execute_reply.started": "2023-09-09T14:03:40.661343Z"
    }
   },
   "outputs": [
    {
     "name": "stdout",
     "output_type": "stream",
     "text": [
      "Mean Squared Error (MSE): 0.05328315641693918\n"
     ]
    }
   ],
   "source": [
    "# Linear Regression model traning\n",
    "model2 = RandomForestRegressor(n_estimators=150)\n",
    "\n",
    "model2.fit(X_train , y_train)\n",
    "\n",
    "\n",
    "#predictions on the test data\n",
    "predictions = model2.predict(X_test)\n",
    "\n",
    "# Calculate R-squared (R²) score\n",
    "r2 = r2_score(y_test, predictions)\n",
    "\n",
    "# Calculate Mean Squared Error (MSE)\n",
    "mse = mean_squared_error(y_test, predictions)\n",
    "\n",
    "\n",
    "\n",
    "print(\"Mean Squared Error (MSE):\", mse)"
   ]
  },
  {
   "cell_type": "code",
   "execution_count": null,
   "metadata": {},
   "outputs": [],
   "source": []
  },
  {
   "cell_type": "code",
   "execution_count": 69,
   "metadata": {
    "execution": {
     "iopub.execute_input": "2023-09-09T14:03:42.655660Z",
     "iopub.status.busy": "2023-09-09T14:03:42.655159Z",
     "iopub.status.idle": "2023-09-09T14:03:42.984132Z",
     "shell.execute_reply": "2023-09-09T14:03:42.983480Z",
     "shell.execute_reply.started": "2023-09-09T14:03:42.655635Z"
    }
   },
   "outputs": [
    {
     "data": {
      "image/png": "[encoded data removed]",
      "text/plain": [
       "<Figure size 640x480 with 1 Axes>"
      ]
     },
     "metadata": {},
     "output_type": "display_data"
    }
   ],
   "source": [
    "# Create the bar plot\n",
    "plt.bar(col1, list(model2.feature_importances_))\n",
    "plt.title(\"Feature Contribution (Japan)\")\n",
    "\n",
    "# Add values to the bars\n",
    "for i, coef in enumerate(model2.feature_importances_):\n",
    "    plt.text(i, coef, f'{coef:.4f}', ha='center', va='bottom')\n",
    "plt.savefig('Japan sales.png')\n",
    "plt.show()"
   ]
  },
  {
   "cell_type": "markdown",
   "metadata": {},
   "source": [
    "## Q4"
   ]
  },
  {
   "cell_type": "code",
   "execution_count": 38,
   "metadata": {
    "execution": {
     "iopub.execute_input": "2023-09-11T14:54:44.012664Z",
     "iopub.status.busy": "2023-09-11T14:54:44.011963Z",
     "iopub.status.idle": "2023-09-11T14:54:44.018895Z",
     "shell.execute_reply": "2023-09-11T14:54:44.017995Z",
     "shell.execute_reply.started": "2023-09-11T14:54:44.012629Z"
    }
   },
   "outputs": [
    {
     "data": {
      "text/plain": [
       "Index(['Name', 'Platform', 'Year_of_Release', 'Genre', 'Publisher', 'NA_Sales',\n",
       "       'EU_Sales', 'JP_Sales', 'Other_Sales', 'Global_Sales', 'Critic_Score',\n",
       "       'Critic_Count', 'User_Score', 'User_Count', 'Developer', 'Rating'],\n",
       "      dtype='object')"
      ]
     },
     "execution_count": 38,
     "metadata": {},
     "output_type": "execute_result"
    }
   ],
   "source": [
    "sale.columns"
   ]
  },
  {
   "cell_type": "code",
   "execution_count": 39,
   "metadata": {
    "execution": {
     "iopub.execute_input": "2023-09-11T14:54:44.371479Z",
     "iopub.status.busy": "2023-09-11T14:54:44.370769Z",
     "iopub.status.idle": "2023-09-11T14:54:44.376265Z",
     "shell.execute_reply": "2023-09-11T14:54:44.375137Z",
     "shell.execute_reply.started": "2023-09-11T14:54:44.371447Z"
    }
   },
   "outputs": [],
   "source": [
    "#Categorical variables\n",
    "\n",
    "cat = ['Platform','Genre', 'Publisher','Developer', 'Rating']"
   ]
  },
  {
   "cell_type": "code",
   "execution_count": 40,
   "metadata": {
    "execution": {
     "iopub.execute_input": "2023-09-11T14:54:44.859106Z",
     "iopub.status.busy": "2023-09-11T14:54:44.858732Z",
     "iopub.status.idle": "2023-09-11T14:54:44.865363Z",
     "shell.execute_reply": "2023-09-11T14:54:44.864449Z",
     "shell.execute_reply.started": "2023-09-11T14:54:44.859057Z"
    }
   },
   "outputs": [],
   "source": [
    "platform = sale_dro['Platform']\n",
    "\n",
    "X_platform = sale_dro.drop(columns = ['Platform'])"
   ]
  },
  {
   "cell_type": "markdown",
   "metadata": {},
   "source": [
    "#### Platform"
   ]
  },
  {
   "cell_type": "code",
   "execution_count": 41,
   "metadata": {
    "execution": {
     "iopub.execute_input": "2023-09-11T14:54:46.178737Z",
     "iopub.status.busy": "2023-09-11T14:54:46.178041Z",
     "iopub.status.idle": "2023-09-11T14:54:46.215438Z",
     "shell.execute_reply": "2023-09-11T14:54:46.214557Z",
     "shell.execute_reply.started": "2023-09-11T14:54:46.178704Z"
    }
   },
   "outputs": [],
   "source": [
    "X_train, X_test, y_train, y_test = train_test_split(X_platform,platform,test_size= 0.2, random_state = 42, shuffle = True)\n",
    "# Create an instance of MinMaxScaler\n",
    "scaler = MinMaxScaler()\n",
    "\n",
    "# # Fit the scaler to your training data and transform it\n",
    "X_train_scaled = scaler.fit_transform(X_train)\n",
    "\n",
    "# # Transform your test data using the same scaler\n",
    "X_test_scaled = scaler.transform(X_test)"
   ]
  },
  {
   "cell_type": "code",
   "execution_count": 42,
   "metadata": {
    "execution": {
     "iopub.execute_input": "2023-09-11T14:54:47.186755Z",
     "iopub.status.busy": "2023-09-11T14:54:47.186405Z",
     "iopub.status.idle": "2023-09-11T14:54:48.924197Z",
     "shell.execute_reply": "2023-09-11T14:54:48.923247Z",
     "shell.execute_reply.started": "2023-09-11T14:54:47.186727Z"
    }
   },
   "outputs": [
    {
     "name": "stdout",
     "output_type": "stream",
     "text": [
      "Confusion Matrix:\n",
      "[[158   5   6   0  15   4  10  47   6   1]\n",
      " [  4  61   0   0  17   0   0   1   0  11]\n",
      " [ 10   0 133   0   4   4   0   0   2   2]\n",
      " [  0   1   0   0   7   0   0   0   0   0]\n",
      " [ 17  18   3   0 165   6  14  28   8  26]\n",
      " [  6   0   6   0   4  91   3  13  64   0]\n",
      " [ 36   1   2   0  28   9  32  12   2   1]\n",
      " [ 71   0   1   0   1  13  10  59  17   0]\n",
      " [  9   0   7   0   5  74   5  26  91   1]\n",
      " [  1  11   3   0  62   0   6   1   1  65]]\n",
      "\n",
      "Accuracy: 0.5200729927007299\n",
      "Classification report (Platform):\n",
      "              precision    recall  f1-score   support\n",
      "\n",
      "           0       0.51      0.63      0.56       252\n",
      "           1       0.63      0.65      0.64        94\n",
      "           2       0.83      0.86      0.84       155\n",
      "           3       0.00      0.00      0.00         8\n",
      "           4       0.54      0.58      0.56       285\n",
      "           5       0.45      0.49      0.47       187\n",
      "           6       0.40      0.26      0.32       123\n",
      "           7       0.32      0.34      0.33       172\n",
      "           8       0.48      0.42      0.44       218\n",
      "           9       0.61      0.43      0.51       150\n",
      "\n",
      "    accuracy                           0.52      1644\n",
      "   macro avg       0.47      0.47      0.47      1644\n",
      "weighted avg       0.52      0.52      0.51      1644\n",
      "\n"
     ]
    },
    {
     "name": "stderr",
     "output_type": "stream",
     "text": [
      "/opt/conda/lib/python3.10/site-packages/sklearn/metrics/_classification.py:1344: UndefinedMetricWarning: Precision and F-score are ill-defined and being set to 0.0 in labels with no predicted samples. Use `zero_division` parameter to control this behavior.\n",
      "  _warn_prf(average, modifier, msg_start, len(result))\n",
      "/opt/conda/lib/python3.10/site-packages/sklearn/metrics/_classification.py:1344: UndefinedMetricWarning: Precision and F-score are ill-defined and being set to 0.0 in labels with no predicted samples. Use `zero_division` parameter to control this behavior.\n",
      "  _warn_prf(average, modifier, msg_start, len(result))\n",
      "/opt/conda/lib/python3.10/site-packages/sklearn/metrics/_classification.py:1344: UndefinedMetricWarning: Precision and F-score are ill-defined and being set to 0.0 in labels with no predicted samples. Use `zero_division` parameter to control this behavior.\n",
      "  _warn_prf(average, modifier, msg_start, len(result))\n"
     ]
    }
   ],
   "source": [
    "from sklearn.ensemble import RandomForestClassifier\n",
    "from sklearn.metrics import accuracy_score, confusion_matrix, classification_report\n",
    "\n",
    "\n",
    "forest = RandomForestClassifier(random_state=1)\n",
    "\n",
    "forest.fit(X_train_scaled, y_train)\n",
    "predictions = forest.predict(X_test_scaled)\n",
    "\n",
    "# Calculate the confusion matrix\n",
    "confusion = confusion_matrix(y_test, predictions)\n",
    "classification_report_str = classification_report(y_test, predictions)\n",
    "# Calculate the accuracy\n",
    "accuracy = accuracy_score(y_test, predictions)\n",
    "\n",
    "print(\"Confusion Matrix:\")\n",
    "print(confusion)\n",
    "print(\"\\nAccuracy:\", accuracy)\n",
    "print(\"Classification report (Platform):\")\n",
    "print(classification_report_str)\n"
   ]
  },
  {
   "cell_type": "code",
   "execution_count": 46,
   "metadata": {
    "execution": {
     "iopub.execute_input": "2023-09-11T15:03:03.171910Z",
     "iopub.status.busy": "2023-09-11T15:03:03.171544Z",
     "iopub.status.idle": "2023-09-11T15:03:08.675009Z",
     "shell.execute_reply": "2023-09-11T15:03:08.674016Z",
     "shell.execute_reply.started": "2023-09-11T15:03:03.171881Z"
    }
   },
   "outputs": [
    {
     "name": "stderr",
     "output_type": "stream",
     "text": [
      "/opt/conda/lib/python3.10/site-packages/sklearn/metrics/_classification.py:1344: UndefinedMetricWarning: Precision is ill-defined and being set to 0.0 in labels with no predicted samples. Use `zero_division` parameter to control this behavior.\n",
      "  _warn_prf(average, modifier, msg_start, len(result))\n",
      "/opt/conda/lib/python3.10/site-packages/sklearn/metrics/_classification.py:1344: UndefinedMetricWarning: Precision is ill-defined and being set to 0.0 in labels with no predicted samples. Use `zero_division` parameter to control this behavior.\n",
      "  _warn_prf(average, modifier, msg_start, len(result))\n"
     ]
    },
    {
     "data": {
      "text/plain": [
       "array([0.46298633, 0.44692227, 0.45706769, 0.47591643, 0.45691106])"
      ]
     },
     "execution_count": 46,
     "metadata": {},
     "output_type": "execute_result"
    }
   ],
   "source": [
    "from sklearn.model_selection import cross_validate\n",
    "from sklearn.metrics import recall_score\n",
    "scoring = ['precision_macro', 'recall_macro']\n",
    "scores = cross_validate(forest, X_train, y_train, scoring=scoring)\n",
    "sorted(scores.keys())\n",
    "scores['test_recall_macro']"
   ]
  },
  {
   "cell_type": "markdown",
   "metadata": {},
   "source": [
    "#### Genre"
   ]
  },
  {
   "cell_type": "code",
   "execution_count": 47,
   "metadata": {
    "execution": {
     "iopub.execute_input": "2023-09-11T15:03:37.939352Z",
     "iopub.status.busy": "2023-09-11T15:03:37.938633Z",
     "iopub.status.idle": "2023-09-11T15:03:37.947789Z",
     "shell.execute_reply": "2023-09-11T15:03:37.946753Z",
     "shell.execute_reply.started": "2023-09-11T15:03:37.939318Z"
    }
   },
   "outputs": [],
   "source": [
    "genre = sale_dro['Genre']\n",
    "X_genre = sale_dro.drop(columns = ['Genre'])"
   ]
  },
  {
   "cell_type": "code",
   "execution_count": 48,
   "metadata": {
    "execution": {
     "iopub.execute_input": "2023-09-11T15:03:38.338266Z",
     "iopub.status.busy": "2023-09-11T15:03:38.337901Z",
     "iopub.status.idle": "2023-09-11T15:03:38.374265Z",
     "shell.execute_reply": "2023-09-11T15:03:38.373358Z",
     "shell.execute_reply.started": "2023-09-11T15:03:38.338230Z"
    }
   },
   "outputs": [],
   "source": [
    "X_train, X_test, y_train, y_test = train_test_split(X_genre,genre,test_size= 0.2, random_state = 42, shuffle = True)\n",
    "# # Create an instance of MinMaxScaler\n",
    "scaler = MinMaxScaler()\n",
    "\n",
    "# # Fit the scaler to your training data and transform it\n",
    "X_train_scaled = scaler.fit_transform(X_train)\n",
    "\n",
    "# # Transform your test data using the same scaler\n",
    "X_test_scaled = scaler.transform(X_test)"
   ]
  },
  {
   "cell_type": "code",
   "execution_count": 49,
   "metadata": {
    "execution": {
     "iopub.execute_input": "2023-09-11T15:03:43.738343Z",
     "iopub.status.busy": "2023-09-11T15:03:43.737980Z",
     "iopub.status.idle": "2023-09-11T15:03:45.145618Z",
     "shell.execute_reply": "2023-09-11T15:03:45.144677Z",
     "shell.execute_reply.started": "2023-09-11T15:03:43.738315Z"
    }
   },
   "outputs": [
    {
     "name": "stdout",
     "output_type": "stream",
     "text": [
      "Confusion Matrix:\n",
      "[[240   0   5   3   9   3  12  12  29  10  23   6]\n",
      " [ 37   5   0   7   3   5   0   8   3   6  10   3]\n",
      " [ 19   0  30   1   1   0   2  10   3   0   3   0]\n",
      " [ 15   6   2  70   5   5  10   1   5  12  25   0]\n",
      " [ 27   2   0   2  22   2   5   2   2   3  14   1]\n",
      " [  9   2   0  12   2  13   3   3   2   5  10   1]\n",
      " [ 34   0   2   8   4   5  55   3   3   1  42   0]\n",
      " [ 34   1   3   2   6   1   1  49   8   1   5   2]\n",
      " [ 59   0   4   1   0   0   2   7  84   4   8   6]\n",
      " [ 21   5   2  13   2   6   4   5   1  25   9   4]\n",
      " [ 19   1   1  14   4   3  11   2   6   4 165   2]\n",
      " [ 18   3   2   1   1   0   1   9   3   2   3  19]]\n",
      "\n",
      "Accuracy: 0.4726277372262774\n",
      "Classification report (Genre):\n",
      "              precision    recall  f1-score   support\n",
      "\n",
      "           0       0.45      0.68      0.54       352\n",
      "           1       0.20      0.06      0.09        87\n",
      "           2       0.59      0.43      0.50        69\n",
      "           3       0.52      0.45      0.48       156\n",
      "           4       0.37      0.27      0.31        82\n",
      "           5       0.30      0.21      0.25        62\n",
      "           6       0.52      0.35      0.42       157\n",
      "           7       0.44      0.43      0.44       113\n",
      "           8       0.56      0.48      0.52       175\n",
      "           9       0.34      0.26      0.29        97\n",
      "          10       0.52      0.71      0.60       232\n",
      "          11       0.43      0.31      0.36        62\n",
      "\n",
      "    accuracy                           0.47      1644\n",
      "   macro avg       0.44      0.39      0.40      1644\n",
      "weighted avg       0.46      0.47      0.45      1644\n",
      "\n"
     ]
    }
   ],
   "source": [
    "\n",
    "forest = RandomForestClassifier(random_state=1)\n",
    "\n",
    "forest.fit(X_train_scaled, y_train)\n",
    "predictions = forest.predict(X_test_scaled)\n",
    "\n",
    "# Calculate the confusion matrix\n",
    "confusion = confusion_matrix(y_test, predictions)\n",
    "classification_report_str = classification_report(y_test, predictions)\n",
    "# Calculate the accuracy\n",
    "accuracy = accuracy_score(y_test, predictions)\n",
    "\n",
    "print(\"Confusion Matrix:\")\n",
    "print(confusion)\n",
    "print(\"\\nAccuracy:\", accuracy)\n",
    "print(\"Classification report (Genre):\")\n",
    "print(classification_report_str)"
   ]
  },
  {
   "cell_type": "code",
   "execution_count": 50,
   "metadata": {
    "execution": {
     "iopub.execute_input": "2023-09-11T15:04:16.058283Z",
     "iopub.status.busy": "2023-09-11T15:04:16.057891Z",
     "iopub.status.idle": "2023-09-11T15:04:22.375701Z",
     "shell.execute_reply": "2023-09-11T15:04:22.374772Z",
     "shell.execute_reply.started": "2023-09-11T15:04:16.058245Z"
    }
   },
   "outputs": [
    {
     "data": {
      "text/plain": [
       "array([0.37038226, 0.38299685, 0.36738385, 0.36753091, 0.36951997])"
      ]
     },
     "execution_count": 50,
     "metadata": {},
     "output_type": "execute_result"
    }
   ],
   "source": [
    "#Cross validation for the Genre\n",
    "scoring = ['precision_macro', 'recall_macro']\n",
    "scores = cross_validate(forest, X_train, y_train, scoring=scoring)\n",
    "sorted(scores.keys())\n",
    "scores['test_recall_macro']"
   ]
  },
  {
   "cell_type": "markdown",
   "metadata": {},
   "source": [
    "#### Rating"
   ]
  },
  {
   "cell_type": "code",
   "execution_count": 53,
   "metadata": {
    "execution": {
     "iopub.execute_input": "2023-09-11T15:05:34.771396Z",
     "iopub.status.busy": "2023-09-11T15:05:34.770499Z",
     "iopub.status.idle": "2023-09-11T15:05:34.778630Z",
     "shell.execute_reply": "2023-09-11T15:05:34.777543Z",
     "shell.execute_reply.started": "2023-09-11T15:05:34.771355Z"
    }
   },
   "outputs": [],
   "source": [
    "rating = sale_dro['Rating']\n",
    "X_rating = sale_dro.drop(columns = ['Rating'])"
   ]
  },
  {
   "cell_type": "code",
   "execution_count": 54,
   "metadata": {
    "execution": {
     "iopub.execute_input": "2023-09-11T15:05:35.098897Z",
     "iopub.status.busy": "2023-09-11T15:05:35.098541Z",
     "iopub.status.idle": "2023-09-11T15:05:35.135432Z",
     "shell.execute_reply": "2023-09-11T15:05:35.134512Z",
     "shell.execute_reply.started": "2023-09-11T15:05:35.098867Z"
    }
   },
   "outputs": [],
   "source": [
    "X_train, X_test, y_train, y_test = train_test_split(X_rating,rating,test_size= 0.2, random_state = 42, shuffle = True)\n",
    "# # Create an instance of MinMaxScaler\n",
    "scaler = MinMaxScaler()\n",
    "\n",
    "# # Fit the scaler to your training data and transform it\n",
    "X_train_scaled = scaler.fit_transform(X_train)\n",
    "\n",
    "# # Transform your test data using the same scaler\n",
    "X_test_scaled = scaler.transform(X_test)"
   ]
  },
  {
   "cell_type": "code",
   "execution_count": 55,
   "metadata": {
    "execution": {
     "iopub.execute_input": "2023-09-11T15:05:37.019523Z",
     "iopub.status.busy": "2023-09-11T15:05:37.019154Z",
     "iopub.status.idle": "2023-09-11T15:05:38.252106Z",
     "shell.execute_reply": "2023-09-11T15:05:38.251121Z",
     "shell.execute_reply.started": "2023-09-11T15:05:37.019496Z"
    }
   },
   "outputs": [
    {
     "name": "stdout",
     "output_type": "stream",
     "text": [
      "Confusion Matrix:\n",
      "[[580  17   4  60]\n",
      " [ 94  91   6  45]\n",
      " [ 10   4 171  85]\n",
      " [ 84  31  49 313]]\n",
      "\n",
      "Accuracy: 0.7025547445255474\n",
      "Classification report (Rating):\n",
      "              precision    recall  f1-score   support\n",
      "\n",
      "           0       0.76      0.88      0.81       661\n",
      "           1       0.64      0.39      0.48       236\n",
      "           2       0.74      0.63      0.68       270\n",
      "           3       0.62      0.66      0.64       477\n",
      "\n",
      "    accuracy                           0.70      1644\n",
      "   macro avg       0.69      0.64      0.65      1644\n",
      "weighted avg       0.70      0.70      0.69      1644\n",
      "\n"
     ]
    }
   ],
   "source": [
    "forest = RandomForestClassifier(random_state=1)\n",
    "\n",
    "forest.fit(X_train_scaled, y_train)\n",
    "predictions = forest.predict(X_test_scaled)\n",
    "\n",
    "# Calculate the confusion matrix\n",
    "confusion = confusion_matrix(y_test, predictions)\n",
    "classification_report_str = classification_report(y_test, predictions)\n",
    "# Calculate the accuracy\n",
    "accuracy = accuracy_score(y_test, predictions)\n",
    "\n",
    "print(\"Confusion Matrix:\")\n",
    "print(confusion)\n",
    "print(\"\\nAccuracy:\", accuracy)\n",
    "print(\"Classification report (Rating):\")\n",
    "print(classification_report_str)"
   ]
  },
  {
   "cell_type": "code",
   "execution_count": 58,
   "metadata": {
    "execution": {
     "iopub.execute_input": "2023-09-11T15:06:48.340143Z",
     "iopub.status.busy": "2023-09-11T15:06:48.339207Z",
     "iopub.status.idle": "2023-09-11T15:06:53.619009Z",
     "shell.execute_reply": "2023-09-11T15:06:53.618056Z",
     "shell.execute_reply.started": "2023-09-11T15:06:48.340101Z"
    }
   },
   "outputs": [
    {
     "data": {
      "text/plain": [
       "array([0.61774979, 0.6156174 , 0.60599099, 0.59963749, 0.58468435])"
      ]
     },
     "execution_count": 58,
     "metadata": {},
     "output_type": "execute_result"
    }
   ],
   "source": [
    "#Cross validation for the Rating model\n",
    "scoring = ['precision_macro', 'recall_macro']\n",
    "scores = cross_validate(forest, X_train, y_train, scoring=scoring)\n",
    "sorted(scores.keys())\n",
    "scores['test_recall_macro']"
   ]
  },
  {
   "cell_type": "markdown",
   "metadata": {},
   "source": [
    "### Unsupervised Learning"
   ]
  },
  {
   "cell_type": "code",
   "execution_count": 62,
   "metadata": {
    "execution": {
     "iopub.execute_input": "2023-09-11T15:09:09.331151Z",
     "iopub.status.busy": "2023-09-11T15:09:09.330755Z",
     "iopub.status.idle": "2023-09-11T15:09:09.835662Z",
     "shell.execute_reply": "2023-09-11T15:09:09.834691Z",
     "shell.execute_reply.started": "2023-09-11T15:09:09.331121Z"
    }
   },
   "outputs": [],
   "source": [
    "\n",
    "from sklearn.decomposition import PCA\n",
    "from sklearn.preprocessing import StandardScaler\n",
    "import matplotlib.image as mpimg\n",
    "\n",
    "import cv2\n",
    "from sklearn.cluster import KMeans\n",
    "import seaborn as sn\n",
    "from yellowbrick.cluster import KElbowVisualizer\n",
    "from sklearn.metrics import silhouette_score,adjusted_rand_score, v_measure_score, adjusted_mutual_info_score,adjusted_rand_score, davies_bouldin_score\n",
    "from scipy.cluster.hierarchy import linkage,dendrogram\n",
    "from sklearn.cluster import AgglomerativeClustering\n",
    "from scipy.cluster import hierarchy"
   ]
  },
  {
   "cell_type": "code",
   "execution_count": 63,
   "metadata": {
    "execution": {
     "iopub.execute_input": "2023-09-11T15:09:12.700659Z",
     "iopub.status.busy": "2023-09-11T15:09:12.699679Z",
     "iopub.status.idle": "2023-09-11T15:09:12.708468Z",
     "shell.execute_reply": "2023-09-11T15:09:12.707227Z",
     "shell.execute_reply.started": "2023-09-11T15:09:12.700623Z"
    }
   },
   "outputs": [
    {
     "data": {
      "text/plain": [
       "Index(['Platform', 'Year_of_Release', 'Genre', 'Publisher', 'Global_Sales',\n",
       "       'Critic_Score', 'Critic_Count', 'User_Score', 'User_Count',\n",
       "       'Developer'],\n",
       "      dtype='object')"
      ]
     },
     "execution_count": 63,
     "metadata": {},
     "output_type": "execute_result"
    }
   ],
   "source": [
    "col = ['Year_of_Release', 'Global_Sales', 'Critic_Score', 'Critic_Count', 'User_Score', 'User_Count']\n",
    "\n",
    "X_rating.columns"
   ]
  },
  {
   "cell_type": "code",
   "execution_count": 65,
   "metadata": {
    "execution": {
     "iopub.execute_input": "2023-09-11T15:09:37.033331Z",
     "iopub.status.busy": "2023-09-11T15:09:37.032734Z",
     "iopub.status.idle": "2023-09-11T15:09:37.039315Z",
     "shell.execute_reply": "2023-09-11T15:09:37.038345Z",
     "shell.execute_reply.started": "2023-09-11T15:09:37.033298Z"
    }
   },
   "outputs": [],
   "source": [
    "X_rating_c = X_rating[col]"
   ]
  },
  {
   "cell_type": "code",
   "execution_count": 66,
   "metadata": {
    "execution": {
     "iopub.execute_input": "2023-09-11T15:09:38.033251Z",
     "iopub.status.busy": "2023-09-11T15:09:38.032559Z",
     "iopub.status.idle": "2023-09-11T15:09:38.052342Z",
     "shell.execute_reply": "2023-09-11T15:09:38.051375Z",
     "shell.execute_reply.started": "2023-09-11T15:09:38.033217Z"
    }
   },
   "outputs": [
    {
     "data": {
      "text/html": [
       "<div>\n",
       "<style scoped>\n",
       "    .dataframe tbody tr th:only-of-type {\n",
       "        vertical-align: middle;\n",
       "    }\n",
       "\n",
       "    .dataframe tbody tr th {\n",
       "        vertical-align: top;\n",
       "    }\n",
       "\n",
       "    .dataframe thead th {\n",
       "        text-align: right;\n",
       "    }\n",
       "</style>\n",
       "<table border=\"1\" class=\"dataframe\">\n",
       "  <thead>\n",
       "    <tr style=\"text-align: right;\">\n",
       "      <th></th>\n",
       "      <th>Year_of_Release</th>\n",
       "      <th>Global_Sales</th>\n",
       "      <th>Critic_Score</th>\n",
       "      <th>Critic_Count</th>\n",
       "      <th>User_Score</th>\n",
       "      <th>User_Count</th>\n",
       "    </tr>\n",
       "  </thead>\n",
       "  <tbody>\n",
       "    <tr>\n",
       "      <th>0</th>\n",
       "      <td>5</td>\n",
       "      <td>82.53</td>\n",
       "      <td>76.0</td>\n",
       "      <td>51.0</td>\n",
       "      <td>8</td>\n",
       "      <td>322.0</td>\n",
       "    </tr>\n",
       "    <tr>\n",
       "      <th>1</th>\n",
       "      <td>7</td>\n",
       "      <td>35.52</td>\n",
       "      <td>82.0</td>\n",
       "      <td>73.0</td>\n",
       "      <td>8.3</td>\n",
       "      <td>709.0</td>\n",
       "    </tr>\n",
       "    <tr>\n",
       "      <th>2</th>\n",
       "      <td>8</td>\n",
       "      <td>32.77</td>\n",
       "      <td>80.0</td>\n",
       "      <td>73.0</td>\n",
       "      <td>8</td>\n",
       "      <td>192.0</td>\n",
       "    </tr>\n",
       "    <tr>\n",
       "      <th>3</th>\n",
       "      <td>5</td>\n",
       "      <td>29.80</td>\n",
       "      <td>89.0</td>\n",
       "      <td>65.0</td>\n",
       "      <td>8.5</td>\n",
       "      <td>431.0</td>\n",
       "    </tr>\n",
       "    <tr>\n",
       "      <th>4</th>\n",
       "      <td>5</td>\n",
       "      <td>28.92</td>\n",
       "      <td>58.0</td>\n",
       "      <td>41.0</td>\n",
       "      <td>6.6</td>\n",
       "      <td>129.0</td>\n",
       "    </tr>\n",
       "    <tr>\n",
       "      <th>...</th>\n",
       "      <td>...</td>\n",
       "      <td>...</td>\n",
       "      <td>...</td>\n",
       "      <td>...</td>\n",
       "      <td>...</td>\n",
       "      <td>...</td>\n",
       "    </tr>\n",
       "    <tr>\n",
       "      <th>8214</th>\n",
       "      <td>10</td>\n",
       "      <td>0.01</td>\n",
       "      <td>61.0</td>\n",
       "      <td>12.0</td>\n",
       "      <td>5.8</td>\n",
       "      <td>43.0</td>\n",
       "    </tr>\n",
       "    <tr>\n",
       "      <th>8215</th>\n",
       "      <td>7</td>\n",
       "      <td>0.01</td>\n",
       "      <td>48.0</td>\n",
       "      <td>10.0</td>\n",
       "      <td>7.5</td>\n",
       "      <td>23.0</td>\n",
       "    </tr>\n",
       "    <tr>\n",
       "      <th>8216</th>\n",
       "      <td>10</td>\n",
       "      <td>0.01</td>\n",
       "      <td>60.0</td>\n",
       "      <td>12.0</td>\n",
       "      <td>7.2</td>\n",
       "      <td>13.0</td>\n",
       "    </tr>\n",
       "    <tr>\n",
       "      <th>8217</th>\n",
       "      <td>7</td>\n",
       "      <td>0.01</td>\n",
       "      <td>70.0</td>\n",
       "      <td>22.0</td>\n",
       "      <td>7.5</td>\n",
       "      <td>23.0</td>\n",
       "    </tr>\n",
       "    <tr>\n",
       "      <th>8218</th>\n",
       "      <td>8</td>\n",
       "      <td>0.01</td>\n",
       "      <td>63.0</td>\n",
       "      <td>6.0</td>\n",
       "      <td>5.8</td>\n",
       "      <td>8.0</td>\n",
       "    </tr>\n",
       "  </tbody>\n",
       "</table>\n",
       "<p>8219 rows × 6 columns</p>\n",
       "</div>"
      ],
      "text/plain": [
       "      Year_of_Release  Global_Sales  Critic_Score  Critic_Count User_Score  \\\n",
       "0                   5         82.53          76.0          51.0          8   \n",
       "1                   7         35.52          82.0          73.0        8.3   \n",
       "2                   8         32.77          80.0          73.0          8   \n",
       "3                   5         29.80          89.0          65.0        8.5   \n",
       "4                   5         28.92          58.0          41.0        6.6   \n",
       "...               ...           ...           ...           ...        ...   \n",
       "8214               10          0.01          61.0          12.0        5.8   \n",
       "8215                7          0.01          48.0          10.0        7.5   \n",
       "8216               10          0.01          60.0          12.0        7.2   \n",
       "8217                7          0.01          70.0          22.0        7.5   \n",
       "8218                8          0.01          63.0           6.0        5.8   \n",
       "\n",
       "      User_Count  \n",
       "0          322.0  \n",
       "1          709.0  \n",
       "2          192.0  \n",
       "3          431.0  \n",
       "4          129.0  \n",
       "...          ...  \n",
       "8214        43.0  \n",
       "8215        23.0  \n",
       "8216        13.0  \n",
       "8217        23.0  \n",
       "8218         8.0  \n",
       "\n",
       "[8219 rows x 6 columns]"
      ]
     },
     "execution_count": 66,
     "metadata": {},
     "output_type": "execute_result"
    }
   ],
   "source": [
    "X_rating_c"
   ]
  },
  {
   "cell_type": "code",
   "execution_count": 127,
   "metadata": {
    "execution": {
     "iopub.execute_input": "2023-09-09T14:54:38.395359Z",
     "iopub.status.busy": "2023-09-09T14:54:38.395012Z",
     "iopub.status.idle": "2023-09-09T14:54:38.411167Z",
     "shell.execute_reply": "2023-09-09T14:54:38.410045Z",
     "shell.execute_reply.started": "2023-09-09T14:54:38.395334Z"
    }
   },
   "outputs": [],
   "source": [
    "scaler =StandardScaler()#standardization of data\n",
    "X_rating_c_std = scaler.fit_transform(X_rating_c)"
   ]
  },
  {
   "cell_type": "code",
   "execution_count": 132,
   "metadata": {
    "execution": {
     "iopub.execute_input": "2023-09-09T14:55:01.634409Z",
     "iopub.status.busy": "2023-09-09T14:55:01.634075Z",
     "iopub.status.idle": "2023-09-09T14:55:01.670278Z",
     "shell.execute_reply": "2023-09-09T14:55:01.667978Z",
     "shell.execute_reply.started": "2023-09-09T14:55:01.634386Z"
    }
   },
   "outputs": [],
   "source": [
    "model = PCA(5) #PCA for mfeat-pix\n",
    "X_rating_c_t=model.fit_transform(X_rating_c_std)\n",
    "X_rating_c_t\n",
    "X_rating_c_tr = X_rating_c_t[:,0:5]"
   ]
  },
  {
   "cell_type": "code",
   "execution_count": 133,
   "metadata": {
    "execution": {
     "iopub.execute_input": "2023-09-09T14:55:02.954142Z",
     "iopub.status.busy": "2023-09-09T14:55:02.953770Z",
     "iopub.status.idle": "2023-09-09T14:55:02.966800Z",
     "shell.execute_reply": "2023-09-09T14:55:02.965288Z",
     "shell.execute_reply.started": "2023-09-09T14:55:02.954113Z"
    }
   },
   "outputs": [
    {
     "data": {
      "text/html": [
       "<div>\n",
       "<style scoped>\n",
       "    .dataframe tbody tr th:only-of-type {\n",
       "        vertical-align: middle;\n",
       "    }\n",
       "\n",
       "    .dataframe tbody tr th {\n",
       "        vertical-align: top;\n",
       "    }\n",
       "\n",
       "    .dataframe thead th {\n",
       "        text-align: right;\n",
       "    }\n",
       "</style>\n",
       "<table border=\"1\" class=\"dataframe\">\n",
       "  <thead>\n",
       "    <tr style=\"text-align: right;\">\n",
       "      <th></th>\n",
       "      <th>Explained_var</th>\n",
       "      <th>Explained_var</th>\n",
       "    </tr>\n",
       "  </thead>\n",
       "  <tbody>\n",
       "    <tr>\n",
       "      <th>0</th>\n",
       "      <td>2.08</td>\n",
       "      <td>0.35</td>\n",
       "    </tr>\n",
       "    <tr>\n",
       "      <th>1</th>\n",
       "      <td>1.36</td>\n",
       "      <td>0.23</td>\n",
       "    </tr>\n",
       "    <tr>\n",
       "      <th>2</th>\n",
       "      <td>0.89</td>\n",
       "      <td>0.15</td>\n",
       "    </tr>\n",
       "    <tr>\n",
       "      <th>3</th>\n",
       "      <td>0.69</td>\n",
       "      <td>0.11</td>\n",
       "    </tr>\n",
       "    <tr>\n",
       "      <th>4</th>\n",
       "      <td>0.58</td>\n",
       "      <td>0.10</td>\n",
       "    </tr>\n",
       "  </tbody>\n",
       "</table>\n",
       "</div>"
      ],
      "text/plain": [
       "   Explained_var  Explained_var\n",
       "0           2.08           0.35\n",
       "1           1.36           0.23\n",
       "2           0.89           0.15\n",
       "3           0.69           0.11\n",
       "4           0.58           0.10"
      ]
     },
     "execution_count": 133,
     "metadata": {},
     "output_type": "execute_result"
    }
   ],
   "source": [
    "feature =range(model.n_components_)\n",
    "explained_variance = pd.DataFrame(model.explained_variance_, columns =['Explained_var'])\n",
    "explained_var_ratio = pd.DataFrame(model.explained_variance_ratio_, columns =['Explained_var'])\n",
    "variance_df = pd.concat([explained_variance,explained_var_ratio],axis=1, join='inner')\n",
    "#variance_df.sort_values(by=['explained_var_ratio'],ascending= False, inplace=True)\n",
    "variance_df.head(10)\n",
    "# variance_df[0:5].sum()"
   ]
  },
  {
   "cell_type": "code",
   "execution_count": 134,
   "metadata": {
    "execution": {
     "iopub.execute_input": "2023-09-09T14:55:06.092518Z",
     "iopub.status.busy": "2023-09-09T14:55:06.092115Z",
     "iopub.status.idle": "2023-09-09T14:55:06.383516Z",
     "shell.execute_reply": "2023-09-09T14:55:06.382592Z",
     "shell.execute_reply.started": "2023-09-09T14:55:06.092488Z"
    }
   },
   "outputs": [
    {
     "data": {
      "image/png": "[encoded data removed]",
      "text/plain": [
       "<Figure size 800x600 with 1 Axes>"
      ]
     },
     "metadata": {},
     "output_type": "display_data"
    }
   ],
   "source": [
    "plt.figure(figsize = (8, 6))\n",
    "plt.bar(feature,model.explained_variance_, alpha=0.5)\n",
    "plt.ylabel('Explained variance ratio')\n",
    "plt.xlabel('Ranked Principal Components')\n",
    "plt.title(\"Scree Graph for Mfeat-pix Components\")\n",
    "plt.show()"
   ]
  },
  {
   "cell_type": "code",
   "execution_count": 135,
   "metadata": {
    "execution": {
     "iopub.execute_input": "2023-09-09T14:55:07.333640Z",
     "iopub.status.busy": "2023-09-09T14:55:07.333270Z",
     "iopub.status.idle": "2023-09-09T14:55:07.608562Z",
     "shell.execute_reply": "2023-09-09T14:55:07.607379Z",
     "shell.execute_reply.started": "2023-09-09T14:55:07.333612Z"
    }
   },
   "outputs": [
    {
     "data": {
      "image/png": "[encoded data removed]",
      "text/plain": [
       "<Figure size 600x400 with 1 Axes>"
      ]
     },
     "metadata": {},
     "output_type": "display_data"
    }
   ],
   "source": [
    "fig = plt.figure(figsize=(6,4))#plot for cummulative explained variance\n",
    "plt.plot(np.cumsum(model.explained_variance_ratio_))\n",
    "plt.xlabel('Number of Principal Components')\n",
    "plt.ylabel('Cumulative explained variance')\n",
    "plt.title('Explained Variance for Mfeat-pix')\n",
    "plt.show()"
   ]
  },
  {
   "cell_type": "code",
   "execution_count": 136,
   "metadata": {
    "execution": {
     "iopub.execute_input": "2023-09-09T14:55:25.366465Z",
     "iopub.status.busy": "2023-09-09T14:55:25.366085Z",
     "iopub.status.idle": "2023-09-09T14:55:31.763764Z",
     "shell.execute_reply": "2023-09-09T14:55:31.762433Z",
     "shell.execute_reply.started": "2023-09-09T14:55:25.366438Z"
    }
   },
   "outputs": [
    {
     "data": {
      "image/png": "[encoded data removed]",
      "text/plain": [
       "<Figure size 800x550 with 2 Axes>"
      ]
     },
     "metadata": {},
     "output_type": "display_data"
    },
    {
     "data": {
      "text/plain": [
       "<Axes: title={'center': 'Distortion Score Elbow for KMeans Clustering'}, xlabel='k', ylabel='distortion score'>"
      ]
     },
     "execution_count": 136,
     "metadata": {},
     "output_type": "execute_result"
    }
   ],
   "source": [
    "model15 =KMeans()\n",
    "elbow1 = KElbowVisualizer(model15,k=(1,15)).fit(X_rating_c_tr)\n",
    "elbow1.show()"
   ]
  },
  {
   "cell_type": "code",
   "execution_count": null,
   "metadata": {},
   "outputs": [],
   "source": []
  },
  {
   "cell_type": "markdown",
   "metadata": {},
   "source": [
    "### Platform"
   ]
  },
  {
   "cell_type": "code",
   "execution_count": 137,
   "metadata": {
    "execution": {
     "iopub.execute_input": "2023-09-09T14:55:44.699269Z",
     "iopub.status.busy": "2023-09-09T14:55:44.698908Z",
     "iopub.status.idle": "2023-09-09T14:55:45.239323Z",
     "shell.execute_reply": "2023-09-09T14:55:45.237485Z",
     "shell.execute_reply.started": "2023-09-09T14:55:44.699245Z"
    }
   },
   "outputs": [
    {
     "data": {
      "text/plain": [
       "array([6, 2, 2, ..., 0, 0, 1], dtype=int32)"
      ]
     },
     "execution_count": 137,
     "metadata": {},
     "output_type": "execute_result"
    }
   ],
   "source": [
    "#Using 10 clusters \n",
    "model1 = KMeans(n_clusters=10,random_state = 42, max_iter=300, n_init=10)#KMean model for Mfeat-pix\n",
    "cluster1= model1.fit_predict(X_rating_c_tr)\n",
    "model1.labels_"
   ]
  },
  {
   "cell_type": "code",
   "execution_count": 138,
   "metadata": {
    "execution": {
     "iopub.execute_input": "2023-09-09T14:55:46.039194Z",
     "iopub.status.busy": "2023-09-09T14:55:46.038881Z",
     "iopub.status.idle": "2023-09-09T14:55:46.047072Z",
     "shell.execute_reply": "2023-09-09T14:55:46.045812Z",
     "shell.execute_reply.started": "2023-09-09T14:55:46.039173Z"
    }
   },
   "outputs": [
    {
     "data": {
      "text/plain": [
       "13401.373995985186"
      ]
     },
     "execution_count": 138,
     "metadata": {},
     "output_type": "execute_result"
    }
   ],
   "source": [
    "centroids = model1.cluster_centers_\n",
    "model1.inertia_"
   ]
  },
  {
   "cell_type": "code",
   "execution_count": 139,
   "metadata": {
    "execution": {
     "iopub.execute_input": "2023-09-09T14:55:46.479524Z",
     "iopub.status.busy": "2023-09-09T14:55:46.479139Z",
     "iopub.status.idle": "2023-09-09T14:55:47.294623Z",
     "shell.execute_reply": "2023-09-09T14:55:47.293174Z",
     "shell.execute_reply.started": "2023-09-09T14:55:46.479497Z"
    }
   },
   "outputs": [
    {
     "data": {
      "text/plain": [
       "0.2738142048742837"
      ]
     },
     "execution_count": 139,
     "metadata": {},
     "output_type": "execute_result"
    }
   ],
   "source": [
    "silhouette_score(X_rating_c_tr,model1.labels_,metric = 'euclidean')"
   ]
  },
  {
   "cell_type": "code",
   "execution_count": 140,
   "metadata": {
    "execution": {
     "iopub.execute_input": "2023-09-09T14:55:49.571177Z",
     "iopub.status.busy": "2023-09-09T14:55:49.570833Z",
     "iopub.status.idle": "2023-09-09T14:55:49.582706Z",
     "shell.execute_reply": "2023-09-09T14:55:49.581419Z",
     "shell.execute_reply.started": "2023-09-09T14:55:49.571154Z"
    }
   },
   "outputs": [
    {
     "data": {
      "text/plain": [
       "0.11818259634296387"
      ]
     },
     "execution_count": 140,
     "metadata": {},
     "output_type": "execute_result"
    }
   ],
   "source": [
    "rand = adjusted_rand_score(platform,model1.labels_ )\n",
    "rand"
   ]
  },
  {
   "cell_type": "markdown",
   "metadata": {},
   "source": [
    "#### Genre cluster"
   ]
  },
  {
   "cell_type": "code",
   "execution_count": 101,
   "metadata": {
    "execution": {
     "iopub.execute_input": "2023-09-09T14:06:44.493093Z",
     "iopub.status.busy": "2023-09-09T14:06:44.492708Z",
     "iopub.status.idle": "2023-09-09T14:06:44.500831Z",
     "shell.execute_reply": "2023-09-09T14:06:44.498718Z",
     "shell.execute_reply.started": "2023-09-09T14:06:44.493066Z"
    }
   },
   "outputs": [],
   "source": [
    "X_genre_c = X_genre[col]"
   ]
  },
  {
   "cell_type": "code",
   "execution_count": 102,
   "metadata": {
    "execution": {
     "iopub.execute_input": "2023-09-09T14:06:46.898988Z",
     "iopub.status.busy": "2023-09-09T14:06:46.898649Z",
     "iopub.status.idle": "2023-09-09T14:06:46.919574Z",
     "shell.execute_reply": "2023-09-09T14:06:46.917894Z",
     "shell.execute_reply.started": "2023-09-09T14:06:46.898963Z"
    }
   },
   "outputs": [],
   "source": [
    "scaler =StandardScaler()#standardization of data\n",
    "X_genre_c_std = scaler.fit_transform(X_genre_c)"
   ]
  },
  {
   "cell_type": "code",
   "execution_count": 103,
   "metadata": {
    "execution": {
     "iopub.execute_input": "2023-09-09T14:06:47.313806Z",
     "iopub.status.busy": "2023-09-09T14:06:47.313470Z",
     "iopub.status.idle": "2023-09-09T14:06:47.376092Z",
     "shell.execute_reply": "2023-09-09T14:06:47.374233Z",
     "shell.execute_reply.started": "2023-09-09T14:06:47.313783Z"
    }
   },
   "outputs": [],
   "source": [
    "#PCA\n",
    "model = PCA(2) #PCA for mfeat-pix\n",
    "X_genre_c_t=model.fit_transform(X_genre_c_std)\n",
    "X_genre_c_t\n",
    "X_genre_c_tr = X_genre_c_t[:,0:10]"
   ]
  },
  {
   "cell_type": "code",
   "execution_count": 104,
   "metadata": {
    "execution": {
     "iopub.execute_input": "2023-09-09T14:06:51.223160Z",
     "iopub.status.busy": "2023-09-09T14:06:51.222799Z",
     "iopub.status.idle": "2023-09-09T14:06:51.235944Z",
     "shell.execute_reply": "2023-09-09T14:06:51.234083Z",
     "shell.execute_reply.started": "2023-09-09T14:06:51.223133Z"
    }
   },
   "outputs": [
    {
     "data": {
      "text/html": [
       "<div>\n",
       "<style scoped>\n",
       "    .dataframe tbody tr th:only-of-type {\n",
       "        vertical-align: middle;\n",
       "    }\n",
       "\n",
       "    .dataframe tbody tr th {\n",
       "        vertical-align: top;\n",
       "    }\n",
       "\n",
       "    .dataframe thead th {\n",
       "        text-align: right;\n",
       "    }\n",
       "</style>\n",
       "<table border=\"1\" class=\"dataframe\">\n",
       "  <thead>\n",
       "    <tr style=\"text-align: right;\">\n",
       "      <th></th>\n",
       "      <th>Explained_var</th>\n",
       "      <th>Explained_var</th>\n",
       "    </tr>\n",
       "  </thead>\n",
       "  <tbody>\n",
       "    <tr>\n",
       "      <th>0</th>\n",
       "      <td>2.08</td>\n",
       "      <td>0.35</td>\n",
       "    </tr>\n",
       "    <tr>\n",
       "      <th>1</th>\n",
       "      <td>1.36</td>\n",
       "      <td>0.23</td>\n",
       "    </tr>\n",
       "  </tbody>\n",
       "</table>\n",
       "</div>"
      ],
      "text/plain": [
       "   Explained_var  Explained_var\n",
       "0           2.08           0.35\n",
       "1           1.36           0.23"
      ]
     },
     "execution_count": 104,
     "metadata": {},
     "output_type": "execute_result"
    }
   ],
   "source": [
    "feature =range(model.n_components_)\n",
    "explained_variance = pd.DataFrame(model.explained_variance_, columns =['Explained_var'])\n",
    "explained_var_ratio = pd.DataFrame(model.explained_variance_ratio_, columns =['Explained_var'])\n",
    "variance_df = pd.concat([explained_variance,explained_var_ratio],axis=1, join='inner')\n",
    "#variance_df.sort_values(by=['explained_var_ratio'],ascending= False, inplace=True)\n",
    "variance_df.head(10)\n",
    "# variance_df[0:5].sum()"
   ]
  },
  {
   "cell_type": "code",
   "execution_count": 105,
   "metadata": {
    "execution": {
     "iopub.execute_input": "2023-09-09T14:07:24.736360Z",
     "iopub.status.busy": "2023-09-09T14:07:24.735948Z",
     "iopub.status.idle": "2023-09-09T14:07:25.262510Z",
     "shell.execute_reply": "2023-09-09T14:07:25.261497Z",
     "shell.execute_reply.started": "2023-09-09T14:07:24.736330Z"
    }
   },
   "outputs": [
    {
     "data": {
      "text/plain": [
       "array([4, 4, 4, ..., 7, 6, 7], dtype=int32)"
      ]
     },
     "execution_count": 105,
     "metadata": {},
     "output_type": "execute_result"
    }
   ],
   "source": [
    "model1 = KMeans(n_clusters=12,random_state = 42, max_iter=300, n_init=10)#KMean model for Mfeat-pix\n",
    "cluster1= model1.fit_predict(X_genre_c_tr)\n",
    "model1.labels_"
   ]
  },
  {
   "cell_type": "code",
   "execution_count": 106,
   "metadata": {
    "execution": {
     "iopub.execute_input": "2023-09-09T14:07:35.276396Z",
     "iopub.status.busy": "2023-09-09T14:07:35.276007Z",
     "iopub.status.idle": "2023-09-09T14:07:36.075921Z",
     "shell.execute_reply": "2023-09-09T14:07:36.074438Z",
     "shell.execute_reply.started": "2023-09-09T14:07:35.276359Z"
    }
   },
   "outputs": [
    {
     "data": {
      "text/plain": [
       "0.3585887188301748"
      ]
     },
     "execution_count": 106,
     "metadata": {},
     "output_type": "execute_result"
    }
   ],
   "source": [
    "# Silhouette score\n",
    "\n",
    "centroids = model1.cluster_centers_\n",
    "model1.inertia_\n",
    "silhouette_score(X_genre_c_tr,model1.labels_,metric = 'euclidean')"
   ]
  },
  {
   "cell_type": "code",
   "execution_count": 107,
   "metadata": {
    "execution": {
     "iopub.execute_input": "2023-09-09T14:07:55.623177Z",
     "iopub.status.busy": "2023-09-09T14:07:55.622785Z",
     "iopub.status.idle": "2023-09-09T14:07:55.634188Z",
     "shell.execute_reply": "2023-09-09T14:07:55.632612Z",
     "shell.execute_reply.started": "2023-09-09T14:07:55.623150Z"
    }
   },
   "outputs": [
    {
     "data": {
      "text/plain": [
       "0.00795292077942116"
      ]
     },
     "execution_count": 107,
     "metadata": {},
     "output_type": "execute_result"
    }
   ],
   "source": [
    "rand = adjusted_rand_score(genre,model1.labels_ )\n",
    "rand"
   ]
  },
  {
   "cell_type": "markdown",
   "metadata": {},
   "source": [
    "### Rating"
   ]
  },
  {
   "cell_type": "code",
   "execution_count": 67,
   "metadata": {
    "execution": {
     "iopub.execute_input": "2023-09-11T15:09:44.999057Z",
     "iopub.status.busy": "2023-09-11T15:09:44.998374Z",
     "iopub.status.idle": "2023-09-11T15:09:45.042164Z",
     "shell.execute_reply": "2023-09-11T15:09:45.040897Z",
     "shell.execute_reply.started": "2023-09-11T15:09:44.999025Z"
    }
   },
   "outputs": [],
   "source": [
    "#PCA\n",
    "scaler =StandardScaler()#standardization of data\n",
    "X_rating_c_std = scaler.fit_transform(X_rating_c)\n",
    "model = PCA(2) #PCA for mfeat-pix\n",
    "X_rating_c_t=model.fit_transform(X_rating_c_std)\n",
    "X_rating_c_t\n",
    "X_rating_c_tr = X_rating_c_t[:,0:2]"
   ]
  },
  {
   "cell_type": "code",
   "execution_count": 68,
   "metadata": {
    "execution": {
     "iopub.execute_input": "2023-09-11T15:09:47.379187Z",
     "iopub.status.busy": "2023-09-11T15:09:47.378792Z",
     "iopub.status.idle": "2023-09-11T15:09:47.391581Z",
     "shell.execute_reply": "2023-09-11T15:09:47.390548Z",
     "shell.execute_reply.started": "2023-09-11T15:09:47.379156Z"
    }
   },
   "outputs": [
    {
     "data": {
      "text/html": [
       "<div>\n",
       "<style scoped>\n",
       "    .dataframe tbody tr th:only-of-type {\n",
       "        vertical-align: middle;\n",
       "    }\n",
       "\n",
       "    .dataframe tbody tr th {\n",
       "        vertical-align: top;\n",
       "    }\n",
       "\n",
       "    .dataframe thead th {\n",
       "        text-align: right;\n",
       "    }\n",
       "</style>\n",
       "<table border=\"1\" class=\"dataframe\">\n",
       "  <thead>\n",
       "    <tr style=\"text-align: right;\">\n",
       "      <th></th>\n",
       "      <th>Explained_var</th>\n",
       "      <th>Explained_per</th>\n",
       "    </tr>\n",
       "  </thead>\n",
       "  <tbody>\n",
       "    <tr>\n",
       "      <th>0</th>\n",
       "      <td>2.075043</td>\n",
       "      <td>0.345798</td>\n",
       "    </tr>\n",
       "    <tr>\n",
       "      <th>1</th>\n",
       "      <td>1.359453</td>\n",
       "      <td>0.226548</td>\n",
       "    </tr>\n",
       "  </tbody>\n",
       "</table>\n",
       "</div>"
      ],
      "text/plain": [
       "   Explained_var  Explained_per\n",
       "0       2.075043       0.345798\n",
       "1       1.359453       0.226548"
      ]
     },
     "execution_count": 68,
     "metadata": {},
     "output_type": "execute_result"
    }
   ],
   "source": [
    "feature =range(model.n_components_)\n",
    "explained_variance = pd.DataFrame(model.explained_variance_, columns =['Explained_var'])\n",
    "explained_var_ratio = pd.DataFrame(model.explained_variance_ratio_, columns =['Explained_per'])\n",
    "variance_df = pd.concat([explained_variance,explained_var_ratio],axis=1, join='inner')\n",
    "\n",
    "variance_df.head(10)"
   ]
  },
  {
   "cell_type": "code",
   "execution_count": 69,
   "metadata": {
    "execution": {
     "iopub.execute_input": "2023-09-11T15:09:50.219408Z",
     "iopub.status.busy": "2023-09-11T15:09:50.219018Z",
     "iopub.status.idle": "2023-09-11T15:09:50.710609Z",
     "shell.execute_reply": "2023-09-11T15:09:50.709595Z",
     "shell.execute_reply.started": "2023-09-11T15:09:50.219380Z"
    }
   },
   "outputs": [
    {
     "data": {
      "text/plain": [
       "array([3, 3, 3, ..., 2, 1, 2], dtype=int32)"
      ]
     },
     "execution_count": 69,
     "metadata": {},
     "output_type": "execute_result"
    }
   ],
   "source": [
    "model1 = KMeans(n_clusters=4,random_state = 42, max_iter=300, n_init=10)#KMean model for Mfeat-pix\n",
    "cluster1= model1.fit_predict(X_rating_c_tr)\n",
    "model1.labels_"
   ]
  },
  {
   "cell_type": "code",
   "execution_count": 70,
   "metadata": {
    "execution": {
     "iopub.execute_input": "2023-09-11T15:09:53.537945Z",
     "iopub.status.busy": "2023-09-11T15:09:53.537570Z",
     "iopub.status.idle": "2023-09-11T15:09:53.544043Z",
     "shell.execute_reply": "2023-09-11T15:09:53.543097Z",
     "shell.execute_reply.started": "2023-09-11T15:09:53.537915Z"
    }
   },
   "outputs": [
    {
     "data": {
      "text/plain": [
       "10572.235524560747"
      ]
     },
     "execution_count": 70,
     "metadata": {},
     "output_type": "execute_result"
    }
   ],
   "source": [
    "centroids = model1.cluster_centers_\n",
    "model1.inertia_"
   ]
  },
  {
   "cell_type": "code",
   "execution_count": 71,
   "metadata": {
    "execution": {
     "iopub.execute_input": "2023-09-11T15:09:57.460346Z",
     "iopub.status.busy": "2023-09-11T15:09:57.459021Z",
     "iopub.status.idle": "2023-09-11T15:09:58.470130Z",
     "shell.execute_reply": "2023-09-11T15:09:58.469033Z",
     "shell.execute_reply.started": "2023-09-11T15:09:57.460300Z"
    }
   },
   "outputs": [
    {
     "data": {
      "text/plain": [
       "0.3689233424791362"
      ]
     },
     "execution_count": 71,
     "metadata": {},
     "output_type": "execute_result"
    }
   ],
   "source": [
    "# Silhouette score\n",
    "silhouette_score(X_rating_c_tr,model1.labels_,metric = 'euclidean')"
   ]
  },
  {
   "cell_type": "code",
   "execution_count": 72,
   "metadata": {
    "execution": {
     "iopub.execute_input": "2023-09-11T15:10:00.621084Z",
     "iopub.status.busy": "2023-09-11T15:10:00.620267Z",
     "iopub.status.idle": "2023-09-11T15:10:00.655917Z",
     "shell.execute_reply": "2023-09-11T15:10:00.654837Z",
     "shell.execute_reply.started": "2023-09-11T15:10:00.621024Z"
    }
   },
   "outputs": [
    {
     "data": {
      "text/plain": [
       "0.08495777771909929"
      ]
     },
     "execution_count": 72,
     "metadata": {},
     "output_type": "execute_result"
    }
   ],
   "source": [
    "rand = adjusted_rand_score(rating,model1.labels_ )\n",
    "rand"
   ]
  },
  {
   "cell_type": "markdown",
   "metadata": {},
   "source": [
    "# COMPONENT THREE (Handwritten Digits Recognition)"
   ]
  },
  {
   "cell_type": "code",
   "execution_count": 2,
   "metadata": {
    "execution": {
     "iopub.execute_input": "2023-09-10T14:16:50.169318Z",
     "iopub.status.busy": "2023-09-10T14:16:50.168963Z",
     "iopub.status.idle": "2023-09-10T14:16:58.788384Z",
     "shell.execute_reply": "2023-09-10T14:16:58.787417Z",
     "shell.execute_reply.started": "2023-09-10T14:16:50.169289Z"
    }
   },
   "outputs": [
    {
     "name": "stderr",
     "output_type": "stream",
     "text": [
      "/opt/conda/lib/python3.10/site-packages/scipy/__init__.py:146: UserWarning: A NumPy version >=1.16.5 and <1.23.0 is required for this version of SciPy (detected version 1.23.5\n",
      "  warnings.warn(f\"A NumPy version >={np_minversion} and <{np_maxversion}\"\n"
     ]
    }
   ],
   "source": [
    "#Library importation\n",
    "import numpy as np\n",
    "import pandas as pd\n",
    "import matplotlib.pyplot as plt\n",
    "import seaborn as sns\n",
    "\n",
    "\n",
    "\n",
    "from tensorflow import keras\n",
    "from tensorflow.keras.datasets import mnist\n",
    "\n",
    "import matplotlib.image as mpimg\n",
    "%matplotlib inline\n",
    "\n",
    "from sklearn.metrics import confusion_matrix\n",
    "import itertools\n",
    "\n",
    "from keras.utils.np_utils import to_categorical # convert to one-hot-encoding\n",
    "from keras.models import Sequential\n",
    "from keras.layers import Dense, Dropout, Flatten, Conv2D, MaxPooling2D, BatchNormalization\n",
    "from keras.optimizers import SGD\n",
    "from keras.preprocessing.image import ImageDataGenerator\n",
    "from sklearn.model_selection import train_test_split\n",
    "\n",
    "sns.set(style='white', context='notebook', palette='deep')"
   ]
  },
  {
   "cell_type": "code",
   "execution_count": null,
   "metadata": {},
   "outputs": [],
   "source": []
  },
  {
   "cell_type": "code",
   "execution_count": null,
   "metadata": {},
   "outputs": [],
   "source": []
  },
  {
   "cell_type": "code",
   "execution_count": 3,
   "metadata": {
    "execution": {
     "iopub.execute_input": "2023-09-10T14:16:58.790810Z",
     "iopub.status.busy": "2023-09-10T14:16:58.790149Z",
     "iopub.status.idle": "2023-09-10T14:17:01.411057Z",
     "shell.execute_reply": "2023-09-10T14:17:01.409938Z",
     "shell.execute_reply.started": "2023-09-10T14:16:58.790776Z"
    }
   },
   "outputs": [
    {
     "name": "stdout",
     "output_type": "stream",
     "text": [
      "Name: /physical_device:GPU:0   Type: GPU\n"
     ]
    },
    {
     "data": {
      "text/plain": [
       "[name: \"/device:CPU:0\"\n",
       " device_type: \"CPU\"\n",
       " memory_limit: 268435456\n",
       " locality {\n",
       " }\n",
       " incarnation: 17989339436376507438\n",
       " xla_global_id: -1,\n",
       " name: \"/device:GPU:0\"\n",
       " device_type: \"GPU\"\n",
       " memory_limit: 16059727872\n",
       " locality {\n",
       "   bus_id: 1\n",
       "   links {\n",
       "   }\n",
       " }\n",
       " incarnation: 2346033117366354304\n",
       " physical_device_desc: \"device: 0, name: Tesla P100-PCIE-16GB, pci bus id: 0000:00:04.0, compute capability: 6.0\"\n",
       " xla_global_id: 416903419]"
      ]
     },
     "execution_count": 3,
     "metadata": {},
     "output_type": "execute_result"
    }
   ],
   "source": [
    "import tensorflow as tf\n",
    "\n",
    "gpus = tf.config.experimental.list_physical_devices('GPU')\n",
    "for gpu in gpus:\n",
    "    print(\"Name:\", gpu.name, \"  Type:\", gpu.device_type)\n",
    "\n",
    "from tensorflow.python.client import device_lib\n",
    "\n",
    "device_lib.list_local_devices()"
   ]
  },
  {
   "cell_type": "code",
   "execution_count": 4,
   "metadata": {
    "execution": {
     "iopub.execute_input": "2023-09-10T14:17:01.413681Z",
     "iopub.status.busy": "2023-09-10T14:17:01.412879Z",
     "iopub.status.idle": "2023-09-10T14:17:02.303088Z",
     "shell.execute_reply": "2023-09-10T14:17:02.302101Z",
     "shell.execute_reply.started": "2023-09-10T14:17:01.413646Z"
    }
   },
   "outputs": [
    {
     "name": "stdout",
     "output_type": "stream",
     "text": [
      "Downloading data from https://storage.googleapis.com/tensorflow/tf-keras-datasets/mnist.npz\n",
      "11490434/11490434 [==============================] - 0s 0us/step\n"
     ]
    }
   ],
   "source": [
    "(X_train,y_train),(X_test,y_test) = mnist.load_data()"
   ]
  },
  {
   "cell_type": "code",
   "execution_count": 5,
   "metadata": {
    "execution": {
     "iopub.execute_input": "2023-09-10T14:17:02.306788Z",
     "iopub.status.busy": "2023-09-10T14:17:02.306383Z",
     "iopub.status.idle": "2023-09-10T14:17:03.291185Z",
     "shell.execute_reply": "2023-09-10T14:17:03.290150Z",
     "shell.execute_reply.started": "2023-09-10T14:17:02.306755Z"
    }
   },
   "outputs": [
    {
     "data": {
      "image/png": "[encoded data removed]",
      "text/plain": [
       "<Figure size 1000x400 with 9 Axes>"
      ]
     },
     "metadata": {},
     "output_type": "display_data"
    }
   ],
   "source": [
    "#Plot the first 9 images\n",
    "fig, ax = plt.subplots(3,3,figsize= (10,4))\n",
    "\n",
    "for i in range(9):\n",
    "    ax[i // 3, i % 3].imshow(X_train[i])\n",
    "    ax[i // 3, i % 3].set_title(y_train[i])\n",
    "    ax[i // 3, i % 3].axis('off')\n",
    "plt.show()"
   ]
  },
  {
   "cell_type": "code",
   "execution_count": 6,
   "metadata": {
    "execution": {
     "iopub.execute_input": "2023-09-10T14:17:03.292954Z",
     "iopub.status.busy": "2023-09-10T14:17:03.292522Z",
     "iopub.status.idle": "2023-09-10T14:17:03.430502Z",
     "shell.execute_reply": "2023-09-10T14:17:03.429512Z",
     "shell.execute_reply.started": "2023-09-10T14:17:03.292917Z"
    }
   },
   "outputs": [],
   "source": [
    "#Normalization\n",
    "\n",
    "X_train = X_train/255.0\n",
    "X_test = X_test/255."
   ]
  },
  {
   "cell_type": "code",
   "execution_count": 7,
   "metadata": {
    "execution": {
     "iopub.execute_input": "2023-09-10T14:17:03.432440Z",
     "iopub.status.busy": "2023-09-10T14:17:03.432085Z",
     "iopub.status.idle": "2023-09-10T14:17:03.440077Z",
     "shell.execute_reply": "2023-09-10T14:17:03.438675Z",
     "shell.execute_reply.started": "2023-09-10T14:17:03.432409Z"
    }
   },
   "outputs": [
    {
     "data": {
      "text/plain": [
       "(28, 28)"
      ]
     },
     "execution_count": 7,
     "metadata": {},
     "output_type": "execute_result"
    }
   ],
   "source": [
    "X_train[0].shape"
   ]
  },
  {
   "cell_type": "code",
   "execution_count": 8,
   "metadata": {
    "execution": {
     "iopub.execute_input": "2023-09-10T14:17:03.442080Z",
     "iopub.status.busy": "2023-09-10T14:17:03.441325Z",
     "iopub.status.idle": "2023-09-10T14:17:03.447238Z",
     "shell.execute_reply": "2023-09-10T14:17:03.446172Z",
     "shell.execute_reply.started": "2023-09-10T14:17:03.442046Z"
    }
   },
   "outputs": [],
   "source": [
    "# Reshape image in 3 dimensions (height = 28px, width = 28px , canal = 1)\n",
    "X_train = X_train.reshape(-1,28,28,1)\n",
    "X_test = X_test.reshape(-1,28,28,1)"
   ]
  },
  {
   "cell_type": "code",
   "execution_count": 9,
   "metadata": {
    "execution": {
     "iopub.execute_input": "2023-09-10T14:17:03.449374Z",
     "iopub.status.busy": "2023-09-10T14:17:03.448416Z",
     "iopub.status.idle": "2023-09-10T14:17:03.459120Z",
     "shell.execute_reply": "2023-09-10T14:17:03.458017Z",
     "shell.execute_reply.started": "2023-09-10T14:17:03.449343Z"
    }
   },
   "outputs": [],
   "source": [
    "from tensorflow.keras.preprocessing.image import ImageDataGenerator\n",
    "\n",
    "# Instance of ImageDataGenerator with desired augmentation settings\n",
    "train_datagen = ImageDataGenerator(\n",
    "    rotation_range=20,  # Rotate images by up to 20 degrees\n",
    "    width_shift_range=0.2,  # Shift width by up to 20% of the image width\n",
    "    height_shift_range=0.2,  # Shift height by up to 20% of the image height\n",
    "    shear_range=0.2,  # Shear angle in counter-clockwise direction\n",
    "    zoom_range=0.2,  # Randomly zoom in by up to 20%\n",
    "    horizontal_flip=True,  # Flip images horizontally\n",
    "    vertical_flip = False\n",
    ")"
   ]
  },
  {
   "cell_type": "code",
   "execution_count": null,
   "metadata": {},
   "outputs": [],
   "source": []
  },
  {
   "cell_type": "code",
   "execution_count": 10,
   "metadata": {
    "execution": {
     "iopub.execute_input": "2023-09-10T14:17:03.461209Z",
     "iopub.status.busy": "2023-09-10T14:17:03.460370Z",
     "iopub.status.idle": "2023-09-10T14:17:03.468406Z",
     "shell.execute_reply": "2023-09-10T14:17:03.467322Z",
     "shell.execute_reply.started": "2023-09-10T14:17:03.461176Z"
    }
   },
   "outputs": [],
   "source": [
    "# Encode labels to one hot vectors\n",
    "y_train = to_categorical(y_train, num_classes = 10)\n"
   ]
  },
  {
   "cell_type": "code",
   "execution_count": 11,
   "metadata": {
    "execution": {
     "iopub.execute_input": "2023-09-10T14:17:03.472353Z",
     "iopub.status.busy": "2023-09-10T14:17:03.471926Z",
     "iopub.status.idle": "2023-09-10T14:17:03.597610Z",
     "shell.execute_reply": "2023-09-10T14:17:03.596512Z",
     "shell.execute_reply.started": "2023-09-10T14:17:03.472322Z"
    }
   },
   "outputs": [],
   "source": [
    "# Split the train and the validation set for the fitting\n",
    "X_train, X_val, y_train, y_val = train_test_split(X_train, y_train, test_size = 0.1, random_state=42)"
   ]
  },
  {
   "cell_type": "code",
   "execution_count": 12,
   "metadata": {
    "execution": {
     "iopub.execute_input": "2023-09-10T14:17:03.600149Z",
     "iopub.status.busy": "2023-09-10T14:17:03.599252Z",
     "iopub.status.idle": "2023-09-10T14:17:03.732482Z",
     "shell.execute_reply": "2023-09-10T14:17:03.731431Z",
     "shell.execute_reply.started": "2023-09-10T14:17:03.600113Z"
    }
   },
   "outputs": [],
   "source": [
    "train_datagen.fit(X_train)"
   ]
  },
  {
   "cell_type": "code",
   "execution_count": 13,
   "metadata": {
    "execution": {
     "iopub.execute_input": "2023-09-10T14:17:03.734451Z",
     "iopub.status.busy": "2023-09-10T14:17:03.733988Z",
     "iopub.status.idle": "2023-09-10T14:17:04.113390Z",
     "shell.execute_reply": "2023-09-10T14:17:04.112392Z",
     "shell.execute_reply.started": "2023-09-10T14:17:03.734418Z"
    }
   },
   "outputs": [
    {
     "data": {
      "image/png": "[encoded data removed]",
      "text/plain": [
       "<Figure size 640x480 with 1 Axes>"
      ]
     },
     "metadata": {},
     "output_type": "display_data"
    }
   ],
   "source": [
    "# Some examples\n",
    "g = plt.imshow(X_train[0][:,:,0])"
   ]
  },
  {
   "cell_type": "code",
   "execution_count": 14,
   "metadata": {
    "execution": {
     "iopub.execute_input": "2023-09-10T14:17:04.115299Z",
     "iopub.status.busy": "2023-09-10T14:17:04.114972Z",
     "iopub.status.idle": "2023-09-10T14:17:04.123277Z",
     "shell.execute_reply": "2023-09-10T14:17:04.122121Z",
     "shell.execute_reply.started": "2023-09-10T14:17:04.115268Z"
    }
   },
   "outputs": [
    {
     "data": {
      "text/plain": [
       "(28, 28, 1)"
      ]
     },
     "execution_count": 14,
     "metadata": {},
     "output_type": "execute_result"
    }
   ],
   "source": [
    "X_train[0].shape"
   ]
  },
  {
   "cell_type": "code",
   "execution_count": null,
   "metadata": {},
   "outputs": [],
   "source": []
  },
  {
   "cell_type": "markdown",
   "metadata": {},
   "source": [
    "#### No regularization"
   ]
  },
  {
   "cell_type": "code",
   "execution_count": 82,
   "metadata": {
    "execution": {
     "iopub.execute_input": "2023-09-10T13:00:13.076652Z",
     "iopub.status.busy": "2023-09-10T13:00:13.075762Z",
     "iopub.status.idle": "2023-09-10T13:00:13.153398Z",
     "shell.execute_reply": "2023-09-10T13:00:13.152526Z",
     "shell.execute_reply.started": "2023-09-10T13:00:13.076616Z"
    }
   },
   "outputs": [],
   "source": [
    "# Set the CNN model \n",
    "model = Sequential()\n",
    "\n",
    "model.add(Conv2D(filters = 32, kernel_size = (3,3),padding = 'Same', \n",
    "                 activation ='relu', input_shape = (28,28,1)))\n",
    "\n",
    "model.add(MaxPooling2D(pool_size=(2,2)))\n",
    "\n",
    "model.add(Conv2D(filters = 64, kernel_size = (3,3),padding = 'Same', \n",
    "                 activation ='relu'))\n",
    "model.add(MaxPooling2D(pool_size=(2,2), strides=(2,2)))\n",
    "model.add(Conv2D(filters = 64, kernel_size = (3,3),padding = 'Same', \n",
    "                 activation ='relu'))\n",
    "model.add(MaxPooling2D(pool_size=(2,2)))\n",
    "\n",
    "\n",
    "\n",
    "model.add(Flatten())\n",
    "model.add(Dense(256, activation = \"relu\"))\n",
    "\n",
    "model.add(Dense(10, activation = \"softmax\"))"
   ]
  },
  {
   "cell_type": "code",
   "execution_count": 47,
   "metadata": {
    "execution": {
     "iopub.execute_input": "2023-09-10T12:24:22.279648Z",
     "iopub.status.busy": "2023-09-10T12:24:22.279161Z",
     "iopub.status.idle": "2023-09-10T12:24:22.325724Z",
     "shell.execute_reply": "2023-09-10T12:24:22.325017Z",
     "shell.execute_reply.started": "2023-09-10T12:24:22.279589Z"
    }
   },
   "outputs": [
    {
     "name": "stdout",
     "output_type": "stream",
     "text": [
      "Model: \"sequential_3\"\n",
      "_________________________________________________________________\n",
      " Layer (type)                Output Shape              Param #   \n",
      "=================================================================\n",
      " conv2d_9 (Conv2D)           (None, 28, 28, 32)        320       \n",
      "                                                                 \n",
      " max_pooling2d_9 (MaxPooling  (None, 14, 14, 32)       0         \n",
      " 2D)                                                             \n",
      "                                                                 \n",
      " conv2d_10 (Conv2D)          (None, 14, 14, 64)        18496     \n",
      "                                                                 \n",
      " max_pooling2d_10 (MaxPoolin  (None, 7, 7, 64)         0         \n",
      " g2D)                                                            \n",
      "                                                                 \n",
      " conv2d_11 (Conv2D)          (None, 7, 7, 64)          36928     \n",
      "                                                                 \n",
      " max_pooling2d_11 (MaxPoolin  (None, 3, 3, 64)         0         \n",
      " g2D)                                                            \n",
      "                                                                 \n",
      " flatten_3 (Flatten)         (None, 576)               0         \n",
      "                                                                 \n",
      " dense_6 (Dense)             (None, 256)               147712    \n",
      "                                                                 \n",
      " dense_7 (Dense)             (None, 10)                2570      \n",
      "                                                                 \n",
      "=================================================================\n",
      "Total params: 206,026\n",
      "Trainable params: 206,026\n",
      "Non-trainable params: 0\n",
      "_________________________________________________________________\n"
     ]
    }
   ],
   "source": [
    "model.summary()"
   ]
  },
  {
   "cell_type": "code",
   "execution_count": 48,
   "metadata": {
    "execution": {
     "iopub.execute_input": "2023-09-10T12:24:23.479286Z",
     "iopub.status.busy": "2023-09-10T12:24:23.478925Z",
     "iopub.status.idle": "2023-09-10T12:24:23.492844Z",
     "shell.execute_reply": "2023-09-10T12:24:23.491647Z",
     "shell.execute_reply.started": "2023-09-10T12:24:23.479256Z"
    }
   },
   "outputs": [
    {
     "name": "stderr",
     "output_type": "stream",
     "text": [
      "/opt/conda/lib/python3.10/site-packages/keras/optimizers/legacy/gradient_descent.py:114: UserWarning: The `lr` argument is deprecated, use `learning_rate` instead.\n",
      "  super().__init__(name, **kwargs)\n"
     ]
    }
   ],
   "source": [
    "# Compile the model\n",
    "model.compile(optimizer = SGD(lr=0.001, momentum=0.9, decay=0.0) , loss = \"categorical_crossentropy\", metrics=[\"accuracy\"])"
   ]
  },
  {
   "cell_type": "code",
   "execution_count": 15,
   "metadata": {
    "execution": {
     "iopub.execute_input": "2023-09-10T14:17:09.447977Z",
     "iopub.status.busy": "2023-09-10T14:17:09.447613Z",
     "iopub.status.idle": "2023-09-10T14:17:09.452705Z",
     "shell.execute_reply": "2023-09-10T14:17:09.451561Z",
     "shell.execute_reply.started": "2023-09-10T14:17:09.447946Z"
    }
   },
   "outputs": [],
   "source": [
    "epochs = 10 \n",
    "batch_size = 32"
   ]
  },
  {
   "cell_type": "code",
   "execution_count": 50,
   "metadata": {
    "execution": {
     "iopub.execute_input": "2023-09-10T12:24:55.032343Z",
     "iopub.status.busy": "2023-09-10T12:24:55.031977Z",
     "iopub.status.idle": "2023-09-10T12:29:36.840268Z",
     "shell.execute_reply": "2023-09-10T12:29:36.839246Z",
     "shell.execute_reply.started": "2023-09-10T12:24:55.032313Z"
    }
   },
   "outputs": [
    {
     "name": "stdout",
     "output_type": "stream",
     "text": [
      "Epoch 1/10\n",
      "1688/1688 [==============================] - 23s 13ms/step - loss: 1.9317 - accuracy: 0.3348 - val_loss: 0.7102 - val_accuracy: 0.7667\n",
      "Epoch 2/10\n",
      "1688/1688 [==============================] - 23s 14ms/step - loss: 0.8036 - accuracy: 0.7346 - val_loss: 0.3781 - val_accuracy: 0.8842\n",
      "Epoch 3/10\n",
      "1688/1688 [==============================] - 23s 14ms/step - loss: 0.5732 - accuracy: 0.8133 - val_loss: 0.2792 - val_accuracy: 0.9107\n",
      "Epoch 4/10\n",
      "1688/1688 [==============================] - 23s 14ms/step - loss: 0.4637 - accuracy: 0.8505 - val_loss: 0.1841 - val_accuracy: 0.9450\n",
      "Epoch 5/10\n",
      "1688/1688 [==============================] - 23s 13ms/step - loss: 0.3868 - accuracy: 0.8760 - val_loss: 0.1583 - val_accuracy: 0.9533\n",
      "Epoch 6/10\n",
      "1688/1688 [==============================] - 23s 13ms/step - loss: 0.3375 - accuracy: 0.8932 - val_loss: 0.1423 - val_accuracy: 0.9558\n",
      "Epoch 7/10\n",
      "1688/1688 [==============================] - 23s 14ms/step - loss: 0.2981 - accuracy: 0.9073 - val_loss: 0.1271 - val_accuracy: 0.9602\n",
      "Epoch 8/10\n",
      "1688/1688 [==============================] - 23s 14ms/step - loss: 0.2717 - accuracy: 0.9146 - val_loss: 0.1133 - val_accuracy: 0.9657\n",
      "Epoch 9/10\n",
      "1688/1688 [==============================] - 23s 13ms/step - loss: 0.2415 - accuracy: 0.9242 - val_loss: 0.0920 - val_accuracy: 0.9712\n",
      "Epoch 10/10\n",
      "1688/1688 [==============================] - 22s 13ms/step - loss: 0.2249 - accuracy: 0.9296 - val_loss: 0.0914 - val_accuracy: 0.9730\n"
     ]
    }
   ],
   "source": [
    "# Fit the model\n",
    "history = model.fit(train_datagen.flow(X_train,y_train, batch_size=batch_size),\n",
    "                              epochs = epochs, validation_data = (X_val,y_val))"
   ]
  },
  {
   "cell_type": "markdown",
   "metadata": {},
   "source": [
    "### Test Model"
   ]
  },
  {
   "cell_type": "code",
   "execution_count": 51,
   "metadata": {
    "execution": {
     "iopub.execute_input": "2023-09-10T12:39:50.377686Z",
     "iopub.status.busy": "2023-09-10T12:39:50.377260Z",
     "iopub.status.idle": "2023-09-10T12:39:51.831787Z",
     "shell.execute_reply": "2023-09-10T12:39:51.830651Z",
     "shell.execute_reply.started": "2023-09-10T12:39:50.377656Z"
    }
   },
   "outputs": [
    {
     "name": "stdout",
     "output_type": "stream",
     "text": [
      "313/313 [==============================] - 1s 2ms/step\n",
      "              precision    recall  f1-score   support\n",
      "\n",
      "           0       0.99      0.99      0.99       980\n",
      "           1       1.00      0.99      0.99      1135\n",
      "           2       0.93      0.95      0.94      1032\n",
      "           3       0.97      0.98      0.97      1010\n",
      "           4       0.98      0.99      0.99       982\n",
      "           5       0.95      0.93      0.94       892\n",
      "           6       0.98      0.97      0.97       958\n",
      "           7       0.97      0.98      0.97      1028\n",
      "           8       0.98      0.97      0.98       974\n",
      "           9       0.99      0.96      0.98      1009\n",
      "\n",
      "    accuracy                           0.97     10000\n",
      "   macro avg       0.97      0.97      0.97     10000\n",
      "weighted avg       0.97      0.97      0.97     10000\n",
      "\n"
     ]
    }
   ],
   "source": [
    "y_pred = np.argmax(model.predict(X_test), axis = -1)\n",
    "\n",
    "\n",
    "\n",
    "from sklearn.metrics import classification_report\n",
    "\n",
    "print(classification_report(y_test,y_pred))"
   ]
  },
  {
   "cell_type": "code",
   "execution_count": null,
   "metadata": {},
   "outputs": [],
   "source": []
  },
  {
   "cell_type": "markdown",
   "metadata": {},
   "source": [
    "#### L1 Regularization"
   ]
  },
  {
   "cell_type": "code",
   "execution_count": 17,
   "metadata": {
    "execution": {
     "iopub.execute_input": "2023-09-10T14:18:31.936089Z",
     "iopub.status.busy": "2023-09-10T14:18:31.935688Z",
     "iopub.status.idle": "2023-09-10T14:18:31.941099Z",
     "shell.execute_reply": "2023-09-10T14:18:31.939939Z",
     "shell.execute_reply.started": "2023-09-10T14:18:31.936057Z"
    }
   },
   "outputs": [],
   "source": [
    "from keras import regularizers"
   ]
  },
  {
   "cell_type": "code",
   "execution_count": 84,
   "metadata": {
    "execution": {
     "iopub.execute_input": "2023-09-10T13:00:26.810612Z",
     "iopub.status.busy": "2023-09-10T13:00:26.809486Z",
     "iopub.status.idle": "2023-09-10T13:00:26.888202Z",
     "shell.execute_reply": "2023-09-10T13:00:26.887260Z",
     "shell.execute_reply.started": "2023-09-10T13:00:26.810575Z"
    }
   },
   "outputs": [],
   "source": [
    "# Set the CNN model \n",
    "\n",
    "model = Sequential()\n",
    "\n",
    "model.add(Conv2D(filters = 32, kernel_size = (3,3),padding = 'Same', \n",
    "                 activation ='relu', input_shape = (28,28,1) ,kernel_regularizer=regularizers.l1(0.0001)))\n",
    "\n",
    "model.add(MaxPooling2D(pool_size=(2,2)))\n",
    "\n",
    "\n",
    "model.add(Conv2D(filters = 64, kernel_size = (3,3),padding = 'Same', \n",
    "                 activation ='relu',kernel_regularizer=regularizers.l1(0.0001)))\n",
    "model.add(MaxPooling2D(pool_size=(2,2), strides=(2,2)))\n",
    "model.add(Conv2D(filters = 64, kernel_size = (3,3),padding = 'Same', \n",
    "                 activation ='relu',kernel_regularizer=regularizers.l1(0.0001)))\n",
    "model.add(MaxPooling2D(pool_size=(2,2)))\n",
    "\n",
    "\n",
    "\n",
    "model.add(Flatten())\n",
    "model.add(Dense(256, activation = \"relu\"))\n",
    "model.add(Dense(10, activation = \"softmax\"))"
   ]
  },
  {
   "cell_type": "code",
   "execution_count": 85,
   "metadata": {
    "execution": {
     "iopub.execute_input": "2023-09-10T13:00:27.335978Z",
     "iopub.status.busy": "2023-09-10T13:00:27.335100Z",
     "iopub.status.idle": "2023-09-10T13:00:27.348337Z",
     "shell.execute_reply": "2023-09-10T13:00:27.347413Z",
     "shell.execute_reply.started": "2023-09-10T13:00:27.335934Z"
    }
   },
   "outputs": [
    {
     "name": "stderr",
     "output_type": "stream",
     "text": [
      "/opt/conda/lib/python3.10/site-packages/keras/optimizers/legacy/gradient_descent.py:114: UserWarning: The `lr` argument is deprecated, use `learning_rate` instead.\n",
      "  super().__init__(name, **kwargs)\n"
     ]
    }
   ],
   "source": [
    "# Compile the model\n",
    "model.compile(optimizer = SGD(lr=0.001, momentum=0.9, decay=0.0) , loss = \"categorical_crossentropy\", metrics=[\"accuracy\"])"
   ]
  },
  {
   "cell_type": "code",
   "execution_count": 86,
   "metadata": {
    "execution": {
     "iopub.execute_input": "2023-09-10T13:00:27.891757Z",
     "iopub.status.busy": "2023-09-10T13:00:27.890578Z",
     "iopub.status.idle": "2023-09-10T13:05:31.860650Z",
     "shell.execute_reply": "2023-09-10T13:05:31.859634Z",
     "shell.execute_reply.started": "2023-09-10T13:00:27.891718Z"
    }
   },
   "outputs": [
    {
     "name": "stdout",
     "output_type": "stream",
     "text": [
      "Epoch 1/10\n",
      "1688/1688 [==============================] - 24s 14ms/step - loss: 1.9853 - accuracy: 0.3827 - val_loss: 0.7716 - val_accuracy: 0.8288\n",
      "Epoch 2/10\n",
      "1688/1688 [==============================] - 23s 14ms/step - loss: 0.9862 - accuracy: 0.7411 - val_loss: 0.5548 - val_accuracy: 0.8885\n",
      "Epoch 3/10\n",
      "1688/1688 [==============================] - 23s 14ms/step - loss: 0.7677 - accuracy: 0.8167 - val_loss: 0.4790 - val_accuracy: 0.9128\n",
      "Epoch 4/10\n",
      "1688/1688 [==============================] - 23s 14ms/step - loss: 0.6541 - accuracy: 0.8545 - val_loss: 0.3841 - val_accuracy: 0.9418\n",
      "Epoch 5/10\n",
      "1688/1688 [==============================] - 23s 14ms/step - loss: 0.5859 - accuracy: 0.8762 - val_loss: 0.3782 - val_accuracy: 0.9448\n",
      "Epoch 6/10\n",
      "1688/1688 [==============================] - 23s 14ms/step - loss: 0.5246 - accuracy: 0.8954 - val_loss: 0.3413 - val_accuracy: 0.9488\n",
      "Epoch 7/10\n",
      "1688/1688 [==============================] - 23s 14ms/step - loss: 0.4825 - accuracy: 0.9068 - val_loss: 0.3089 - val_accuracy: 0.9613\n",
      "Epoch 8/10\n",
      "1688/1688 [==============================] - 23s 13ms/step - loss: 0.4564 - accuracy: 0.9139 - val_loss: 0.3082 - val_accuracy: 0.9573\n",
      "Epoch 9/10\n",
      "1688/1688 [==============================] - 23s 14ms/step - loss: 0.4262 - accuracy: 0.9225 - val_loss: 0.2845 - val_accuracy: 0.9662\n",
      "Epoch 10/10\n",
      "1688/1688 [==============================] - 23s 14ms/step - loss: 0.4011 - accuracy: 0.9270 - val_loss: 0.2659 - val_accuracy: 0.9698\n"
     ]
    }
   ],
   "source": [
    "# Fit the model\n",
    "history = model.fit(train_datagen.flow(X_train,y_train, batch_size=batch_size),\n",
    "                              epochs = epochs, validation_data = (X_val,y_val))"
   ]
  },
  {
   "cell_type": "code",
   "execution_count": 87,
   "metadata": {
    "execution": {
     "iopub.execute_input": "2023-09-10T13:05:31.863676Z",
     "iopub.status.busy": "2023-09-10T13:05:31.863141Z",
     "iopub.status.idle": "2023-09-10T13:05:32.684839Z",
     "shell.execute_reply": "2023-09-10T13:05:32.683816Z",
     "shell.execute_reply.started": "2023-09-10T13:05:31.863637Z"
    }
   },
   "outputs": [
    {
     "name": "stdout",
     "output_type": "stream",
     "text": [
      "313/313 [==============================] - 1s 2ms/step\n",
      "              precision    recall  f1-score   support\n",
      "\n",
      "           0       0.99      0.99      0.99       980\n",
      "           1       0.99      0.99      0.99      1135\n",
      "           2       0.95      0.94      0.95      1032\n",
      "           3       0.96      0.99      0.98      1010\n",
      "           4       0.97      0.99      0.98       982\n",
      "           5       0.93      0.96      0.95       892\n",
      "           6       0.98      0.96      0.97       958\n",
      "           7       0.96      0.98      0.97      1028\n",
      "           8       0.98      0.98      0.98       974\n",
      "           9       0.99      0.94      0.96      1009\n",
      "\n",
      "    accuracy                           0.97     10000\n",
      "   macro avg       0.97      0.97      0.97     10000\n",
      "weighted avg       0.97      0.97      0.97     10000\n",
      "\n"
     ]
    }
   ],
   "source": [
    "y_pred = np.argmax(model.predict(X_test), axis = -1)\n",
    "\n",
    "\n",
    "\n",
    "\n",
    "from sklearn.metrics import classification_report\n",
    "\n",
    "print(classification_report(y_test,y_pred))"
   ]
  },
  {
   "cell_type": "markdown",
   "metadata": {},
   "source": [
    "### L2 regularization"
   ]
  },
  {
   "cell_type": "code",
   "execution_count": 88,
   "metadata": {
    "execution": {
     "iopub.execute_input": "2023-09-10T13:05:32.687237Z",
     "iopub.status.busy": "2023-09-10T13:05:32.686398Z",
     "iopub.status.idle": "2023-09-10T13:05:32.768719Z",
     "shell.execute_reply": "2023-09-10T13:05:32.767774Z",
     "shell.execute_reply.started": "2023-09-10T13:05:32.687201Z"
    }
   },
   "outputs": [],
   "source": [
    "# Set the CNN model \n",
    "\n",
    "model = Sequential()\n",
    "\n",
    "model.add(Conv2D(filters = 32, kernel_size = (3,3),padding = 'Same', \n",
    "                 activation ='relu', input_shape = (28,28,1) ,kernel_regularizer=regularizers.l2(0.0001)))\n",
    "\n",
    "model.add(MaxPooling2D(pool_size=(2,2)))\n",
    "\n",
    "\n",
    "\n",
    "model.add(Conv2D(filters = 64, kernel_size = (3,3),padding = 'Same', \n",
    "                 activation ='relu',kernel_regularizer=regularizers.l2(0.0001)))\n",
    "model.add(MaxPooling2D(pool_size=(2,2), strides=(2,2)))\n",
    "model.add(Conv2D(filters = 64, kernel_size = (3,3),padding = 'Same', \n",
    "                 activation ='relu',kernel_regularizer=regularizers.l2(0.0001)))\n",
    "model.add(MaxPooling2D(pool_size=(2,2)))\n",
    "\n",
    "\n",
    "model.add(Flatten())\n",
    "model.add(Dense(256, activation = \"relu\"))\n",
    "model.add(Dense(10, activation = \"softmax\"))"
   ]
  },
  {
   "cell_type": "code",
   "execution_count": 89,
   "metadata": {
    "execution": {
     "iopub.execute_input": "2023-09-10T13:05:32.772151Z",
     "iopub.status.busy": "2023-09-10T13:05:32.771733Z",
     "iopub.status.idle": "2023-09-10T13:05:32.786289Z",
     "shell.execute_reply": "2023-09-10T13:05:32.785047Z",
     "shell.execute_reply.started": "2023-09-10T13:05:32.772111Z"
    }
   },
   "outputs": [
    {
     "name": "stderr",
     "output_type": "stream",
     "text": [
      "/opt/conda/lib/python3.10/site-packages/keras/optimizers/legacy/gradient_descent.py:114: UserWarning: The `lr` argument is deprecated, use `learning_rate` instead.\n",
      "  super().__init__(name, **kwargs)\n"
     ]
    }
   ],
   "source": [
    "# Compile the model\n",
    "model.compile(optimizer = SGD(lr=0.001, momentum=0.9, decay=0.0) , loss = \"categorical_crossentropy\", metrics=[\"accuracy\"])"
   ]
  },
  {
   "cell_type": "code",
   "execution_count": 90,
   "metadata": {
    "execution": {
     "iopub.execute_input": "2023-09-10T13:05:32.787839Z",
     "iopub.status.busy": "2023-09-10T13:05:32.787537Z",
     "iopub.status.idle": "2023-09-10T13:10:34.365297Z",
     "shell.execute_reply": "2023-09-10T13:10:34.364201Z",
     "shell.execute_reply.started": "2023-09-10T13:05:32.787813Z"
    }
   },
   "outputs": [
    {
     "name": "stdout",
     "output_type": "stream",
     "text": [
      "Epoch 1/10\n",
      "1688/1688 [==============================] - 23s 14ms/step - loss: 1.8904 - accuracy: 0.3527 - val_loss: 0.7044 - val_accuracy: 0.7692\n",
      "Epoch 2/10\n",
      "1688/1688 [==============================] - 23s 14ms/step - loss: 0.8218 - accuracy: 0.7308 - val_loss: 0.3820 - val_accuracy: 0.8833\n",
      "Epoch 3/10\n",
      "1688/1688 [==============================] - 23s 13ms/step - loss: 0.5866 - accuracy: 0.8140 - val_loss: 0.2538 - val_accuracy: 0.9277\n",
      "Epoch 4/10\n",
      "1688/1688 [==============================] - 23s 14ms/step - loss: 0.4842 - accuracy: 0.8487 - val_loss: 0.2158 - val_accuracy: 0.9393\n",
      "Epoch 5/10\n",
      "1688/1688 [==============================] - 23s 14ms/step - loss: 0.4149 - accuracy: 0.8719 - val_loss: 0.1902 - val_accuracy: 0.9458\n",
      "Epoch 6/10\n",
      "1688/1688 [==============================] - 23s 14ms/step - loss: 0.3623 - accuracy: 0.8903 - val_loss: 0.1739 - val_accuracy: 0.9512\n",
      "Epoch 7/10\n",
      "1688/1688 [==============================] - 22s 13ms/step - loss: 0.3245 - accuracy: 0.9024 - val_loss: 0.1543 - val_accuracy: 0.9593\n",
      "Epoch 8/10\n",
      "1688/1688 [==============================] - 23s 14ms/step - loss: 0.2972 - accuracy: 0.9105 - val_loss: 0.1394 - val_accuracy: 0.9607\n",
      "Epoch 9/10\n",
      "1688/1688 [==============================] - 22s 13ms/step - loss: 0.2677 - accuracy: 0.9203 - val_loss: 0.1324 - val_accuracy: 0.9642\n",
      "Epoch 10/10\n",
      "1688/1688 [==============================] - 23s 14ms/step - loss: 0.2506 - accuracy: 0.9262 - val_loss: 0.1316 - val_accuracy: 0.9650\n"
     ]
    }
   ],
   "source": [
    "# Fit the model\n",
    "history = model.fit(train_datagen.flow(X_train,y_train, batch_size=batch_size),\n",
    "                              epochs = epochs, validation_data = (X_val,y_val))"
   ]
  },
  {
   "cell_type": "code",
   "execution_count": 91,
   "metadata": {
    "execution": {
     "iopub.execute_input": "2023-09-10T13:10:34.367645Z",
     "iopub.status.busy": "2023-09-10T13:10:34.367241Z",
     "iopub.status.idle": "2023-09-10T13:10:35.790924Z",
     "shell.execute_reply": "2023-09-10T13:10:35.789750Z",
     "shell.execute_reply.started": "2023-09-10T13:10:34.367609Z"
    }
   },
   "outputs": [
    {
     "name": "stdout",
     "output_type": "stream",
     "text": [
      "313/313 [==============================] - 1s 2ms/step\n",
      "              precision    recall  f1-score   support\n",
      "\n",
      "           0       0.99      0.98      0.99       980\n",
      "           1       1.00      0.99      0.99      1135\n",
      "           2       0.94      0.94      0.94      1032\n",
      "           3       0.92      1.00      0.96      1010\n",
      "           4       0.98      0.97      0.97       982\n",
      "           5       0.94      0.94      0.94       892\n",
      "           6       0.98      0.94      0.96       958\n",
      "           7       0.96      0.97      0.97      1028\n",
      "           8       0.98      0.95      0.97       974\n",
      "           9       0.95      0.96      0.96      1009\n",
      "\n",
      "    accuracy                           0.96     10000\n",
      "   macro avg       0.97      0.96      0.96     10000\n",
      "weighted avg       0.97      0.96      0.96     10000\n",
      "\n"
     ]
    }
   ],
   "source": [
    "y_pred = np.argmax(model.predict(X_test), axis = -1)\n",
    "\n",
    "\n",
    "\n",
    "\n",
    "from sklearn.metrics import classification_report\n",
    "\n",
    "print(classification_report(y_test,y_pred))"
   ]
  },
  {
   "cell_type": "markdown",
   "metadata": {},
   "source": [
    "### Dropout"
   ]
  },
  {
   "cell_type": "code",
   "execution_count": 18,
   "metadata": {
    "execution": {
     "iopub.execute_input": "2023-09-10T14:18:37.608524Z",
     "iopub.status.busy": "2023-09-10T14:18:37.608128Z",
     "iopub.status.idle": "2023-09-10T14:18:37.757755Z",
     "shell.execute_reply": "2023-09-10T14:18:37.756825Z",
     "shell.execute_reply.started": "2023-09-10T14:18:37.608480Z"
    }
   },
   "outputs": [],
   "source": [
    "# Set the CNN model \n",
    "\n",
    "model = Sequential()\n",
    "\n",
    "model.add(Conv2D(filters = 32, kernel_size = (3,3),padding = 'Same', \n",
    "                 activation ='relu', input_shape = (28,28,1) ,kernel_regularizer=regularizers.l2(0.0001)))\n",
    "\n",
    "model.add(MaxPooling2D(pool_size=(2,2)))\n",
    "model.add(Dropout(0.25))\n",
    "\n",
    "\n",
    "model.add(Conv2D(filters = 64, kernel_size = (3,3),padding = 'Same', \n",
    "                 activation ='relu',kernel_regularizer=regularizers.l2(0.0001)))\n",
    "model.add(MaxPooling2D(pool_size=(2,2), strides=(2,2)))\n",
    "model.add(Dropout(0.25))\n",
    "model.add(Conv2D(filters = 64, kernel_size = (3,3),padding = 'Same', \n",
    "                 activation ='relu',kernel_regularizer=regularizers.l2(0.0001)))\n",
    "model.add(MaxPooling2D(pool_size=(2,2)))\n",
    "model.add(Dropout(0.25))\n",
    "\n",
    "\n",
    "model.add(Flatten())\n",
    "model.add(Dense(256, activation = \"relu\"))\n",
    "model.add(Dropout(0.5))\n",
    "model.add(Dense(10, activation = \"softmax\"))"
   ]
  },
  {
   "cell_type": "code",
   "execution_count": 19,
   "metadata": {
    "execution": {
     "iopub.execute_input": "2023-09-10T14:18:38.022172Z",
     "iopub.status.busy": "2023-09-10T14:18:38.021809Z",
     "iopub.status.idle": "2023-09-10T14:18:38.041757Z",
     "shell.execute_reply": "2023-09-10T14:18:38.040819Z",
     "shell.execute_reply.started": "2023-09-10T14:18:38.022133Z"
    }
   },
   "outputs": [
    {
     "name": "stderr",
     "output_type": "stream",
     "text": [
      "/opt/conda/lib/python3.10/site-packages/keras/optimizers/legacy/gradient_descent.py:114: UserWarning: The `lr` argument is deprecated, use `learning_rate` instead.\n",
      "  super().__init__(name, **kwargs)\n"
     ]
    }
   ],
   "source": [
    "# Compile the model\n",
    "model.compile(optimizer = SGD(lr=0.001, momentum=0.9, decay=0.0) , loss = \"categorical_crossentropy\", metrics=[\"accuracy\"])"
   ]
  },
  {
   "cell_type": "code",
   "execution_count": 20,
   "metadata": {
    "execution": {
     "iopub.execute_input": "2023-09-10T14:18:38.658700Z",
     "iopub.status.busy": "2023-09-10T14:18:38.657988Z",
     "iopub.status.idle": "2023-09-10T14:23:49.780276Z",
     "shell.execute_reply": "2023-09-10T14:23:49.779273Z",
     "shell.execute_reply.started": "2023-09-10T14:18:38.658668Z"
    }
   },
   "outputs": [
    {
     "name": "stdout",
     "output_type": "stream",
     "text": [
      "Epoch 1/10\n"
     ]
    },
    {
     "name": "stderr",
     "output_type": "stream",
     "text": [
      "2023-09-10 14:18:39.447894: E tensorflow/core/grappler/optimizers/meta_optimizer.cc:954] layout failed: INVALID_ARGUMENT: Size of values 0 does not match size of permutation 4 @ fanin shape insequential_1/dropout/dropout/SelectV2-2-TransposeNHWCToNCHW-LayoutOptimizer\n"
     ]
    },
    {
     "name": "stdout",
     "output_type": "stream",
     "text": [
      "1688/1688 [==============================] - 31s 15ms/step - loss: 2.2342 - accuracy: 0.1792 - val_loss: 1.7275 - val_accuracy: 0.5280\n",
      "Epoch 2/10\n",
      "1688/1688 [==============================] - 23s 14ms/step - loss: 1.7425 - accuracy: 0.3722 - val_loss: 0.9326 - val_accuracy: 0.7338\n",
      "Epoch 3/10\n",
      "1688/1688 [==============================] - 24s 14ms/step - loss: 1.3223 - accuracy: 0.5434 - val_loss: 0.6236 - val_accuracy: 0.8318\n",
      "Epoch 4/10\n",
      "1688/1688 [==============================] - 24s 14ms/step - loss: 1.0817 - accuracy: 0.6325 - val_loss: 0.4778 - val_accuracy: 0.8545\n",
      "Epoch 5/10\n",
      "1688/1688 [==============================] - 24s 14ms/step - loss: 0.9425 - accuracy: 0.6857 - val_loss: 0.4083 - val_accuracy: 0.8682\n",
      "Epoch 6/10\n",
      "1688/1688 [==============================] - 23s 13ms/step - loss: 0.8422 - accuracy: 0.7211 - val_loss: 0.3480 - val_accuracy: 0.8897\n",
      "Epoch 7/10\n",
      "1688/1688 [==============================] - 22s 13ms/step - loss: 0.7750 - accuracy: 0.7454 - val_loss: 0.3178 - val_accuracy: 0.9003\n",
      "Epoch 8/10\n",
      "1688/1688 [==============================] - 22s 13ms/step - loss: 0.7131 - accuracy: 0.7681 - val_loss: 0.2688 - val_accuracy: 0.9212\n",
      "Epoch 9/10\n",
      "1688/1688 [==============================] - 22s 13ms/step - loss: 0.6772 - accuracy: 0.7800 - val_loss: 0.2452 - val_accuracy: 0.9242\n",
      "Epoch 10/10\n",
      "1688/1688 [==============================] - 23s 13ms/step - loss: 0.6268 - accuracy: 0.7979 - val_loss: 0.2134 - val_accuracy: 0.9383\n"
     ]
    }
   ],
   "source": [
    "# Fit the model\n",
    "history = model.fit(train_datagen.flow(X_train,y_train, batch_size=batch_size),\n",
    "                              epochs = epochs, validation_data = (X_val,y_val))"
   ]
  },
  {
   "cell_type": "code",
   "execution_count": 21,
   "metadata": {
    "execution": {
     "iopub.execute_input": "2023-09-10T14:23:49.782886Z",
     "iopub.status.busy": "2023-09-10T14:23:49.782408Z",
     "iopub.status.idle": "2023-09-10T14:23:51.273491Z",
     "shell.execute_reply": "2023-09-10T14:23:51.271702Z",
     "shell.execute_reply.started": "2023-09-10T14:23:49.782851Z"
    }
   },
   "outputs": [
    {
     "name": "stdout",
     "output_type": "stream",
     "text": [
      "313/313 [==============================] - 1s 2ms/step\n",
      "              precision    recall  f1-score   support\n",
      "\n",
      "           0       0.98      0.99      0.98       980\n",
      "           1       0.99      0.99      0.99      1135\n",
      "           2       0.94      0.88      0.91      1032\n",
      "           3       0.87      0.89      0.88      1010\n",
      "           4       0.99      0.96      0.97       982\n",
      "           5       0.87      0.87      0.87       892\n",
      "           6       0.93      0.97      0.95       958\n",
      "           7       0.97      0.95      0.96      1028\n",
      "           8       0.94      0.96      0.95       974\n",
      "           9       0.93      0.94      0.94      1009\n",
      "\n",
      "    accuracy                           0.94     10000\n",
      "   macro avg       0.94      0.94      0.94     10000\n",
      "weighted avg       0.94      0.94      0.94     10000\n",
      "\n"
     ]
    }
   ],
   "source": [
    "y_pred = np.argmax(model.predict(X_test), axis = -1)\n",
    "\n",
    "\n",
    "\n",
    "\n",
    "from sklearn.metrics import classification_report\n",
    "\n",
    "print(classification_report(y_test,y_pred))"
   ]
  },
  {
   "cell_type": "markdown",
   "metadata": {},
   "source": [
    "### Droping convolution layers"
   ]
  },
  {
   "cell_type": "code",
   "execution_count": 35,
   "metadata": {
    "execution": {
     "iopub.execute_input": "2023-09-10T15:09:22.176182Z",
     "iopub.status.busy": "2023-09-10T15:09:22.175777Z",
     "iopub.status.idle": "2023-09-10T15:09:22.247196Z",
     "shell.execute_reply": "2023-09-10T15:09:22.246172Z",
     "shell.execute_reply.started": "2023-09-10T15:09:22.176148Z"
    }
   },
   "outputs": [],
   "source": [
    "# Set the CNN model \n",
    "# my CNN architechture is In -> [[Conv2D->relu]*2 -> MaxPool2D -> Dropout]*2 -> Flatten -> Dense -> Dropout -> Out\n",
    "\n",
    "model = Sequential()\n",
    "\n",
    "model.add(Conv2D(filters = 32, kernel_size = (3,3),padding = 'Same', \n",
    "                 activation ='relu', input_shape = (28,28,1)))\n",
    "\n",
    "model.add(MaxPooling2D(pool_size=(2,2)))\n",
    "\n",
    "\n",
    "\n",
    "model.add(Conv2D(filters = 64, kernel_size = (3,3),padding = 'Same', \n",
    "                 activation ='relu'))\n",
    "model.add(MaxPooling2D(pool_size=(2,2), strides=(2,2)))\n",
    "# model.add(Conv2D(filters = 64, kernel_size = (3,3),padding = 'Same', \n",
    "#                  activation ='relu'))\n",
    "# model.add(MaxPooling2D(pool_size=(2,2)))\n",
    "\n",
    "\n",
    "\n",
    "model.add(Flatten())\n",
    "model.add(Dense(256, activation = \"relu\"))\n",
    "\n",
    "model.add(Dense(10, activation = \"softmax\"))"
   ]
  },
  {
   "cell_type": "code",
   "execution_count": 36,
   "metadata": {
    "execution": {
     "iopub.execute_input": "2023-09-10T15:09:22.807787Z",
     "iopub.status.busy": "2023-09-10T15:09:22.807379Z",
     "iopub.status.idle": "2023-09-10T15:09:22.820411Z",
     "shell.execute_reply": "2023-09-10T15:09:22.819240Z",
     "shell.execute_reply.started": "2023-09-10T15:09:22.807756Z"
    }
   },
   "outputs": [],
   "source": [
    "# Compile the model\n",
    "model.compile(optimizer = SGD(learning_rate=0.001, momentum=0.9, decay=0.0) , loss = \"categorical_crossentropy\", metrics=[\"accuracy\"])"
   ]
  },
  {
   "cell_type": "code",
   "execution_count": 37,
   "metadata": {
    "execution": {
     "iopub.execute_input": "2023-09-10T15:09:23.534603Z",
     "iopub.status.busy": "2023-09-10T15:09:23.534243Z",
     "iopub.status.idle": "2023-09-10T15:14:00.389230Z",
     "shell.execute_reply": "2023-09-10T15:14:00.388165Z",
     "shell.execute_reply.started": "2023-09-10T15:09:23.534573Z"
    }
   },
   "outputs": [
    {
     "name": "stdout",
     "output_type": "stream",
     "text": [
      "Epoch 1/10\n",
      "1688/1688 [==============================] - 22s 13ms/step - loss: 1.7262 - accuracy: 0.3953 - val_loss: 0.7394 - val_accuracy: 0.7563\n",
      "Epoch 2/10\n",
      "1688/1688 [==============================] - 21s 13ms/step - loss: 0.8358 - accuracy: 0.7208 - val_loss: 0.4675 - val_accuracy: 0.8355\n",
      "Epoch 3/10\n",
      "1688/1688 [==============================] - 22s 13ms/step - loss: 0.6259 - accuracy: 0.7945 - val_loss: 0.3461 - val_accuracy: 0.8868\n",
      "Epoch 4/10\n",
      "1688/1688 [==============================] - 22s 13ms/step - loss: 0.5213 - accuracy: 0.8295 - val_loss: 0.2872 - val_accuracy: 0.9043\n",
      "Epoch 5/10\n",
      "1688/1688 [==============================] - 22s 13ms/step - loss: 0.4558 - accuracy: 0.8529 - val_loss: 0.2385 - val_accuracy: 0.9240\n",
      "Epoch 6/10\n",
      "1688/1688 [==============================] - 21s 13ms/step - loss: 0.4124 - accuracy: 0.8684 - val_loss: 0.2077 - val_accuracy: 0.9333\n",
      "Epoch 7/10\n",
      "1688/1688 [==============================] - 22s 13ms/step - loss: 0.3754 - accuracy: 0.8799 - val_loss: 0.2093 - val_accuracy: 0.9367\n",
      "Epoch 8/10\n",
      "1688/1688 [==============================] - 22s 13ms/step - loss: 0.3416 - accuracy: 0.8936 - val_loss: 0.1815 - val_accuracy: 0.9405\n",
      "Epoch 9/10\n",
      "1688/1688 [==============================] - 22s 13ms/step - loss: 0.3221 - accuracy: 0.8982 - val_loss: 0.1543 - val_accuracy: 0.9553\n",
      "Epoch 10/10\n",
      "1688/1688 [==============================] - 21s 12ms/step - loss: 0.2967 - accuracy: 0.9059 - val_loss: 0.1413 - val_accuracy: 0.9568\n"
     ]
    }
   ],
   "source": [
    "# Fit the model\n",
    "history = model.fit(train_datagen.flow(X_train,y_train, batch_size=batch_size),\n",
    "                              epochs = epochs, validation_data = (X_val,y_val))"
   ]
  },
  {
   "cell_type": "code",
   "execution_count": 38,
   "metadata": {
    "execution": {
     "iopub.execute_input": "2023-09-10T15:21:58.005499Z",
     "iopub.status.busy": "2023-09-10T15:21:58.005109Z",
     "iopub.status.idle": "2023-09-10T15:21:58.800955Z",
     "shell.execute_reply": "2023-09-10T15:21:58.799745Z",
     "shell.execute_reply.started": "2023-09-10T15:21:58.005468Z"
    }
   },
   "outputs": [
    {
     "name": "stdout",
     "output_type": "stream",
     "text": [
      "313/313 [==============================] - 1s 2ms/step\n",
      "              precision    recall  f1-score   support\n",
      "\n",
      "           0       0.99      0.99      0.99       980\n",
      "           1       1.00      0.99      0.99      1135\n",
      "           2       0.89      0.95      0.92      1032\n",
      "           3       0.94      0.95      0.94      1010\n",
      "           4       0.99      0.97      0.98       982\n",
      "           5       0.91      0.89      0.90       892\n",
      "           6       0.98      0.94      0.96       958\n",
      "           7       0.95      0.97      0.96      1028\n",
      "           8       0.95      0.98      0.96       974\n",
      "           9       0.97      0.95      0.96      1009\n",
      "\n",
      "    accuracy                           0.96     10000\n",
      "   macro avg       0.96      0.96      0.96     10000\n",
      "weighted avg       0.96      0.96      0.96     10000\n",
      "\n"
     ]
    }
   ],
   "source": [
    "y_pred = np.argmax(model.predict(X_test), axis = -1)\n",
    "\n",
    "\n",
    "\n",
    "\n",
    "from sklearn.metrics import classification_report\n",
    "\n",
    "print(classification_report(y_test,y_pred))"
   ]
  },
  {
   "cell_type": "markdown",
   "metadata": {},
   "source": [
    "### Learning rate"
   ]
  },
  {
   "cell_type": "code",
   "execution_count": 30,
   "metadata": {
    "execution": {
     "iopub.execute_input": "2023-09-10T12:17:12.348549Z",
     "iopub.status.busy": "2023-09-10T12:17:12.347471Z",
     "iopub.status.idle": "2023-09-10T12:17:12.425907Z",
     "shell.execute_reply": "2023-09-10T12:17:12.424934Z",
     "shell.execute_reply.started": "2023-09-10T12:17:12.348489Z"
    }
   },
   "outputs": [],
   "source": [
    "# Set the CNN model \n",
    "# my CNN architechture is In -> [[Conv2D->relu]*2 -> MaxPool2D -> Dropout]*2 -> Flatten -> Dense -> Dropout -> Out\n",
    "\n",
    "model = Sequential()\n",
    "\n",
    "model.add(Conv2D(filters = 32, kernel_size = (3,3),padding = 'Same', \n",
    "                 activation ='relu', input_shape = (28,28,1)))\n",
    "\n",
    "model.add(MaxPooling2D(pool_size=(2,2)))\n",
    "\n",
    "\n",
    "\n",
    "model.add(Conv2D(filters = 64, kernel_size = (3,3),padding = 'Same', \n",
    "                 activation ='relu'))\n",
    "model.add(MaxPooling2D(pool_size=(2,2), strides=(2,2)))\n",
    "model.add(Conv2D(filters = 64, kernel_size = (3,3),padding = 'Same', \n",
    "                 activation ='relu'))\n",
    "model.add(MaxPooling2D(pool_size=(2,2)))\n",
    "\n",
    "\n",
    "\n",
    "model.add(Flatten())\n",
    "model.add(Dense(256, activation = \"relu\"))\n",
    "\n",
    "model.add(Dense(10, activation = \"softmax\"))"
   ]
  },
  {
   "cell_type": "code",
   "execution_count": 21,
   "metadata": {
    "execution": {
     "iopub.execute_input": "2023-09-10T11:55:54.079256Z",
     "iopub.status.busy": "2023-09-10T11:55:54.078901Z",
     "iopub.status.idle": "2023-09-10T11:55:54.090682Z",
     "shell.execute_reply": "2023-09-10T11:55:54.089636Z",
     "shell.execute_reply.started": "2023-09-10T11:55:54.079227Z"
    }
   },
   "outputs": [],
   "source": [
    "# Compile the model\n",
    "model.compile(optimizer = SGD(lr=0.01, momentum=0.9, decay=0.0) , loss = \"categorical_crossentropy\", metrics=[\"accuracy\"])"
   ]
  },
  {
   "cell_type": "code",
   "execution_count": 22,
   "metadata": {
    "execution": {
     "iopub.execute_input": "2023-09-10T11:55:56.432324Z",
     "iopub.status.busy": "2023-09-10T11:55:56.431930Z",
     "iopub.status.idle": "2023-09-10T12:00:47.182955Z",
     "shell.execute_reply": "2023-09-10T12:00:47.181902Z",
     "shell.execute_reply.started": "2023-09-10T11:55:56.432292Z"
    }
   },
   "outputs": [
    {
     "name": "stdout",
     "output_type": "stream",
     "text": [
      "Epoch 1/10\n",
      "1688/1688 [==============================] - 30s 14ms/step - loss: 0.8118 - accuracy: 0.7227 - val_loss: 0.1400 - val_accuracy: 0.9565\n",
      "Epoch 2/10\n",
      "1688/1688 [==============================] - 23s 14ms/step - loss: 0.2800 - accuracy: 0.9137 - val_loss: 0.1042 - val_accuracy: 0.9653\n",
      "Epoch 3/10\n",
      "1688/1688 [==============================] - 23s 14ms/step - loss: 0.2017 - accuracy: 0.9357 - val_loss: 0.0761 - val_accuracy: 0.9757\n",
      "Epoch 4/10\n",
      "1688/1688 [==============================] - 23s 14ms/step - loss: 0.1650 - accuracy: 0.9475 - val_loss: 0.0802 - val_accuracy: 0.9758\n",
      "Epoch 5/10\n",
      "1688/1688 [==============================] - 23s 14ms/step - loss: 0.1484 - accuracy: 0.9531 - val_loss: 0.0897 - val_accuracy: 0.9717\n",
      "Epoch 6/10\n",
      "1688/1688 [==============================] - 22s 13ms/step - loss: 0.1340 - accuracy: 0.9581 - val_loss: 0.0590 - val_accuracy: 0.9820\n",
      "Epoch 7/10\n",
      "1688/1688 [==============================] - 24s 14ms/step - loss: 0.1245 - accuracy: 0.9619 - val_loss: 0.0621 - val_accuracy: 0.9812\n",
      "Epoch 8/10\n",
      "1688/1688 [==============================] - 23s 14ms/step - loss: 0.1152 - accuracy: 0.9639 - val_loss: 0.0771 - val_accuracy: 0.9790\n",
      "Epoch 9/10\n",
      "1688/1688 [==============================] - 22s 13ms/step - loss: 0.1128 - accuracy: 0.9652 - val_loss: 0.0620 - val_accuracy: 0.9812\n",
      "Epoch 10/10\n",
      "1688/1688 [==============================] - 23s 14ms/step - loss: 0.1012 - accuracy: 0.9676 - val_loss: 0.0602 - val_accuracy: 0.9835\n"
     ]
    }
   ],
   "source": [
    "# Fit the model\n",
    "history = model.fit(train_datagen.flow(X_train,y_train, batch_size=batch_size),\n",
    "                              epochs = epochs, validation_data = (X_val,y_val))"
   ]
  },
  {
   "cell_type": "code",
   "execution_count": 23,
   "metadata": {
    "execution": {
     "iopub.execute_input": "2023-09-10T12:00:47.185591Z",
     "iopub.status.busy": "2023-09-10T12:00:47.185181Z",
     "iopub.status.idle": "2023-09-10T12:00:48.669665Z",
     "shell.execute_reply": "2023-09-10T12:00:48.668535Z",
     "shell.execute_reply.started": "2023-09-10T12:00:47.185556Z"
    }
   },
   "outputs": [
    {
     "name": "stdout",
     "output_type": "stream",
     "text": [
      "313/313 [==============================] - 1s 2ms/step\n",
      "              precision    recall  f1-score   support\n",
      "\n",
      "           0       0.99      1.00      1.00       980\n",
      "           1       1.00      0.99      0.99      1135\n",
      "           2       0.95      0.97      0.96      1032\n",
      "           3       0.97      1.00      0.98      1010\n",
      "           4       0.98      1.00      0.99       982\n",
      "           5       0.99      0.93      0.96       892\n",
      "           6       0.99      0.97      0.98       958\n",
      "           7       0.97      0.99      0.98      1028\n",
      "           8       0.99      0.99      0.99       974\n",
      "           9       0.99      0.98      0.98      1009\n",
      "\n",
      "    accuracy                           0.98     10000\n",
      "   macro avg       0.98      0.98      0.98     10000\n",
      "weighted avg       0.98      0.98      0.98     10000\n",
      "\n"
     ]
    }
   ],
   "source": [
    "y_pred = np.argmax(model.predict(X_test), axis = -1)\n",
    "\n",
    "\n",
    "\n",
    "\n",
    "from sklearn.metrics import classification_report\n",
    "\n",
    "print(classification_report(y_test,y_pred))"
   ]
  },
  {
   "cell_type": "code",
   "execution_count": 28,
   "metadata": {
    "execution": {
     "iopub.execute_input": "2023-09-10T12:08:08.319650Z",
     "iopub.status.busy": "2023-09-10T12:08:08.319257Z",
     "iopub.status.idle": "2023-09-10T12:08:08.331989Z",
     "shell.execute_reply": "2023-09-10T12:08:08.330976Z",
     "shell.execute_reply.started": "2023-09-10T12:08:08.319621Z"
    }
   },
   "outputs": [
    {
     "name": "stderr",
     "output_type": "stream",
     "text": [
      "/opt/conda/lib/python3.10/site-packages/keras/optimizers/legacy/gradient_descent.py:114: UserWarning: The `lr` argument is deprecated, use `learning_rate` instead.\n",
      "  super().__init__(name, **kwargs)\n"
     ]
    }
   ],
   "source": [
    "# Compile the model\n",
    "model.compile(optimizer = SGD(lr=0.1, momentum=0.9, decay=0.0) , loss = \"categorical_crossentropy\", metrics=[\"accuracy\"])"
   ]
  },
  {
   "cell_type": "code",
   "execution_count": 29,
   "metadata": {
    "execution": {
     "iopub.execute_input": "2023-09-10T12:08:08.920102Z",
     "iopub.status.busy": "2023-09-10T12:08:08.919010Z",
     "iopub.status.idle": "2023-09-10T12:12:15.247805Z",
     "shell.execute_reply": "2023-09-10T12:12:15.246550Z",
     "shell.execute_reply.started": "2023-09-10T12:08:08.920061Z"
    }
   },
   "outputs": [
    {
     "name": "stdout",
     "output_type": "stream",
     "text": [
      "Epoch 1/10\n",
      "1688/1688 [==============================] - 24s 14ms/step - loss: 1.5558 - accuracy: 0.4830 - val_loss: 2.3316 - val_accuracy: 0.1090\n",
      "Epoch 2/10\n",
      "1688/1688 [==============================] - 24s 14ms/step - loss: 2.3082 - accuracy: 0.1043 - val_loss: 2.3115 - val_accuracy: 0.0967\n",
      "Epoch 3/10\n",
      "1688/1688 [==============================] - 23s 14ms/step - loss: 2.3077 - accuracy: 0.1048 - val_loss: 2.3096 - val_accuracy: 0.0982\n",
      "Epoch 4/10\n",
      "1688/1688 [==============================] - 22s 13ms/step - loss: 2.3078 - accuracy: 0.1050 - val_loss: 2.3098 - val_accuracy: 0.0953\n",
      "Epoch 5/10\n",
      "1688/1688 [==============================] - 23s 14ms/step - loss: 2.3078 - accuracy: 0.1036 - val_loss: 2.3126 - val_accuracy: 0.1055\n",
      "Epoch 6/10\n",
      "1688/1688 [==============================] - 22s 13ms/step - loss: 2.3085 - accuracy: 0.1043 - val_loss: 2.3200 - val_accuracy: 0.1053\n",
      "Epoch 7/10\n",
      "1688/1688 [==============================] - 22s 13ms/step - loss: 2.3086 - accuracy: 0.1042 - val_loss: 2.3058 - val_accuracy: 0.1090\n",
      "Epoch 8/10\n",
      "1688/1688 [==============================] - 23s 13ms/step - loss: 2.3089 - accuracy: 0.1035 - val_loss: 2.3084 - val_accuracy: 0.1053\n",
      "Epoch 9/10\n",
      "1688/1688 [==============================] - 23s 14ms/step - loss: 2.3082 - accuracy: 0.1050 - val_loss: 2.3034 - val_accuracy: 0.1090\n",
      "Epoch 10/10\n",
      "1688/1688 [==============================] - 22s 13ms/step - loss: 2.3082 - accuracy: 0.1047 - val_loss: 2.3071 - val_accuracy: 0.1090\n"
     ]
    }
   ],
   "source": [
    "# Fit the model\n",
    "history = model.fit(train_datagen.flow(X_train,y_train, batch_size=batch_size),\n",
    "                              epochs = epochs, validation_data = (X_val,y_val))"
   ]
  },
  {
   "cell_type": "code",
   "execution_count": 26,
   "metadata": {
    "execution": {
     "iopub.execute_input": "2023-09-10T12:05:48.944823Z",
     "iopub.status.busy": "2023-09-10T12:05:48.944450Z",
     "iopub.status.idle": "2023-09-10T12:05:49.750847Z",
     "shell.execute_reply": "2023-09-10T12:05:49.749875Z",
     "shell.execute_reply.started": "2023-09-10T12:05:48.944789Z"
    }
   },
   "outputs": [
    {
     "name": "stdout",
     "output_type": "stream",
     "text": [
      "313/313 [==============================] - 1s 2ms/step\n",
      "              precision    recall  f1-score   support\n",
      "\n",
      "           0       0.00      0.00      0.00       980\n",
      "           1       0.11      1.00      0.20      1135\n",
      "           2       0.00      0.00      0.00      1032\n",
      "           3       0.00      0.00      0.00      1010\n",
      "           4       0.00      0.00      0.00       982\n",
      "           5       0.00      0.00      0.00       892\n",
      "           6       0.00      0.00      0.00       958\n",
      "           7       0.00      0.00      0.00      1028\n",
      "           8       0.00      0.00      0.00       974\n",
      "           9       0.00      0.00      0.00      1009\n",
      "\n",
      "    accuracy                           0.11     10000\n",
      "   macro avg       0.01      0.10      0.02     10000\n",
      "weighted avg       0.01      0.11      0.02     10000\n",
      "\n"
     ]
    },
    {
     "name": "stderr",
     "output_type": "stream",
     "text": [
      "/opt/conda/lib/python3.10/site-packages/sklearn/metrics/_classification.py:1344: UndefinedMetricWarning: Precision and F-score are ill-defined and being set to 0.0 in labels with no predicted samples. Use `zero_division` parameter to control this behavior.\n",
      "  _warn_prf(average, modifier, msg_start, len(result))\n",
      "/opt/conda/lib/python3.10/site-packages/sklearn/metrics/_classification.py:1344: UndefinedMetricWarning: Precision and F-score are ill-defined and being set to 0.0 in labels with no predicted samples. Use `zero_division` parameter to control this behavior.\n",
      "  _warn_prf(average, modifier, msg_start, len(result))\n",
      "/opt/conda/lib/python3.10/site-packages/sklearn/metrics/_classification.py:1344: UndefinedMetricWarning: Precision and F-score are ill-defined and being set to 0.0 in labels with no predicted samples. Use `zero_division` parameter to control this behavior.\n",
      "  _warn_prf(average, modifier, msg_start, len(result))\n"
     ]
    }
   ],
   "source": [
    "y_pred = np.argmax(model.predict(X_test), axis = -1)\n",
    "\n",
    "\n",
    "\n",
    "\n",
    "from sklearn.metrics import classification_report\n",
    "\n",
    "print(classification_report(y_test,y_pred))"
   ]
  },
  {
   "cell_type": "code",
   "execution_count": 31,
   "metadata": {
    "execution": {
     "iopub.execute_input": "2023-09-10T12:17:24.091157Z",
     "iopub.status.busy": "2023-09-10T12:17:24.090773Z",
     "iopub.status.idle": "2023-09-10T12:17:24.102813Z",
     "shell.execute_reply": "2023-09-10T12:17:24.101906Z",
     "shell.execute_reply.started": "2023-09-10T12:17:24.091125Z"
    }
   },
   "outputs": [],
   "source": [
    "# Compile the model\n",
    "model.compile(optimizer = SGD(lr=0.0001, momentum=0.9, decay=0.0) , loss = \"categorical_crossentropy\", metrics=[\"accuracy\"])"
   ]
  },
  {
   "cell_type": "code",
   "execution_count": 32,
   "metadata": {
    "execution": {
     "iopub.execute_input": "2023-09-10T12:17:24.438944Z",
     "iopub.status.busy": "2023-09-10T12:17:24.438594Z",
     "iopub.status.idle": "2023-09-10T12:22:05.854356Z",
     "shell.execute_reply": "2023-09-10T12:22:05.853382Z",
     "shell.execute_reply.started": "2023-09-10T12:17:24.438917Z"
    }
   },
   "outputs": [
    {
     "name": "stdout",
     "output_type": "stream",
     "text": [
      "Epoch 1/10\n",
      "1688/1688 [==============================] - 23s 13ms/step - loss: 2.2982 - accuracy: 0.1236 - val_loss: 2.2759 - val_accuracy: 0.1697\n",
      "Epoch 2/10\n",
      "1688/1688 [==============================] - 22s 13ms/step - loss: 2.2768 - accuracy: 0.2030 - val_loss: 2.2383 - val_accuracy: 0.2677\n",
      "Epoch 3/10\n",
      "1688/1688 [==============================] - 23s 13ms/step - loss: 2.2399 - accuracy: 0.2529 - val_loss: 2.1452 - val_accuracy: 0.4288\n",
      "Epoch 4/10\n",
      "1688/1688 [==============================] - 22s 13ms/step - loss: 2.1358 - accuracy: 0.3098 - val_loss: 1.8338 - val_accuracy: 0.5007\n",
      "Epoch 5/10\n",
      "1688/1688 [==============================] - 23s 13ms/step - loss: 1.8690 - accuracy: 0.3696 - val_loss: 1.3069 - val_accuracy: 0.6473\n",
      "Epoch 6/10\n",
      "1688/1688 [==============================] - 23s 14ms/step - loss: 1.5854 - accuracy: 0.4585 - val_loss: 1.0088 - val_accuracy: 0.7282\n",
      "Epoch 7/10\n",
      "1688/1688 [==============================] - 22s 13ms/step - loss: 1.2925 - accuracy: 0.5714 - val_loss: 0.7374 - val_accuracy: 0.7978\n",
      "Epoch 8/10\n",
      "1688/1688 [==============================] - 23s 13ms/step - loss: 1.0597 - accuracy: 0.6477 - val_loss: 0.5879 - val_accuracy: 0.8308\n",
      "Epoch 9/10\n",
      "1688/1688 [==============================] - 23s 13ms/step - loss: 0.9235 - accuracy: 0.6924 - val_loss: 0.5597 - val_accuracy: 0.8232\n",
      "Epoch 10/10\n",
      "1688/1688 [==============================] - 23s 14ms/step - loss: 0.8432 - accuracy: 0.7209 - val_loss: 0.4842 - val_accuracy: 0.8528\n"
     ]
    }
   ],
   "source": [
    "# Fit the model\n",
    "history = model.fit(train_datagen.flow(X_train,y_train, batch_size=batch_size),\n",
    "                              epochs = epochs, validation_data = (X_val,y_val))"
   ]
  },
  {
   "cell_type": "code",
   "execution_count": 33,
   "metadata": {
    "execution": {
     "iopub.execute_input": "2023-09-10T12:22:05.857186Z",
     "iopub.status.busy": "2023-09-10T12:22:05.856748Z",
     "iopub.status.idle": "2023-09-10T12:22:06.694455Z",
     "shell.execute_reply": "2023-09-10T12:22:06.693556Z",
     "shell.execute_reply.started": "2023-09-10T12:22:05.857152Z"
    }
   },
   "outputs": [
    {
     "name": "stdout",
     "output_type": "stream",
     "text": [
      "313/313 [==============================] - 1s 2ms/step\n",
      "              precision    recall  f1-score   support\n",
      "\n",
      "           0       0.97      0.89      0.93       980\n",
      "           1       0.96      0.99      0.97      1135\n",
      "           2       0.87      0.87      0.87      1032\n",
      "           3       0.72      0.79      0.75      1010\n",
      "           4       0.97      0.87      0.92       982\n",
      "           5       0.70      0.73      0.72       892\n",
      "           6       0.88      0.89      0.88       958\n",
      "           7       0.84      0.88      0.86      1028\n",
      "           8       0.84      0.84      0.84       974\n",
      "           9       0.88      0.84      0.86      1009\n",
      "\n",
      "    accuracy                           0.86     10000\n",
      "   macro avg       0.86      0.86      0.86     10000\n",
      "weighted avg       0.86      0.86      0.86     10000\n",
      "\n"
     ]
    }
   ],
   "source": [
    "y_pred = np.argmax(model.predict(X_test), axis = -1)\n",
    "\n",
    "\n",
    "from sklearn.metrics import classification_report\n",
    "\n",
    "print(classification_report(y_test,y_pred))"
   ]
  },
  {
   "cell_type": "code",
   "execution_count": null,
   "metadata": {},
   "outputs": [],
   "source": []
  }
 ],
 "metadata": {
  "kernelspec": {
   "display_name": "Python 3 (ipykernel)",
   "language": "python",
   "name": "python3"
  },
  "language_info": {
   "codemirror_mode": {
    "name": "ipython",
    "version": 3
   },
   "file_extension": ".py",
   "mimetype": "text/x-python",
   "name": "python",
   "nbconvert_exporter": "python",
   "pygments_lexer": "ipython3",
   "version": "3.11.1"
  }
 },
 "nbformat": 4,
 "nbformat_minor": 4
}
